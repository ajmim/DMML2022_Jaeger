{
 "cells": [
  {
   "cell_type": "markdown",
   "metadata": {
    "id": "af19791f"
   },
   "source": [
    "# Data Mining and Machine Learning - Assignment questions 1 to 3\n",
    "\n",
    "> Topics Covered: Data Cleaning, Exploratory Data Analysis, Visualization and Regression \n",
    "\n",
    "**Due: Oct 23 @23.59 (Lausanne Time)**\n",
    "\n",
    "\n",
    "This assignment is the opportunity to apply the different concepts seen in class so far to a new dataset on the life expectancy.\n",
    "\n",
    "Run the first few cells to load the dataset and then get started with the questions! **Pay attention:** in order to start working, open the notebook in Colab, and make sure to make a copy of the notebook in your private Google Drive. After you finished, export the notebook as a .ipynb file and upload it on Moodle (Section \"Assignment\").\n",
    "\n",
    "To complete the assignment you have to do ***both***:\n",
    "\n",
    "1. Complete the exercises and submit your Python notebook\n",
    "2. Answer the questions to the quiz on Moodle\n",
    ">Note: You can only complete the quiz one time. Have your notebook with the answers ready for answering the quiz. The quiz will be made available Monday 10th October at 7p.m.\n",
    "\n",
    "Only the quiz questions accounts for your grade. Nevertheless, the answers to the quiz should be supported by your code in the notebook. If they are not, you will not receive points for them. \n",
    "\n",
    "**IMPORTANT!** You can discuss the questions with other students but **do not exchange code!** This is individual work. We will run your code and check for similarities. In case of high similarity scores between two notebooks, both the authors will get 0 points for the assignment.\n",
    "\n",
    "You can post your questions in slack channel #assignments.\n",
    "\n",
    "\n",
    "If there is need for further clarifications on the questions, after the assignment is released, we will update the file on GitHub, so make sure you check the git repo of the class for updates.\n",
    "\n",
    "Good luck!"
   ],
   "id": "af19791f"
  },
  {
   "cell_type": "markdown",
   "metadata": {
    "id": "5400e551"
   },
   "source": [
    "[![Open in Colab](https://colab.research.google.com/assets/colab-badge.svg)](https://colab.research.google.com/github/michalis0/DataMining_and_MachineLearning/blob/master/Assignment/Assignment_Q1_to_Q3_2022/Assignment_Q1_to_Q3_2022.ipynb)\n",
    "\n",
    "\n",
    "\n",
    "\n"
   ],
   "id": "5400e551"
  },
  {
   "cell_type": "code",
   "execution_count": null,
   "metadata": {
    "id": "a9c653d4"
   },
   "outputs": [],
   "source": [
    "# Import required packages\n",
    "\n",
    "import pandas as pd\n",
    "import numpy as np\n",
    "import matplotlib.pyplot as plt\n",
    "import seaborn as sns\n",
    "from sklearn.model_selection import train_test_split\n",
    "from sklearn.linear_model import LinearRegression\n",
    "from sklearn.metrics import mean_absolute_error, r2_score\n",
    "from sklearn.preprocessing import StandardScaler\n",
    "from sklearn.compose import ColumnTransformer\n",
    "import math\n",
    "\n",
    "%matplotlib inline\n",
    "sns.set_style(\"whitegrid\")\n"
   ],
   "id": "a9c653d4"
  },
  {
   "cell_type": "code",
   "execution_count": null,
   "metadata": {
    "id": "ac8305d0"
   },
   "outputs": [],
   "source": [
    "# Load the data\n",
    "df = pd.read_csv(\"https://raw.githubusercontent.com/michalis0/DataMining_and_MachineLearning/master/Assignment/Assignment_Q1_to_Q3_2022/Life%20Expectancy%20Data.csv\")\n"
   ],
   "id": "ac8305d0"
  },
  {
   "cell_type": "markdown",
   "metadata": {
    "id": "20330efe"
   },
   "source": [
    "For this assignment, we use data gathered by the WHO (World Health Organization) regarding many countries, over several years. The dataset includes information on items purchased from this store, including for each item or article:\n",
    "* **Country**\n",
    "* **Year**: year of the measurement\n",
    "* **Status**: Developed or Developing status\n",
    "* **Life expectancy**: Life Expectancy in years\n",
    "* **Adult Mortality**: Adult Mortality Rates of both sexes (probability of dying between 15 and 60 years per 1000 population)\n",
    "* **Alcohol**: Alcohol, recorded per capita (individuals aged 15+) consumption (in litres of pure alcohol)\n",
    "* **Hepatitis B**: Hepatitis B (HepB) immunization coverage among 1-year-olds (%)\n",
    "* **Measles**: Measles - number of reported cases per 1000 population\n",
    "* **BMI**: Average Body Mass Index of entire population\n",
    "* **under-five deaths**: Number of under-five deaths per 1000 population\n",
    "* **Polio**: Polio (Pol3) immunization coverage among 1-year-olds (%)\n",
    "* **Total expenditure**: General government expenditure on health as a percentage of total government expenditure (%)\n",
    "* **Diphtheria**: Diphtheria tetanus toxoid and pertussis (DTP3) immunization coverage among 1-year-olds (%)\n",
    "* **HIV/AIDS**: Deaths per 1 000 live births HIV/AIDS (0-4 years)\n",
    "* **GDP**: Gross Domestic Product per capita (in USD)\n",
    "* **Population**: Population of the country\n",
    "* **thinness 1-19 years**: Proportion of thinness among children and adolescents for Age 10 to 19 (in %)\n",
    "* **thinness 5-9 years**: Proportion of thinness among children for Age 5 to 9 (in %)\n",
    "* **Income composition of resources**: Human Development Index in terms of income composition of resources (index ranging from 0 to 1)\n",
    "* **Schooling**: Number of years of schooling"
   ],
   "id": "20330efe"
  },
  {
   "cell_type": "markdown",
   "metadata": {
    "id": "2a292c91"
   },
   "source": [
    "## 1. Understand and Clean the Dataset\n",
    "### 1.1 Initial exploration\n",
    "\n",
    ">1.1.1 Show the first 5 or 10 rows to get an idea of the data. "
   ],
   "id": "2a292c91"
  },
  {
   "cell_type": "code",
   "execution_count": null,
   "metadata": {
    "colab": {
     "base_uri": "https://localhost:8080/",
     "height": 352
    },
    "id": "57577de4",
    "outputId": "631024f7-00d0-4d5f-b135-91ec3046d2fd"
   },
   "outputs": [
    {
     "output_type": "execute_result",
     "data": {
      "text/plain": [
       "       Country  Year      Status  Life expectancy   Adult Mortality  \\\n",
       "0  Afghanistan  2015  Developing              65.0            263.0   \n",
       "1  Afghanistan  2014  Developing              59.9            271.0   \n",
       "2  Afghanistan  2013  Developing              59.9            268.0   \n",
       "3  Afghanistan  2012  Developing              59.5            272.0   \n",
       "4  Afghanistan  2011  Developing              59.2            275.0   \n",
       "\n",
       "   infant deaths  Alcohol  percentage expenditure  Hepatitis B  Measles   ...  \\\n",
       "0             62     0.01               71.279624         65.0      1154  ...   \n",
       "1             64     0.01               73.523582         62.0       492  ...   \n",
       "2             66     0.01               73.219243         64.0       430  ...   \n",
       "3             69     0.01               78.184215         67.0      2787  ...   \n",
       "4             71     0.01                7.097109         68.0      3013  ...   \n",
       "\n",
       "   Polio  Total expenditure  Diphtheria    HIV/AIDS         GDP  Population  \\\n",
       "0    6.0               8.16         65.0        0.1  584.259210  33736494.0   \n",
       "1   58.0               8.18         62.0        0.1  612.696514    327582.0   \n",
       "2   62.0               8.13         64.0        0.1  631.744976  31731688.0   \n",
       "3   67.0               8.52         67.0        0.1  669.959000   3696958.0   \n",
       "4   68.0               7.87         68.0        0.1   63.537231   2978599.0   \n",
       "\n",
       "    thinness  1-19 years   thinness 5-9 years  \\\n",
       "0                   17.2                 17.3   \n",
       "1                   17.5                 17.5   \n",
       "2                   17.7                 17.7   \n",
       "3                   17.9                 18.0   \n",
       "4                   18.2                 18.2   \n",
       "\n",
       "   Income composition of resources  Schooling  \n",
       "0                            0.479       10.1  \n",
       "1                            0.476       10.0  \n",
       "2                            0.470        9.9  \n",
       "3                            0.463        9.8  \n",
       "4                            0.454        9.5  \n",
       "\n",
       "[5 rows x 22 columns]"
      ],
      "text/html": [
       "\n",
       "  <div id=\"df-bccce0f8-7d9f-4a12-9420-21d8912d36bc\">\n",
       "    <div class=\"colab-df-container\">\n",
       "      <div>\n",
       "<style scoped>\n",
       "    .dataframe tbody tr th:only-of-type {\n",
       "        vertical-align: middle;\n",
       "    }\n",
       "\n",
       "    .dataframe tbody tr th {\n",
       "        vertical-align: top;\n",
       "    }\n",
       "\n",
       "    .dataframe thead th {\n",
       "        text-align: right;\n",
       "    }\n",
       "</style>\n",
       "<table border=\"1\" class=\"dataframe\">\n",
       "  <thead>\n",
       "    <tr style=\"text-align: right;\">\n",
       "      <th></th>\n",
       "      <th>Country</th>\n",
       "      <th>Year</th>\n",
       "      <th>Status</th>\n",
       "      <th>Life expectancy</th>\n",
       "      <th>Adult Mortality</th>\n",
       "      <th>infant deaths</th>\n",
       "      <th>Alcohol</th>\n",
       "      <th>percentage expenditure</th>\n",
       "      <th>Hepatitis B</th>\n",
       "      <th>Measles</th>\n",
       "      <th>...</th>\n",
       "      <th>Polio</th>\n",
       "      <th>Total expenditure</th>\n",
       "      <th>Diphtheria</th>\n",
       "      <th>HIV/AIDS</th>\n",
       "      <th>GDP</th>\n",
       "      <th>Population</th>\n",
       "      <th>thinness  1-19 years</th>\n",
       "      <th>thinness 5-9 years</th>\n",
       "      <th>Income composition of resources</th>\n",
       "      <th>Schooling</th>\n",
       "    </tr>\n",
       "  </thead>\n",
       "  <tbody>\n",
       "    <tr>\n",
       "      <th>0</th>\n",
       "      <td>Afghanistan</td>\n",
       "      <td>2015</td>\n",
       "      <td>Developing</td>\n",
       "      <td>65.0</td>\n",
       "      <td>263.0</td>\n",
       "      <td>62</td>\n",
       "      <td>0.01</td>\n",
       "      <td>71.279624</td>\n",
       "      <td>65.0</td>\n",
       "      <td>1154</td>\n",
       "      <td>...</td>\n",
       "      <td>6.0</td>\n",
       "      <td>8.16</td>\n",
       "      <td>65.0</td>\n",
       "      <td>0.1</td>\n",
       "      <td>584.259210</td>\n",
       "      <td>33736494.0</td>\n",
       "      <td>17.2</td>\n",
       "      <td>17.3</td>\n",
       "      <td>0.479</td>\n",
       "      <td>10.1</td>\n",
       "    </tr>\n",
       "    <tr>\n",
       "      <th>1</th>\n",
       "      <td>Afghanistan</td>\n",
       "      <td>2014</td>\n",
       "      <td>Developing</td>\n",
       "      <td>59.9</td>\n",
       "      <td>271.0</td>\n",
       "      <td>64</td>\n",
       "      <td>0.01</td>\n",
       "      <td>73.523582</td>\n",
       "      <td>62.0</td>\n",
       "      <td>492</td>\n",
       "      <td>...</td>\n",
       "      <td>58.0</td>\n",
       "      <td>8.18</td>\n",
       "      <td>62.0</td>\n",
       "      <td>0.1</td>\n",
       "      <td>612.696514</td>\n",
       "      <td>327582.0</td>\n",
       "      <td>17.5</td>\n",
       "      <td>17.5</td>\n",
       "      <td>0.476</td>\n",
       "      <td>10.0</td>\n",
       "    </tr>\n",
       "    <tr>\n",
       "      <th>2</th>\n",
       "      <td>Afghanistan</td>\n",
       "      <td>2013</td>\n",
       "      <td>Developing</td>\n",
       "      <td>59.9</td>\n",
       "      <td>268.0</td>\n",
       "      <td>66</td>\n",
       "      <td>0.01</td>\n",
       "      <td>73.219243</td>\n",
       "      <td>64.0</td>\n",
       "      <td>430</td>\n",
       "      <td>...</td>\n",
       "      <td>62.0</td>\n",
       "      <td>8.13</td>\n",
       "      <td>64.0</td>\n",
       "      <td>0.1</td>\n",
       "      <td>631.744976</td>\n",
       "      <td>31731688.0</td>\n",
       "      <td>17.7</td>\n",
       "      <td>17.7</td>\n",
       "      <td>0.470</td>\n",
       "      <td>9.9</td>\n",
       "    </tr>\n",
       "    <tr>\n",
       "      <th>3</th>\n",
       "      <td>Afghanistan</td>\n",
       "      <td>2012</td>\n",
       "      <td>Developing</td>\n",
       "      <td>59.5</td>\n",
       "      <td>272.0</td>\n",
       "      <td>69</td>\n",
       "      <td>0.01</td>\n",
       "      <td>78.184215</td>\n",
       "      <td>67.0</td>\n",
       "      <td>2787</td>\n",
       "      <td>...</td>\n",
       "      <td>67.0</td>\n",
       "      <td>8.52</td>\n",
       "      <td>67.0</td>\n",
       "      <td>0.1</td>\n",
       "      <td>669.959000</td>\n",
       "      <td>3696958.0</td>\n",
       "      <td>17.9</td>\n",
       "      <td>18.0</td>\n",
       "      <td>0.463</td>\n",
       "      <td>9.8</td>\n",
       "    </tr>\n",
       "    <tr>\n",
       "      <th>4</th>\n",
       "      <td>Afghanistan</td>\n",
       "      <td>2011</td>\n",
       "      <td>Developing</td>\n",
       "      <td>59.2</td>\n",
       "      <td>275.0</td>\n",
       "      <td>71</td>\n",
       "      <td>0.01</td>\n",
       "      <td>7.097109</td>\n",
       "      <td>68.0</td>\n",
       "      <td>3013</td>\n",
       "      <td>...</td>\n",
       "      <td>68.0</td>\n",
       "      <td>7.87</td>\n",
       "      <td>68.0</td>\n",
       "      <td>0.1</td>\n",
       "      <td>63.537231</td>\n",
       "      <td>2978599.0</td>\n",
       "      <td>18.2</td>\n",
       "      <td>18.2</td>\n",
       "      <td>0.454</td>\n",
       "      <td>9.5</td>\n",
       "    </tr>\n",
       "  </tbody>\n",
       "</table>\n",
       "<p>5 rows × 22 columns</p>\n",
       "</div>\n",
       "      <button class=\"colab-df-convert\" onclick=\"convertToInteractive('df-bccce0f8-7d9f-4a12-9420-21d8912d36bc')\"\n",
       "              title=\"Convert this dataframe to an interactive table.\"\n",
       "              style=\"display:none;\">\n",
       "        \n",
       "  <svg xmlns=\"http://www.w3.org/2000/svg\" height=\"24px\"viewBox=\"0 0 24 24\"\n",
       "       width=\"24px\">\n",
       "    <path d=\"M0 0h24v24H0V0z\" fill=\"none\"/>\n",
       "    <path d=\"M18.56 5.44l.94 2.06.94-2.06 2.06-.94-2.06-.94-.94-2.06-.94 2.06-2.06.94zm-11 1L8.5 8.5l.94-2.06 2.06-.94-2.06-.94L8.5 2.5l-.94 2.06-2.06.94zm10 10l.94 2.06.94-2.06 2.06-.94-2.06-.94-.94-2.06-.94 2.06-2.06.94z\"/><path d=\"M17.41 7.96l-1.37-1.37c-.4-.4-.92-.59-1.43-.59-.52 0-1.04.2-1.43.59L10.3 9.45l-7.72 7.72c-.78.78-.78 2.05 0 2.83L4 21.41c.39.39.9.59 1.41.59.51 0 1.02-.2 1.41-.59l7.78-7.78 2.81-2.81c.8-.78.8-2.07 0-2.86zM5.41 20L4 18.59l7.72-7.72 1.47 1.35L5.41 20z\"/>\n",
       "  </svg>\n",
       "      </button>\n",
       "      \n",
       "  <style>\n",
       "    .colab-df-container {\n",
       "      display:flex;\n",
       "      flex-wrap:wrap;\n",
       "      gap: 12px;\n",
       "    }\n",
       "\n",
       "    .colab-df-convert {\n",
       "      background-color: #E8F0FE;\n",
       "      border: none;\n",
       "      border-radius: 50%;\n",
       "      cursor: pointer;\n",
       "      display: none;\n",
       "      fill: #1967D2;\n",
       "      height: 32px;\n",
       "      padding: 0 0 0 0;\n",
       "      width: 32px;\n",
       "    }\n",
       "\n",
       "    .colab-df-convert:hover {\n",
       "      background-color: #E2EBFA;\n",
       "      box-shadow: 0px 1px 2px rgba(60, 64, 67, 0.3), 0px 1px 3px 1px rgba(60, 64, 67, 0.15);\n",
       "      fill: #174EA6;\n",
       "    }\n",
       "\n",
       "    [theme=dark] .colab-df-convert {\n",
       "      background-color: #3B4455;\n",
       "      fill: #D2E3FC;\n",
       "    }\n",
       "\n",
       "    [theme=dark] .colab-df-convert:hover {\n",
       "      background-color: #434B5C;\n",
       "      box-shadow: 0px 1px 3px 1px rgba(0, 0, 0, 0.15);\n",
       "      filter: drop-shadow(0px 1px 2px rgba(0, 0, 0, 0.3));\n",
       "      fill: #FFFFFF;\n",
       "    }\n",
       "  </style>\n",
       "\n",
       "      <script>\n",
       "        const buttonEl =\n",
       "          document.querySelector('#df-bccce0f8-7d9f-4a12-9420-21d8912d36bc button.colab-df-convert');\n",
       "        buttonEl.style.display =\n",
       "          google.colab.kernel.accessAllowed ? 'block' : 'none';\n",
       "\n",
       "        async function convertToInteractive(key) {\n",
       "          const element = document.querySelector('#df-bccce0f8-7d9f-4a12-9420-21d8912d36bc');\n",
       "          const dataTable =\n",
       "            await google.colab.kernel.invokeFunction('convertToInteractive',\n",
       "                                                     [key], {});\n",
       "          if (!dataTable) return;\n",
       "\n",
       "          const docLinkHtml = 'Like what you see? Visit the ' +\n",
       "            '<a target=\"_blank\" href=https://colab.research.google.com/notebooks/data_table.ipynb>data table notebook</a>'\n",
       "            + ' to learn more about interactive tables.';\n",
       "          element.innerHTML = '';\n",
       "          dataTable['output_type'] = 'display_data';\n",
       "          await google.colab.output.renderOutput(dataTable, element);\n",
       "          const docLink = document.createElement('div');\n",
       "          docLink.innerHTML = docLinkHtml;\n",
       "          element.appendChild(docLink);\n",
       "        }\n",
       "      </script>\n",
       "    </div>\n",
       "  </div>\n",
       "  "
      ]
     },
     "metadata": {},
     "execution_count": 17
    }
   ],
   "source": [
    "df.head()"
   ],
   "id": "57577de4"
  },
  {
   "cell_type": "markdown",
   "metadata": {
    "id": "1a01a5e0"
   },
   "source": [
    ">1.1.2 How many observations (rows) and columns are in the dataset?"
   ],
   "id": "1a01a5e0"
  },
  {
   "cell_type": "code",
   "execution_count": null,
   "metadata": {
    "colab": {
     "base_uri": "https://localhost:8080/"
    },
    "id": "8e8356c1",
    "outputId": "a6e95ac9-0458-4625-d0f5-843e62e9df64"
   },
   "outputs": [
    {
     "output_type": "stream",
     "name": "stdout",
     "text": [
      "There is 2938 entries and 22 columns\n"
     ]
    }
   ],
   "source": [
    "print(\"There is %d entries and %d columns\" % (df.shape[0],df.shape[1]))"
   ],
   "id": "8e8356c1"
  },
  {
   "cell_type": "markdown",
   "metadata": {
    "id": "9aa68cca"
   },
   "source": [
    "> 1.1.3 For which variable(s), if any, are there missing/null values?"
   ],
   "id": "9aa68cca"
  },
  {
   "cell_type": "code",
   "execution_count": null,
   "metadata": {
    "colab": {
     "base_uri": "https://localhost:8080/"
    },
    "id": "45868696",
    "outputId": "23c42727-047b-4712-9433-550b6aecb0f1"
   },
   "outputs": [
    {
     "output_type": "execute_result",
     "data": {
      "text/plain": [
       "Country                            False\n",
       "Year                               False\n",
       "Status                             False\n",
       "Life expectancy                     True\n",
       "Adult Mortality                     True\n",
       "infant deaths                      False\n",
       "Alcohol                             True\n",
       "percentage expenditure             False\n",
       "Hepatitis B                         True\n",
       "Measles                            False\n",
       " BMI                                True\n",
       "under-five deaths                  False\n",
       "Polio                               True\n",
       "Total expenditure                   True\n",
       "Diphtheria                          True\n",
       " HIV/AIDS                          False\n",
       "GDP                                 True\n",
       "Population                          True\n",
       " thinness  1-19 years               True\n",
       " thinness 5-9 years                 True\n",
       "Income composition of resources     True\n",
       "Schooling                           True\n",
       "dtype: bool"
      ]
     },
     "metadata": {},
     "execution_count": 19
    }
   ],
   "source": [
    "# good ressource : https://stackoverflow.com/questions/36226083/how-to-find-which-columns-contain-any-nan-value-in-pandas-dataframe\n",
    "\n",
    "df.isna().any()"
   ],
   "id": "45868696"
  },
  {
   "cell_type": "markdown",
   "metadata": {
    "id": "ffd7b5ff"
   },
   "source": [
    ">1.1.4 Apply two small modifications to the names of the columns, that will help you avoid errors. \n",
    "* Remove spaces from beginning and end of the names of the features, if they have some\n",
    "* Put all the feature names start with an uppercase letter or all with a lowercase letter"
   ],
   "id": "ffd7b5ff"
  },
  {
   "cell_type": "code",
   "execution_count": null,
   "metadata": {
    "colab": {
     "base_uri": "https://localhost:8080/",
     "height": 352
    },
    "id": "D9FehJI9joKR",
    "outputId": "5a44cabd-8d7e-43bf-a720-3735edb930e5"
   },
   "outputs": [
    {
     "output_type": "execute_result",
     "data": {
      "text/plain": [
       "       country  year      status  life expectancy  adult mortality  \\\n",
       "0  Afghanistan  2015  Developing             65.0            263.0   \n",
       "1  Afghanistan  2014  Developing             59.9            271.0   \n",
       "2  Afghanistan  2013  Developing             59.9            268.0   \n",
       "3  Afghanistan  2012  Developing             59.5            272.0   \n",
       "4  Afghanistan  2011  Developing             59.2            275.0   \n",
       "\n",
       "   infant deaths  alcohol  percentage expenditure  hepatitis b  measles  ...  \\\n",
       "0             62     0.01               71.279624         65.0     1154  ...   \n",
       "1             64     0.01               73.523582         62.0      492  ...   \n",
       "2             66     0.01               73.219243         64.0      430  ...   \n",
       "3             69     0.01               78.184215         67.0     2787  ...   \n",
       "4             71     0.01                7.097109         68.0     3013  ...   \n",
       "\n",
       "   polio  total expenditure  diphtheria  hiv/aids         gdp  population  \\\n",
       "0    6.0               8.16        65.0       0.1  584.259210  33736494.0   \n",
       "1   58.0               8.18        62.0       0.1  612.696514    327582.0   \n",
       "2   62.0               8.13        64.0       0.1  631.744976  31731688.0   \n",
       "3   67.0               8.52        67.0       0.1  669.959000   3696958.0   \n",
       "4   68.0               7.87        68.0       0.1   63.537231   2978599.0   \n",
       "\n",
       "   thinness  1-19 years  thinness 5-9 years  income composition of resources  \\\n",
       "0                  17.2                17.3                            0.479   \n",
       "1                  17.5                17.5                            0.476   \n",
       "2                  17.7                17.7                            0.470   \n",
       "3                  17.9                18.0                            0.463   \n",
       "4                  18.2                18.2                            0.454   \n",
       "\n",
       "   schooling  \n",
       "0       10.1  \n",
       "1       10.0  \n",
       "2        9.9  \n",
       "3        9.8  \n",
       "4        9.5  \n",
       "\n",
       "[5 rows x 22 columns]"
      ],
      "text/html": [
       "\n",
       "  <div id=\"df-412a32a0-a949-4227-b428-8f674ecce38d\">\n",
       "    <div class=\"colab-df-container\">\n",
       "      <div>\n",
       "<style scoped>\n",
       "    .dataframe tbody tr th:only-of-type {\n",
       "        vertical-align: middle;\n",
       "    }\n",
       "\n",
       "    .dataframe tbody tr th {\n",
       "        vertical-align: top;\n",
       "    }\n",
       "\n",
       "    .dataframe thead th {\n",
       "        text-align: right;\n",
       "    }\n",
       "</style>\n",
       "<table border=\"1\" class=\"dataframe\">\n",
       "  <thead>\n",
       "    <tr style=\"text-align: right;\">\n",
       "      <th></th>\n",
       "      <th>country</th>\n",
       "      <th>year</th>\n",
       "      <th>status</th>\n",
       "      <th>life expectancy</th>\n",
       "      <th>adult mortality</th>\n",
       "      <th>infant deaths</th>\n",
       "      <th>alcohol</th>\n",
       "      <th>percentage expenditure</th>\n",
       "      <th>hepatitis b</th>\n",
       "      <th>measles</th>\n",
       "      <th>...</th>\n",
       "      <th>polio</th>\n",
       "      <th>total expenditure</th>\n",
       "      <th>diphtheria</th>\n",
       "      <th>hiv/aids</th>\n",
       "      <th>gdp</th>\n",
       "      <th>population</th>\n",
       "      <th>thinness  1-19 years</th>\n",
       "      <th>thinness 5-9 years</th>\n",
       "      <th>income composition of resources</th>\n",
       "      <th>schooling</th>\n",
       "    </tr>\n",
       "  </thead>\n",
       "  <tbody>\n",
       "    <tr>\n",
       "      <th>0</th>\n",
       "      <td>Afghanistan</td>\n",
       "      <td>2015</td>\n",
       "      <td>Developing</td>\n",
       "      <td>65.0</td>\n",
       "      <td>263.0</td>\n",
       "      <td>62</td>\n",
       "      <td>0.01</td>\n",
       "      <td>71.279624</td>\n",
       "      <td>65.0</td>\n",
       "      <td>1154</td>\n",
       "      <td>...</td>\n",
       "      <td>6.0</td>\n",
       "      <td>8.16</td>\n",
       "      <td>65.0</td>\n",
       "      <td>0.1</td>\n",
       "      <td>584.259210</td>\n",
       "      <td>33736494.0</td>\n",
       "      <td>17.2</td>\n",
       "      <td>17.3</td>\n",
       "      <td>0.479</td>\n",
       "      <td>10.1</td>\n",
       "    </tr>\n",
       "    <tr>\n",
       "      <th>1</th>\n",
       "      <td>Afghanistan</td>\n",
       "      <td>2014</td>\n",
       "      <td>Developing</td>\n",
       "      <td>59.9</td>\n",
       "      <td>271.0</td>\n",
       "      <td>64</td>\n",
       "      <td>0.01</td>\n",
       "      <td>73.523582</td>\n",
       "      <td>62.0</td>\n",
       "      <td>492</td>\n",
       "      <td>...</td>\n",
       "      <td>58.0</td>\n",
       "      <td>8.18</td>\n",
       "      <td>62.0</td>\n",
       "      <td>0.1</td>\n",
       "      <td>612.696514</td>\n",
       "      <td>327582.0</td>\n",
       "      <td>17.5</td>\n",
       "      <td>17.5</td>\n",
       "      <td>0.476</td>\n",
       "      <td>10.0</td>\n",
       "    </tr>\n",
       "    <tr>\n",
       "      <th>2</th>\n",
       "      <td>Afghanistan</td>\n",
       "      <td>2013</td>\n",
       "      <td>Developing</td>\n",
       "      <td>59.9</td>\n",
       "      <td>268.0</td>\n",
       "      <td>66</td>\n",
       "      <td>0.01</td>\n",
       "      <td>73.219243</td>\n",
       "      <td>64.0</td>\n",
       "      <td>430</td>\n",
       "      <td>...</td>\n",
       "      <td>62.0</td>\n",
       "      <td>8.13</td>\n",
       "      <td>64.0</td>\n",
       "      <td>0.1</td>\n",
       "      <td>631.744976</td>\n",
       "      <td>31731688.0</td>\n",
       "      <td>17.7</td>\n",
       "      <td>17.7</td>\n",
       "      <td>0.470</td>\n",
       "      <td>9.9</td>\n",
       "    </tr>\n",
       "    <tr>\n",
       "      <th>3</th>\n",
       "      <td>Afghanistan</td>\n",
       "      <td>2012</td>\n",
       "      <td>Developing</td>\n",
       "      <td>59.5</td>\n",
       "      <td>272.0</td>\n",
       "      <td>69</td>\n",
       "      <td>0.01</td>\n",
       "      <td>78.184215</td>\n",
       "      <td>67.0</td>\n",
       "      <td>2787</td>\n",
       "      <td>...</td>\n",
       "      <td>67.0</td>\n",
       "      <td>8.52</td>\n",
       "      <td>67.0</td>\n",
       "      <td>0.1</td>\n",
       "      <td>669.959000</td>\n",
       "      <td>3696958.0</td>\n",
       "      <td>17.9</td>\n",
       "      <td>18.0</td>\n",
       "      <td>0.463</td>\n",
       "      <td>9.8</td>\n",
       "    </tr>\n",
       "    <tr>\n",
       "      <th>4</th>\n",
       "      <td>Afghanistan</td>\n",
       "      <td>2011</td>\n",
       "      <td>Developing</td>\n",
       "      <td>59.2</td>\n",
       "      <td>275.0</td>\n",
       "      <td>71</td>\n",
       "      <td>0.01</td>\n",
       "      <td>7.097109</td>\n",
       "      <td>68.0</td>\n",
       "      <td>3013</td>\n",
       "      <td>...</td>\n",
       "      <td>68.0</td>\n",
       "      <td>7.87</td>\n",
       "      <td>68.0</td>\n",
       "      <td>0.1</td>\n",
       "      <td>63.537231</td>\n",
       "      <td>2978599.0</td>\n",
       "      <td>18.2</td>\n",
       "      <td>18.2</td>\n",
       "      <td>0.454</td>\n",
       "      <td>9.5</td>\n",
       "    </tr>\n",
       "  </tbody>\n",
       "</table>\n",
       "<p>5 rows × 22 columns</p>\n",
       "</div>\n",
       "      <button class=\"colab-df-convert\" onclick=\"convertToInteractive('df-412a32a0-a949-4227-b428-8f674ecce38d')\"\n",
       "              title=\"Convert this dataframe to an interactive table.\"\n",
       "              style=\"display:none;\">\n",
       "        \n",
       "  <svg xmlns=\"http://www.w3.org/2000/svg\" height=\"24px\"viewBox=\"0 0 24 24\"\n",
       "       width=\"24px\">\n",
       "    <path d=\"M0 0h24v24H0V0z\" fill=\"none\"/>\n",
       "    <path d=\"M18.56 5.44l.94 2.06.94-2.06 2.06-.94-2.06-.94-.94-2.06-.94 2.06-2.06.94zm-11 1L8.5 8.5l.94-2.06 2.06-.94-2.06-.94L8.5 2.5l-.94 2.06-2.06.94zm10 10l.94 2.06.94-2.06 2.06-.94-2.06-.94-.94-2.06-.94 2.06-2.06.94z\"/><path d=\"M17.41 7.96l-1.37-1.37c-.4-.4-.92-.59-1.43-.59-.52 0-1.04.2-1.43.59L10.3 9.45l-7.72 7.72c-.78.78-.78 2.05 0 2.83L4 21.41c.39.39.9.59 1.41.59.51 0 1.02-.2 1.41-.59l7.78-7.78 2.81-2.81c.8-.78.8-2.07 0-2.86zM5.41 20L4 18.59l7.72-7.72 1.47 1.35L5.41 20z\"/>\n",
       "  </svg>\n",
       "      </button>\n",
       "      \n",
       "  <style>\n",
       "    .colab-df-container {\n",
       "      display:flex;\n",
       "      flex-wrap:wrap;\n",
       "      gap: 12px;\n",
       "    }\n",
       "\n",
       "    .colab-df-convert {\n",
       "      background-color: #E8F0FE;\n",
       "      border: none;\n",
       "      border-radius: 50%;\n",
       "      cursor: pointer;\n",
       "      display: none;\n",
       "      fill: #1967D2;\n",
       "      height: 32px;\n",
       "      padding: 0 0 0 0;\n",
       "      width: 32px;\n",
       "    }\n",
       "\n",
       "    .colab-df-convert:hover {\n",
       "      background-color: #E2EBFA;\n",
       "      box-shadow: 0px 1px 2px rgba(60, 64, 67, 0.3), 0px 1px 3px 1px rgba(60, 64, 67, 0.15);\n",
       "      fill: #174EA6;\n",
       "    }\n",
       "\n",
       "    [theme=dark] .colab-df-convert {\n",
       "      background-color: #3B4455;\n",
       "      fill: #D2E3FC;\n",
       "    }\n",
       "\n",
       "    [theme=dark] .colab-df-convert:hover {\n",
       "      background-color: #434B5C;\n",
       "      box-shadow: 0px 1px 3px 1px rgba(0, 0, 0, 0.15);\n",
       "      filter: drop-shadow(0px 1px 2px rgba(0, 0, 0, 0.3));\n",
       "      fill: #FFFFFF;\n",
       "    }\n",
       "  </style>\n",
       "\n",
       "      <script>\n",
       "        const buttonEl =\n",
       "          document.querySelector('#df-412a32a0-a949-4227-b428-8f674ecce38d button.colab-df-convert');\n",
       "        buttonEl.style.display =\n",
       "          google.colab.kernel.accessAllowed ? 'block' : 'none';\n",
       "\n",
       "        async function convertToInteractive(key) {\n",
       "          const element = document.querySelector('#df-412a32a0-a949-4227-b428-8f674ecce38d');\n",
       "          const dataTable =\n",
       "            await google.colab.kernel.invokeFunction('convertToInteractive',\n",
       "                                                     [key], {});\n",
       "          if (!dataTable) return;\n",
       "\n",
       "          const docLinkHtml = 'Like what you see? Visit the ' +\n",
       "            '<a target=\"_blank\" href=https://colab.research.google.com/notebooks/data_table.ipynb>data table notebook</a>'\n",
       "            + ' to learn more about interactive tables.';\n",
       "          element.innerHTML = '';\n",
       "          dataTable['output_type'] = 'display_data';\n",
       "          await google.colab.output.renderOutput(dataTable, element);\n",
       "          const docLink = document.createElement('div');\n",
       "          docLink.innerHTML = docLinkHtml;\n",
       "          element.appendChild(docLink);\n",
       "        }\n",
       "      </script>\n",
       "    </div>\n",
       "  </div>\n",
       "  "
      ]
     },
     "metadata": {},
     "execution_count": 20
    }
   ],
   "source": [
    "df.columns = df.columns.str.lower()\n",
    "df.columns = df.columns.str.strip()\n",
    "\n",
    "df.head()"
   ],
   "id": "D9FehJI9joKR"
  },
  {
   "cell_type": "markdown",
   "metadata": {
    "id": "9c9953be"
   },
   "source": [
    ">1.1.5 Drop the following columns (we will not need them):\n",
    "* Adult Mortality\n",
    "* Alcohol\n",
    "* Under-five deaths \n",
    "* Total expenditure\n",
    "* Diphtheria\n",
    "* Thinness  1-19 years\n",
    "* Thinness 5-9 years\n",
    "* Income composition of resources"
   ],
   "id": "9c9953be"
  },
  {
   "cell_type": "code",
   "execution_count": null,
   "metadata": {
    "id": "93e2611a"
   },
   "outputs": [],
   "source": [
    "df = df.drop(columns = ['adult mortality', 'alcohol', 'under-five deaths', 'total expenditure', 'diphtheria', 'thinness  1-19 years', 'thinness 5-9 years', 'income composition of resources'])"
   ],
   "id": "93e2611a"
  },
  {
   "cell_type": "markdown",
   "metadata": {
    "id": "f330e9e4"
   },
   "source": [
    ">1.1.6 Which state had the highest **life expectancy** in a single year? ONLY for this question and the following one (1.1.7), you will need to drop the rows that have NaN as life expectancy."
   ],
   "id": "f330e9e4"
  },
  {
   "cell_type": "code",
   "execution_count": null,
   "metadata": {
    "colab": {
     "base_uri": "https://localhost:8080/",
     "height": 394
    },
    "id": "lCb_N-oslMmO",
    "outputId": "59bc3dfe-3960-4cda-dca9-0af52bc0b0bf"
   },
   "outputs": [
    {
     "output_type": "execute_result",
     "data": {
      "text/plain": [
       "          country  life expectancy\n",
       "241       Belgium             89.0\n",
       "915       Finland             89.0\n",
       "937        France             89.0\n",
       "938        France             89.0\n",
       "995       Germany             89.0\n",
       "1293        Italy             89.0\n",
       "1850  New Zealand             89.0\n",
       "1916       Norway             89.0\n",
       "2056     Portugal             89.0\n",
       "2433        Spain             89.0\n",
       "2513       Sweden             89.0"
      ],
      "text/html": [
       "\n",
       "  <div id=\"df-764fb0fa-b7c8-409b-bfda-fd625f611a76\">\n",
       "    <div class=\"colab-df-container\">\n",
       "      <div>\n",
       "<style scoped>\n",
       "    .dataframe tbody tr th:only-of-type {\n",
       "        vertical-align: middle;\n",
       "    }\n",
       "\n",
       "    .dataframe tbody tr th {\n",
       "        vertical-align: top;\n",
       "    }\n",
       "\n",
       "    .dataframe thead th {\n",
       "        text-align: right;\n",
       "    }\n",
       "</style>\n",
       "<table border=\"1\" class=\"dataframe\">\n",
       "  <thead>\n",
       "    <tr style=\"text-align: right;\">\n",
       "      <th></th>\n",
       "      <th>country</th>\n",
       "      <th>life expectancy</th>\n",
       "    </tr>\n",
       "  </thead>\n",
       "  <tbody>\n",
       "    <tr>\n",
       "      <th>241</th>\n",
       "      <td>Belgium</td>\n",
       "      <td>89.0</td>\n",
       "    </tr>\n",
       "    <tr>\n",
       "      <th>915</th>\n",
       "      <td>Finland</td>\n",
       "      <td>89.0</td>\n",
       "    </tr>\n",
       "    <tr>\n",
       "      <th>937</th>\n",
       "      <td>France</td>\n",
       "      <td>89.0</td>\n",
       "    </tr>\n",
       "    <tr>\n",
       "      <th>938</th>\n",
       "      <td>France</td>\n",
       "      <td>89.0</td>\n",
       "    </tr>\n",
       "    <tr>\n",
       "      <th>995</th>\n",
       "      <td>Germany</td>\n",
       "      <td>89.0</td>\n",
       "    </tr>\n",
       "    <tr>\n",
       "      <th>1293</th>\n",
       "      <td>Italy</td>\n",
       "      <td>89.0</td>\n",
       "    </tr>\n",
       "    <tr>\n",
       "      <th>1850</th>\n",
       "      <td>New Zealand</td>\n",
       "      <td>89.0</td>\n",
       "    </tr>\n",
       "    <tr>\n",
       "      <th>1916</th>\n",
       "      <td>Norway</td>\n",
       "      <td>89.0</td>\n",
       "    </tr>\n",
       "    <tr>\n",
       "      <th>2056</th>\n",
       "      <td>Portugal</td>\n",
       "      <td>89.0</td>\n",
       "    </tr>\n",
       "    <tr>\n",
       "      <th>2433</th>\n",
       "      <td>Spain</td>\n",
       "      <td>89.0</td>\n",
       "    </tr>\n",
       "    <tr>\n",
       "      <th>2513</th>\n",
       "      <td>Sweden</td>\n",
       "      <td>89.0</td>\n",
       "    </tr>\n",
       "  </tbody>\n",
       "</table>\n",
       "</div>\n",
       "      <button class=\"colab-df-convert\" onclick=\"convertToInteractive('df-764fb0fa-b7c8-409b-bfda-fd625f611a76')\"\n",
       "              title=\"Convert this dataframe to an interactive table.\"\n",
       "              style=\"display:none;\">\n",
       "        \n",
       "  <svg xmlns=\"http://www.w3.org/2000/svg\" height=\"24px\"viewBox=\"0 0 24 24\"\n",
       "       width=\"24px\">\n",
       "    <path d=\"M0 0h24v24H0V0z\" fill=\"none\"/>\n",
       "    <path d=\"M18.56 5.44l.94 2.06.94-2.06 2.06-.94-2.06-.94-.94-2.06-.94 2.06-2.06.94zm-11 1L8.5 8.5l.94-2.06 2.06-.94-2.06-.94L8.5 2.5l-.94 2.06-2.06.94zm10 10l.94 2.06.94-2.06 2.06-.94-2.06-.94-.94-2.06-.94 2.06-2.06.94z\"/><path d=\"M17.41 7.96l-1.37-1.37c-.4-.4-.92-.59-1.43-.59-.52 0-1.04.2-1.43.59L10.3 9.45l-7.72 7.72c-.78.78-.78 2.05 0 2.83L4 21.41c.39.39.9.59 1.41.59.51 0 1.02-.2 1.41-.59l7.78-7.78 2.81-2.81c.8-.78.8-2.07 0-2.86zM5.41 20L4 18.59l7.72-7.72 1.47 1.35L5.41 20z\"/>\n",
       "  </svg>\n",
       "      </button>\n",
       "      \n",
       "  <style>\n",
       "    .colab-df-container {\n",
       "      display:flex;\n",
       "      flex-wrap:wrap;\n",
       "      gap: 12px;\n",
       "    }\n",
       "\n",
       "    .colab-df-convert {\n",
       "      background-color: #E8F0FE;\n",
       "      border: none;\n",
       "      border-radius: 50%;\n",
       "      cursor: pointer;\n",
       "      display: none;\n",
       "      fill: #1967D2;\n",
       "      height: 32px;\n",
       "      padding: 0 0 0 0;\n",
       "      width: 32px;\n",
       "    }\n",
       "\n",
       "    .colab-df-convert:hover {\n",
       "      background-color: #E2EBFA;\n",
       "      box-shadow: 0px 1px 2px rgba(60, 64, 67, 0.3), 0px 1px 3px 1px rgba(60, 64, 67, 0.15);\n",
       "      fill: #174EA6;\n",
       "    }\n",
       "\n",
       "    [theme=dark] .colab-df-convert {\n",
       "      background-color: #3B4455;\n",
       "      fill: #D2E3FC;\n",
       "    }\n",
       "\n",
       "    [theme=dark] .colab-df-convert:hover {\n",
       "      background-color: #434B5C;\n",
       "      box-shadow: 0px 1px 3px 1px rgba(0, 0, 0, 0.15);\n",
       "      filter: drop-shadow(0px 1px 2px rgba(0, 0, 0, 0.3));\n",
       "      fill: #FFFFFF;\n",
       "    }\n",
       "  </style>\n",
       "\n",
       "      <script>\n",
       "        const buttonEl =\n",
       "          document.querySelector('#df-764fb0fa-b7c8-409b-bfda-fd625f611a76 button.colab-df-convert');\n",
       "        buttonEl.style.display =\n",
       "          google.colab.kernel.accessAllowed ? 'block' : 'none';\n",
       "\n",
       "        async function convertToInteractive(key) {\n",
       "          const element = document.querySelector('#df-764fb0fa-b7c8-409b-bfda-fd625f611a76');\n",
       "          const dataTable =\n",
       "            await google.colab.kernel.invokeFunction('convertToInteractive',\n",
       "                                                     [key], {});\n",
       "          if (!dataTable) return;\n",
       "\n",
       "          const docLinkHtml = 'Like what you see? Visit the ' +\n",
       "            '<a target=\"_blank\" href=https://colab.research.google.com/notebooks/data_table.ipynb>data table notebook</a>'\n",
       "            + ' to learn more about interactive tables.';\n",
       "          element.innerHTML = '';\n",
       "          dataTable['output_type'] = 'display_data';\n",
       "          await google.colab.output.renderOutput(dataTable, element);\n",
       "          const docLink = document.createElement('div');\n",
       "          docLink.innerHTML = docLinkHtml;\n",
       "          element.appendChild(docLink);\n",
       "        }\n",
       "      </script>\n",
       "    </div>\n",
       "  </div>\n",
       "  "
      ]
     },
     "metadata": {},
     "execution_count": 22
    }
   ],
   "source": [
    "df2 = df.dropna(subset=['life expectancy'])\n",
    "max_le = df2['life expectancy'].max()\n",
    "df2[['country', 'life expectancy']].loc[df2['life expectancy'] == max_le]"
   ],
   "id": "lCb_N-oslMmO"
  },
  {
   "cell_type": "markdown",
   "metadata": {
    "id": "97fa7714"
   },
   "source": [
    ">1.1.7 Which state had the highest **life expectancy** on average over all the years covered by the dataset?"
   ],
   "id": "97fa7714"
  },
  {
   "cell_type": "code",
   "execution_count": null,
   "metadata": {
    "colab": {
     "base_uri": "https://localhost:8080/"
    },
    "id": "c45b40d5",
    "outputId": "a3614835-3a7a-4ce7-f1de-da0b55476e1e"
   },
   "outputs": [
    {
     "output_type": "execute_result",
     "data": {
      "text/plain": [
       "country\n",
       "Japan    82.5375\n",
       "Name: life expectancy, dtype: float64"
      ]
     },
     "metadata": {},
     "execution_count": 23
    }
   ],
   "source": [
    "grouped = df2.groupby('country')['life expectancy'].mean()\n",
    "\n",
    "grouped.nlargest(1)"
   ],
   "id": "c45b40d5"
  },
  {
   "cell_type": "markdown",
   "metadata": {
    "id": "ed658bc8"
   },
   "source": [
    ">1.1.8 What percentage of developing countries have GDP per capita (averaged over the period) higher than 1000? Drop countries with missing GDP for this question. Round up to 3 decimal points. ONLY for this question, you will need to drop the rows that have NaN as GDP.\n"
   ],
   "id": "ed658bc8"
  },
  {
   "cell_type": "code",
   "execution_count": null,
   "metadata": {
    "id": "9f091e90"
   },
   "outputs": [],
   "source": [
    "developing = df.dropna(subset=['gdp'])\n",
    "developing = developing.loc[developing['status'] == 'Developing'].groupby('country').mean()"
   ],
   "id": "9f091e90"
  },
  {
   "cell_type": "code",
   "execution_count": null,
   "metadata": {
    "colab": {
     "base_uri": "https://localhost:8080/"
    },
    "id": "wLl3onwGK-kH",
    "outputId": "57f1afab-cd18-4943-b57f-6f5f001ff539"
   },
   "outputs": [
    {
     "output_type": "stream",
     "name": "stdout",
     "text": [
      "65.185%\n"
     ]
    }
   ],
   "source": [
    "developing_above1000 = developing.loc[developing['gdp'] > 1000]\n",
    "\n",
    "developing_count = developing.shape[0]\n",
    "developing_above1000_count = developing_above1000.shape[0]\n",
    "\n",
    "ratio = developing_above1000_count/developing_count\n",
    "\n",
    "\n",
    "print(f\"{ratio * 100:.3f}%\")\n"
   ],
   "id": "wLl3onwGK-kH"
  },
  {
   "cell_type": "markdown",
   "metadata": {
    "id": "952cf424"
   },
   "source": [
    "### 1.2 Data types\n",
    "\n",
    ">1.2.1. List the different features and their data type. ¶\n"
   ],
   "id": "952cf424"
  },
  {
   "cell_type": "code",
   "execution_count": null,
   "metadata": {
    "colab": {
     "base_uri": "https://localhost:8080/"
    },
    "id": "1f22cde4",
    "outputId": "7a6cfa98-9fee-4cef-9ba3-424462a59cc7"
   },
   "outputs": [
    {
     "output_type": "execute_result",
     "data": {
      "text/plain": [
       "country                    object\n",
       "year                        int64\n",
       "status                     object\n",
       "life expectancy           float64\n",
       "infant deaths               int64\n",
       "percentage expenditure    float64\n",
       "hepatitis b               float64\n",
       "measles                     int64\n",
       "bmi                       float64\n",
       "polio                     float64\n",
       "hiv/aids                  float64\n",
       "gdp                       float64\n",
       "population                float64\n",
       "schooling                 float64\n",
       "dtype: object"
      ]
     },
     "metadata": {},
     "execution_count": 26
    }
   ],
   "source": [
    "df.dtypes"
   ],
   "id": "1f22cde4"
  },
  {
   "cell_type": "markdown",
   "metadata": {
    "id": "6ce572ee"
   },
   "source": [
    ">1.2.2. Are there any duplicated entries?"
   ],
   "id": "6ce572ee"
  },
  {
   "cell_type": "code",
   "execution_count": null,
   "metadata": {
    "colab": {
     "base_uri": "https://localhost:8080/"
    },
    "id": "5c5b226c",
    "outputId": "15a2d054-2df1-45de-e9fa-e6f57604cc67"
   },
   "outputs": [
    {
     "output_type": "execute_result",
     "data": {
      "text/plain": [
       "country                   False\n",
       "year                      False\n",
       "status                    False\n",
       "life expectancy           False\n",
       "infant deaths             False\n",
       "percentage expenditure    False\n",
       "hepatitis b               False\n",
       "measles                   False\n",
       "bmi                       False\n",
       "polio                     False\n",
       "hiv/aids                  False\n",
       "gdp                       False\n",
       "population                False\n",
       "schooling                 False\n",
       "dtype: bool"
      ]
     },
     "metadata": {},
     "execution_count": 27
    }
   ],
   "source": [
    "df[df.duplicated()].any()"
   ],
   "id": "5c5b226c"
  },
  {
   "cell_type": "markdown",
   "metadata": {
    "id": "2b22dd60"
   },
   "source": [
    ">1.2.3. Change the data type for the following columns: Country (from object to string), Status (from object to category)\n"
   ],
   "id": "2b22dd60"
  },
  {
   "cell_type": "code",
   "execution_count": null,
   "metadata": {
    "colab": {
     "base_uri": "https://localhost:8080/"
    },
    "id": "7e576111",
    "outputId": "1f777e7b-cf86-405c-d3c6-69cfbf36542e"
   },
   "outputs": [
    {
     "output_type": "execute_result",
     "data": {
      "text/plain": [
       "country                     string\n",
       "year                         int64\n",
       "status                    category\n",
       "life expectancy            float64\n",
       "infant deaths                int64\n",
       "percentage expenditure     float64\n",
       "hepatitis b                float64\n",
       "measles                      int64\n",
       "bmi                        float64\n",
       "polio                      float64\n",
       "hiv/aids                   float64\n",
       "gdp                        float64\n",
       "population                 float64\n",
       "schooling                  float64\n",
       "dtype: object"
      ]
     },
     "metadata": {},
     "execution_count": 28
    }
   ],
   "source": [
    "df['country'] = df['country'].astype('string')\n",
    "df['status'] = df['status'].astype('category')\n",
    "df.dtypes"
   ],
   "id": "7e576111"
  },
  {
   "cell_type": "markdown",
   "metadata": {
    "id": "0d9dfea9"
   },
   "source": [
    ">1.2.4. For which period have these data samples been collected? (i.e, the oldest and the most recent entries in the dataset)"
   ],
   "id": "0d9dfea9"
  },
  {
   "cell_type": "code",
   "execution_count": null,
   "metadata": {
    "colab": {
     "base_uri": "https://localhost:8080/"
    },
    "id": "5226461f",
    "outputId": "6a498a17-abed-4f50-c3a6-cc03b4888b00"
   },
   "outputs": [
    {
     "output_type": "stream",
     "name": "stdout",
     "text": [
      "2000\n",
      "2015\n"
     ]
    }
   ],
   "source": [
    "print(df['year'].min())\n",
    "print(df['year'].max())"
   ],
   "id": "5226461f"
  },
  {
   "cell_type": "markdown",
   "metadata": {
    "id": "2077bdc4"
   },
   "source": [
    "\n",
    "## 2. Exploratory Data Analysis and Visualization"
   ],
   "id": "2077bdc4"
  },
  {
   "cell_type": "markdown",
   "metadata": {
    "id": "c2401911"
   },
   "source": [
    ">2.1 Which are the top 5 countries that had the highest **population growth** over the period included in the dataset?\n",
    "Consider population growth as the difference between the population in the last year and the first year of measurement\n",
    "\n",
    ">Hint: for each country, the data follows a certain order..."
   ],
   "id": "c2401911"
  },
  {
   "cell_type": "code",
   "execution_count": null,
   "metadata": {
    "colab": {
     "base_uri": "https://localhost:8080/",
     "height": 310
    },
    "id": "ec50ac9b",
    "outputId": "cc1e83b9-bff2-4064-b170-ea7152aa2b98"
   },
   "outputs": [
    {
     "output_type": "stream",
     "name": "stderr",
     "text": [
      "/usr/local/lib/python3.7/dist-packages/ipykernel_launcher.py:3: SettingWithCopyWarning: \n",
      "A value is trying to be set on a copy of a slice from a DataFrame.\n",
      "Try using .loc[row_indexer,col_indexer] = value instead\n",
      "\n",
      "See the caveats in the documentation: https://pandas.pydata.org/pandas-docs/stable/user_guide/indexing.html#returning-a-view-versus-a-copy\n",
      "  This is separate from the ipykernel package so we can avoid doing imports until\n"
     ]
    },
    {
     "output_type": "execute_result",
     "data": {
      "text/plain": [
       "        country  year      status  life expectancy  infant deaths  \\\n",
       "1202  Indonesia  2015  Developing             69.1            114   \n",
       "1893    Nigeria  2015  Developing             54.5            483   \n",
       "994     Germany  2015   Developed             81.0              2   \n",
       "2681     Turkey  2015  Developing             75.8             15   \n",
       "576    Colombia  2015  Developing             74.8             10   \n",
       "\n",
       "      percentage expenditure  hepatitis b  measles   bmi  polio  hiv/aids  \\\n",
       "1202                     0.0         78.0    15099  27.4    8.0       0.3   \n",
       "1893                     0.0         49.0    12423  25.4   49.0       3.7   \n",
       "994                      0.0         88.0     2464  62.3   94.0       0.1   \n",
       "2681                     0.0         97.0      342  66.1   97.0       0.1   \n",
       "576                      0.0         91.0        1  57.9   91.0       0.1   \n",
       "\n",
       "               gdp   population  schooling  \n",
       "1202   3336.166860  237007684.0       12.9  \n",
       "1893   2655.157977  179958215.0       10.0  \n",
       "994   41176.881580   73465453.0       17.1  \n",
       "2681   1979.525690   71947351.0       14.5  \n",
       "576     644.525556   47784739.0       13.6  "
      ],
      "text/html": [
       "\n",
       "  <div id=\"df-d939e119-335d-4913-be7f-9c3f90c398f6\">\n",
       "    <div class=\"colab-df-container\">\n",
       "      <div>\n",
       "<style scoped>\n",
       "    .dataframe tbody tr th:only-of-type {\n",
       "        vertical-align: middle;\n",
       "    }\n",
       "\n",
       "    .dataframe tbody tr th {\n",
       "        vertical-align: top;\n",
       "    }\n",
       "\n",
       "    .dataframe thead th {\n",
       "        text-align: right;\n",
       "    }\n",
       "</style>\n",
       "<table border=\"1\" class=\"dataframe\">\n",
       "  <thead>\n",
       "    <tr style=\"text-align: right;\">\n",
       "      <th></th>\n",
       "      <th>country</th>\n",
       "      <th>year</th>\n",
       "      <th>status</th>\n",
       "      <th>life expectancy</th>\n",
       "      <th>infant deaths</th>\n",
       "      <th>percentage expenditure</th>\n",
       "      <th>hepatitis b</th>\n",
       "      <th>measles</th>\n",
       "      <th>bmi</th>\n",
       "      <th>polio</th>\n",
       "      <th>hiv/aids</th>\n",
       "      <th>gdp</th>\n",
       "      <th>population</th>\n",
       "      <th>schooling</th>\n",
       "    </tr>\n",
       "  </thead>\n",
       "  <tbody>\n",
       "    <tr>\n",
       "      <th>1202</th>\n",
       "      <td>Indonesia</td>\n",
       "      <td>2015</td>\n",
       "      <td>Developing</td>\n",
       "      <td>69.1</td>\n",
       "      <td>114</td>\n",
       "      <td>0.0</td>\n",
       "      <td>78.0</td>\n",
       "      <td>15099</td>\n",
       "      <td>27.4</td>\n",
       "      <td>8.0</td>\n",
       "      <td>0.3</td>\n",
       "      <td>3336.166860</td>\n",
       "      <td>237007684.0</td>\n",
       "      <td>12.9</td>\n",
       "    </tr>\n",
       "    <tr>\n",
       "      <th>1893</th>\n",
       "      <td>Nigeria</td>\n",
       "      <td>2015</td>\n",
       "      <td>Developing</td>\n",
       "      <td>54.5</td>\n",
       "      <td>483</td>\n",
       "      <td>0.0</td>\n",
       "      <td>49.0</td>\n",
       "      <td>12423</td>\n",
       "      <td>25.4</td>\n",
       "      <td>49.0</td>\n",
       "      <td>3.7</td>\n",
       "      <td>2655.157977</td>\n",
       "      <td>179958215.0</td>\n",
       "      <td>10.0</td>\n",
       "    </tr>\n",
       "    <tr>\n",
       "      <th>994</th>\n",
       "      <td>Germany</td>\n",
       "      <td>2015</td>\n",
       "      <td>Developed</td>\n",
       "      <td>81.0</td>\n",
       "      <td>2</td>\n",
       "      <td>0.0</td>\n",
       "      <td>88.0</td>\n",
       "      <td>2464</td>\n",
       "      <td>62.3</td>\n",
       "      <td>94.0</td>\n",
       "      <td>0.1</td>\n",
       "      <td>41176.881580</td>\n",
       "      <td>73465453.0</td>\n",
       "      <td>17.1</td>\n",
       "    </tr>\n",
       "    <tr>\n",
       "      <th>2681</th>\n",
       "      <td>Turkey</td>\n",
       "      <td>2015</td>\n",
       "      <td>Developing</td>\n",
       "      <td>75.8</td>\n",
       "      <td>15</td>\n",
       "      <td>0.0</td>\n",
       "      <td>97.0</td>\n",
       "      <td>342</td>\n",
       "      <td>66.1</td>\n",
       "      <td>97.0</td>\n",
       "      <td>0.1</td>\n",
       "      <td>1979.525690</td>\n",
       "      <td>71947351.0</td>\n",
       "      <td>14.5</td>\n",
       "    </tr>\n",
       "    <tr>\n",
       "      <th>576</th>\n",
       "      <td>Colombia</td>\n",
       "      <td>2015</td>\n",
       "      <td>Developing</td>\n",
       "      <td>74.8</td>\n",
       "      <td>10</td>\n",
       "      <td>0.0</td>\n",
       "      <td>91.0</td>\n",
       "      <td>1</td>\n",
       "      <td>57.9</td>\n",
       "      <td>91.0</td>\n",
       "      <td>0.1</td>\n",
       "      <td>644.525556</td>\n",
       "      <td>47784739.0</td>\n",
       "      <td>13.6</td>\n",
       "    </tr>\n",
       "  </tbody>\n",
       "</table>\n",
       "</div>\n",
       "      <button class=\"colab-df-convert\" onclick=\"convertToInteractive('df-d939e119-335d-4913-be7f-9c3f90c398f6')\"\n",
       "              title=\"Convert this dataframe to an interactive table.\"\n",
       "              style=\"display:none;\">\n",
       "        \n",
       "  <svg xmlns=\"http://www.w3.org/2000/svg\" height=\"24px\"viewBox=\"0 0 24 24\"\n",
       "       width=\"24px\">\n",
       "    <path d=\"M0 0h24v24H0V0z\" fill=\"none\"/>\n",
       "    <path d=\"M18.56 5.44l.94 2.06.94-2.06 2.06-.94-2.06-.94-.94-2.06-.94 2.06-2.06.94zm-11 1L8.5 8.5l.94-2.06 2.06-.94-2.06-.94L8.5 2.5l-.94 2.06-2.06.94zm10 10l.94 2.06.94-2.06 2.06-.94-2.06-.94-.94-2.06-.94 2.06-2.06.94z\"/><path d=\"M17.41 7.96l-1.37-1.37c-.4-.4-.92-.59-1.43-.59-.52 0-1.04.2-1.43.59L10.3 9.45l-7.72 7.72c-.78.78-.78 2.05 0 2.83L4 21.41c.39.39.9.59 1.41.59.51 0 1.02-.2 1.41-.59l7.78-7.78 2.81-2.81c.8-.78.8-2.07 0-2.86zM5.41 20L4 18.59l7.72-7.72 1.47 1.35L5.41 20z\"/>\n",
       "  </svg>\n",
       "      </button>\n",
       "      \n",
       "  <style>\n",
       "    .colab-df-container {\n",
       "      display:flex;\n",
       "      flex-wrap:wrap;\n",
       "      gap: 12px;\n",
       "    }\n",
       "\n",
       "    .colab-df-convert {\n",
       "      background-color: #E8F0FE;\n",
       "      border: none;\n",
       "      border-radius: 50%;\n",
       "      cursor: pointer;\n",
       "      display: none;\n",
       "      fill: #1967D2;\n",
       "      height: 32px;\n",
       "      padding: 0 0 0 0;\n",
       "      width: 32px;\n",
       "    }\n",
       "\n",
       "    .colab-df-convert:hover {\n",
       "      background-color: #E2EBFA;\n",
       "      box-shadow: 0px 1px 2px rgba(60, 64, 67, 0.3), 0px 1px 3px 1px rgba(60, 64, 67, 0.15);\n",
       "      fill: #174EA6;\n",
       "    }\n",
       "\n",
       "    [theme=dark] .colab-df-convert {\n",
       "      background-color: #3B4455;\n",
       "      fill: #D2E3FC;\n",
       "    }\n",
       "\n",
       "    [theme=dark] .colab-df-convert:hover {\n",
       "      background-color: #434B5C;\n",
       "      box-shadow: 0px 1px 3px 1px rgba(0, 0, 0, 0.15);\n",
       "      filter: drop-shadow(0px 1px 2px rgba(0, 0, 0, 0.3));\n",
       "      fill: #FFFFFF;\n",
       "    }\n",
       "  </style>\n",
       "\n",
       "      <script>\n",
       "        const buttonEl =\n",
       "          document.querySelector('#df-d939e119-335d-4913-be7f-9c3f90c398f6 button.colab-df-convert');\n",
       "        buttonEl.style.display =\n",
       "          google.colab.kernel.accessAllowed ? 'block' : 'none';\n",
       "\n",
       "        async function convertToInteractive(key) {\n",
       "          const element = document.querySelector('#df-d939e119-335d-4913-be7f-9c3f90c398f6');\n",
       "          const dataTable =\n",
       "            await google.colab.kernel.invokeFunction('convertToInteractive',\n",
       "                                                     [key], {});\n",
       "          if (!dataTable) return;\n",
       "\n",
       "          const docLinkHtml = 'Like what you see? Visit the ' +\n",
       "            '<a target=\"_blank\" href=https://colab.research.google.com/notebooks/data_table.ipynb>data table notebook</a>'\n",
       "            + ' to learn more about interactive tables.';\n",
       "          element.innerHTML = '';\n",
       "          dataTable['output_type'] = 'display_data';\n",
       "          await google.colab.output.renderOutput(dataTable, element);\n",
       "          const docLink = document.createElement('div');\n",
       "          docLink.innerHTML = docLinkHtml;\n",
       "          element.appendChild(docLink);\n",
       "        }\n",
       "      </script>\n",
       "    </div>\n",
       "  </div>\n",
       "  "
      ]
     },
     "metadata": {},
     "execution_count": 30
    }
   ],
   "source": [
    "growth_df = df[(df.year == 2000) | (df.year == 2015)]\n",
    "\n",
    "growth_df['population'] = growth_df.groupby('country')['population'].diff(periods = -1)\n",
    "\n",
    "growth_df.sort_values(by=['population'], ascending=False).head()"
   ],
   "id": "ec50ac9b"
  },
  {
   "cell_type": "markdown",
   "metadata": {
    "id": "871125ee"
   },
   "source": [
    ">2.2 How many unique countries were included in the dataset?"
   ],
   "id": "871125ee"
  },
  {
   "cell_type": "code",
   "execution_count": null,
   "metadata": {
    "colab": {
     "base_uri": "https://localhost:8080/"
    },
    "id": "d616dc86",
    "outputId": "43d8546e-600d-489d-dedc-5c96638afbc8"
   },
   "outputs": [
    {
     "output_type": "execute_result",
     "data": {
      "text/plain": [
       "193"
      ]
     },
     "metadata": {},
     "execution_count": 31
    }
   ],
   "source": [
    "df.drop_duplicates(subset='country').shape[0]"
   ],
   "id": "d616dc86"
  },
  {
   "cell_type": "markdown",
   "metadata": {
    "id": "5e5d7b18"
   },
   "source": [
    ">...Plot the top ten countries by average GDP on a horizontal bar chart."
   ],
   "id": "5e5d7b18"
  },
  {
   "cell_type": "code",
   "execution_count": null,
   "metadata": {
    "id": "ed4a6318"
   },
   "outputs": [],
   "source": [
    "avg_gdp = df.groupby(['country'])[['gdp']].mean()\n",
    "avg_gdp.sort_values(by='gdp', ascending=False, inplace=True)"
   ],
   "id": "ed4a6318"
  },
  {
   "cell_type": "code",
   "execution_count": null,
   "metadata": {
    "colab": {
     "base_uri": "https://localhost:8080/",
     "height": 282
    },
    "id": "mUTqUsB9uLaF",
    "outputId": "b308a366-be7e-44d7-9bb7-0809ab331969"
   },
   "outputs": [
    {
     "output_type": "execute_result",
     "data": {
      "text/plain": [
       "<matplotlib.axes._subplots.AxesSubplot at 0x7ff58ec3be10>"
      ]
     },
     "metadata": {},
     "execution_count": 33
    },
    {
     "output_type": "display_data",
     "data": {
      "text/plain": [
       "<Figure size 432x288 with 1 Axes>"
      ],
      "image/png": "[encoded data removed]"
     },
     "metadata": {}
    }
   ],
   "source": [
    "top10 = avg_gdp.iloc[:10]\n",
    "\n",
    "top10.plot(kind = 'barh')"
   ],
   "id": "mUTqUsB9uLaF"
  },
  {
   "cell_type": "markdown",
   "metadata": {
    "id": "c64c6a56"
   },
   "source": [
    ">2.3. Sometimes it is useful to group datapoints that share certain common traits. That's what we'll do in this composite question. All the modifications to the dataframe suggested here must be ONLY for the questions 2.3. So we suggest to generate a new dataframe for this question, to avoid affecting the main one.\n",
    "\n",
    "> 2.3.1 First, aggregate the data by country taking the mean of every numerical feature. At this point you should have 1 row per Country. Keep only the following features: `HIV/AIDS`,`Polio`,`Measles`,`Infant deaths`,`Hepatitis B`. (Remember, you might need the other features after question 2.3, so do not delete them from the main df)"
   ],
   "id": "c64c6a56"
  },
  {
   "cell_type": "code",
   "execution_count": null,
   "metadata": {
    "colab": {
     "base_uri": "https://localhost:8080/"
    },
    "id": "d3357125",
    "outputId": "07d6e0b7-b4fd-496b-abc9-17768b79241d"
   },
   "outputs": [
    {
     "output_type": "stream",
     "name": "stderr",
     "text": [
      "/usr/local/lib/python3.7/dist-packages/ipykernel_launcher.py:1: FutureWarning: Indexing with multiple keys (implicitly converted to a tuple of keys) will be deprecated, use a list instead.\n",
      "  \"\"\"Entry point for launching an IPython kernel.\n"
     ]
    },
    {
     "output_type": "execute_result",
     "data": {
      "text/plain": [
       "(193, 5)"
      ]
     },
     "metadata": {},
     "execution_count": 34
    }
   ],
   "source": [
    "dff = df.groupby('country')['hiv/aids','polio', 'measles', 'infant deaths', 'hepatitis b'].mean()\n",
    "\n",
    "dff.shape"
   ],
   "id": "d3357125"
  },
  {
   "cell_type": "markdown",
   "metadata": {
    "id": "a0aedb3b"
   },
   "source": [
    "> 2.3.2 Then, keep only the following columns, and AFTERWARDS drop all the rows that have NaN values : `HIV/AIDS`,`Polio`,`Measles`,`Infant deaths`,`Hepatitis B`. (Remember, you might need them after question 2.3, so do not delete them from the main df)"
   ],
   "id": "a0aedb3b"
  },
  {
   "cell_type": "code",
   "execution_count": null,
   "metadata": {
    "colab": {
     "base_uri": "https://localhost:8080/"
    },
    "id": "bedee774",
    "outputId": "97ce0350-976a-4340-bb46-c9ea858a7bce"
   },
   "outputs": [
    {
     "output_type": "execute_result",
     "data": {
      "text/plain": [
       "(184, 5)"
      ]
     },
     "metadata": {},
     "execution_count": 35
    }
   ],
   "source": [
    "dff.dropna(inplace=True)\n",
    "dff.shape"
   ],
   "id": "bedee774"
  },
  {
   "cell_type": "markdown",
   "metadata": {
    "id": "4c178f5b"
   },
   "source": [
    "> 2.3.3 Then, build a new column in the dataset with a new composite index, the NHI (New Health Index). It integrates the situation of the country with regards to the HIV/AIDS, Polio, Measles, Infant deaths, Hepatitis B. The higher, the worse the situation. It needs to follow the following formula: $$BHI = 10*HIV + 2*Polio + \\sqrt{Measles} + (Infant deaths)^{2} + Hepatitis B$$"
   ],
   "id": "4c178f5b"
  },
  {
   "cell_type": "code",
   "execution_count": null,
   "metadata": {
    "colab": {
     "base_uri": "https://localhost:8080/",
     "height": 455
    },
    "id": "d49d7e81",
    "outputId": "5034554d-bb44-4913-9320-c5a7b7d0aa6a"
   },
   "outputs": [
    {
     "output_type": "execute_result",
     "data": {
      "text/plain": [
       "                                    hiv/aids    polio    measles  \\\n",
       "country                                                            \n",
       "Afghanistan                          0.10000  48.3750  2362.2500   \n",
       "Albania                              0.10000  98.1250    53.3750   \n",
       "Algeria                              0.10000  91.7500  1943.8750   \n",
       "Angola                               2.36875  46.1250  3561.3125   \n",
       "Antigua and Barbuda                  0.12500  96.9375     0.0000   \n",
       "...                                      ...      ...        ...   \n",
       "Venezuela (Bolivarian Republic of)   0.10000  74.6875   165.0000   \n",
       "Viet Nam                             0.14375  94.9375  4232.9375   \n",
       "Yemen                                0.10000  67.1250  2761.1875   \n",
       "Zambia                              11.93125  64.3750  6563.8125   \n",
       "Zimbabwe                            23.26250  75.6250   923.0000   \n",
       "\n",
       "                                    infant deaths  hepatitis b          nhi  \n",
       "country                                                                      \n",
       "Afghanistan                               78.2500    64.562500  6333.977983  \n",
       "Albania                                    0.6875    98.000000   303.028476  \n",
       "Algeria                                   20.3125    78.000000   719.187054  \n",
       "Angola                                    83.7500    70.222222  7259.898956  \n",
       "Antigua and Barbuda                        0.0000    98.266667   293.391667  \n",
       "...                                           ...          ...          ...  \n",
       "Venezuela (Bolivarian Republic of)         9.3750    66.250000   317.360858  \n",
       "Viet Nam                                  29.1875    87.538462  1195.822147  \n",
       "Yemen                                     39.3750    55.687500  1793.875128  \n",
       "Zambia                                    33.4375    69.818182  1516.964447  \n",
       "Zimbabwe                                  26.5625    70.562500  1190.384821  \n",
       "\n",
       "[184 rows x 6 columns]"
      ],
      "text/html": [
       "\n",
       "  <div id=\"df-40808ed1-dfa9-42ff-acc0-0bcb460224f7\">\n",
       "    <div class=\"colab-df-container\">\n",
       "      <div>\n",
       "<style scoped>\n",
       "    .dataframe tbody tr th:only-of-type {\n",
       "        vertical-align: middle;\n",
       "    }\n",
       "\n",
       "    .dataframe tbody tr th {\n",
       "        vertical-align: top;\n",
       "    }\n",
       "\n",
       "    .dataframe thead th {\n",
       "        text-align: right;\n",
       "    }\n",
       "</style>\n",
       "<table border=\"1\" class=\"dataframe\">\n",
       "  <thead>\n",
       "    <tr style=\"text-align: right;\">\n",
       "      <th></th>\n",
       "      <th>hiv/aids</th>\n",
       "      <th>polio</th>\n",
       "      <th>measles</th>\n",
       "      <th>infant deaths</th>\n",
       "      <th>hepatitis b</th>\n",
       "      <th>nhi</th>\n",
       "    </tr>\n",
       "    <tr>\n",
       "      <th>country</th>\n",
       "      <th></th>\n",
       "      <th></th>\n",
       "      <th></th>\n",
       "      <th></th>\n",
       "      <th></th>\n",
       "      <th></th>\n",
       "    </tr>\n",
       "  </thead>\n",
       "  <tbody>\n",
       "    <tr>\n",
       "      <th>Afghanistan</th>\n",
       "      <td>0.10000</td>\n",
       "      <td>48.3750</td>\n",
       "      <td>2362.2500</td>\n",
       "      <td>78.2500</td>\n",
       "      <td>64.562500</td>\n",
       "      <td>6333.977983</td>\n",
       "    </tr>\n",
       "    <tr>\n",
       "      <th>Albania</th>\n",
       "      <td>0.10000</td>\n",
       "      <td>98.1250</td>\n",
       "      <td>53.3750</td>\n",
       "      <td>0.6875</td>\n",
       "      <td>98.000000</td>\n",
       "      <td>303.028476</td>\n",
       "    </tr>\n",
       "    <tr>\n",
       "      <th>Algeria</th>\n",
       "      <td>0.10000</td>\n",
       "      <td>91.7500</td>\n",
       "      <td>1943.8750</td>\n",
       "      <td>20.3125</td>\n",
       "      <td>78.000000</td>\n",
       "      <td>719.187054</td>\n",
       "    </tr>\n",
       "    <tr>\n",
       "      <th>Angola</th>\n",
       "      <td>2.36875</td>\n",
       "      <td>46.1250</td>\n",
       "      <td>3561.3125</td>\n",
       "      <td>83.7500</td>\n",
       "      <td>70.222222</td>\n",
       "      <td>7259.898956</td>\n",
       "    </tr>\n",
       "    <tr>\n",
       "      <th>Antigua and Barbuda</th>\n",
       "      <td>0.12500</td>\n",
       "      <td>96.9375</td>\n",
       "      <td>0.0000</td>\n",
       "      <td>0.0000</td>\n",
       "      <td>98.266667</td>\n",
       "      <td>293.391667</td>\n",
       "    </tr>\n",
       "    <tr>\n",
       "      <th>...</th>\n",
       "      <td>...</td>\n",
       "      <td>...</td>\n",
       "      <td>...</td>\n",
       "      <td>...</td>\n",
       "      <td>...</td>\n",
       "      <td>...</td>\n",
       "    </tr>\n",
       "    <tr>\n",
       "      <th>Venezuela (Bolivarian Republic of)</th>\n",
       "      <td>0.10000</td>\n",
       "      <td>74.6875</td>\n",
       "      <td>165.0000</td>\n",
       "      <td>9.3750</td>\n",
       "      <td>66.250000</td>\n",
       "      <td>317.360858</td>\n",
       "    </tr>\n",
       "    <tr>\n",
       "      <th>Viet Nam</th>\n",
       "      <td>0.14375</td>\n",
       "      <td>94.9375</td>\n",
       "      <td>4232.9375</td>\n",
       "      <td>29.1875</td>\n",
       "      <td>87.538462</td>\n",
       "      <td>1195.822147</td>\n",
       "    </tr>\n",
       "    <tr>\n",
       "      <th>Yemen</th>\n",
       "      <td>0.10000</td>\n",
       "      <td>67.1250</td>\n",
       "      <td>2761.1875</td>\n",
       "      <td>39.3750</td>\n",
       "      <td>55.687500</td>\n",
       "      <td>1793.875128</td>\n",
       "    </tr>\n",
       "    <tr>\n",
       "      <th>Zambia</th>\n",
       "      <td>11.93125</td>\n",
       "      <td>64.3750</td>\n",
       "      <td>6563.8125</td>\n",
       "      <td>33.4375</td>\n",
       "      <td>69.818182</td>\n",
       "      <td>1516.964447</td>\n",
       "    </tr>\n",
       "    <tr>\n",
       "      <th>Zimbabwe</th>\n",
       "      <td>23.26250</td>\n",
       "      <td>75.6250</td>\n",
       "      <td>923.0000</td>\n",
       "      <td>26.5625</td>\n",
       "      <td>70.562500</td>\n",
       "      <td>1190.384821</td>\n",
       "    </tr>\n",
       "  </tbody>\n",
       "</table>\n",
       "<p>184 rows × 6 columns</p>\n",
       "</div>\n",
       "      <button class=\"colab-df-convert\" onclick=\"convertToInteractive('df-40808ed1-dfa9-42ff-acc0-0bcb460224f7')\"\n",
       "              title=\"Convert this dataframe to an interactive table.\"\n",
       "              style=\"display:none;\">\n",
       "        \n",
       "  <svg xmlns=\"http://www.w3.org/2000/svg\" height=\"24px\"viewBox=\"0 0 24 24\"\n",
       "       width=\"24px\">\n",
       "    <path d=\"M0 0h24v24H0V0z\" fill=\"none\"/>\n",
       "    <path d=\"M18.56 5.44l.94 2.06.94-2.06 2.06-.94-2.06-.94-.94-2.06-.94 2.06-2.06.94zm-11 1L8.5 8.5l.94-2.06 2.06-.94-2.06-.94L8.5 2.5l-.94 2.06-2.06.94zm10 10l.94 2.06.94-2.06 2.06-.94-2.06-.94-.94-2.06-.94 2.06-2.06.94z\"/><path d=\"M17.41 7.96l-1.37-1.37c-.4-.4-.92-.59-1.43-.59-.52 0-1.04.2-1.43.59L10.3 9.45l-7.72 7.72c-.78.78-.78 2.05 0 2.83L4 21.41c.39.39.9.59 1.41.59.51 0 1.02-.2 1.41-.59l7.78-7.78 2.81-2.81c.8-.78.8-2.07 0-2.86zM5.41 20L4 18.59l7.72-7.72 1.47 1.35L5.41 20z\"/>\n",
       "  </svg>\n",
       "      </button>\n",
       "      \n",
       "  <style>\n",
       "    .colab-df-container {\n",
       "      display:flex;\n",
       "      flex-wrap:wrap;\n",
       "      gap: 12px;\n",
       "    }\n",
       "\n",
       "    .colab-df-convert {\n",
       "      background-color: #E8F0FE;\n",
       "      border: none;\n",
       "      border-radius: 50%;\n",
       "      cursor: pointer;\n",
       "      display: none;\n",
       "      fill: #1967D2;\n",
       "      height: 32px;\n",
       "      padding: 0 0 0 0;\n",
       "      width: 32px;\n",
       "    }\n",
       "\n",
       "    .colab-df-convert:hover {\n",
       "      background-color: #E2EBFA;\n",
       "      box-shadow: 0px 1px 2px rgba(60, 64, 67, 0.3), 0px 1px 3px 1px rgba(60, 64, 67, 0.15);\n",
       "      fill: #174EA6;\n",
       "    }\n",
       "\n",
       "    [theme=dark] .colab-df-convert {\n",
       "      background-color: #3B4455;\n",
       "      fill: #D2E3FC;\n",
       "    }\n",
       "\n",
       "    [theme=dark] .colab-df-convert:hover {\n",
       "      background-color: #434B5C;\n",
       "      box-shadow: 0px 1px 3px 1px rgba(0, 0, 0, 0.15);\n",
       "      filter: drop-shadow(0px 1px 2px rgba(0, 0, 0, 0.3));\n",
       "      fill: #FFFFFF;\n",
       "    }\n",
       "  </style>\n",
       "\n",
       "      <script>\n",
       "        const buttonEl =\n",
       "          document.querySelector('#df-40808ed1-dfa9-42ff-acc0-0bcb460224f7 button.colab-df-convert');\n",
       "        buttonEl.style.display =\n",
       "          google.colab.kernel.accessAllowed ? 'block' : 'none';\n",
       "\n",
       "        async function convertToInteractive(key) {\n",
       "          const element = document.querySelector('#df-40808ed1-dfa9-42ff-acc0-0bcb460224f7');\n",
       "          const dataTable =\n",
       "            await google.colab.kernel.invokeFunction('convertToInteractive',\n",
       "                                                     [key], {});\n",
       "          if (!dataTable) return;\n",
       "\n",
       "          const docLinkHtml = 'Like what you see? Visit the ' +\n",
       "            '<a target=\"_blank\" href=https://colab.research.google.com/notebooks/data_table.ipynb>data table notebook</a>'\n",
       "            + ' to learn more about interactive tables.';\n",
       "          element.innerHTML = '';\n",
       "          dataTable['output_type'] = 'display_data';\n",
       "          await google.colab.output.renderOutput(dataTable, element);\n",
       "          const docLink = document.createElement('div');\n",
       "          docLink.innerHTML = docLinkHtml;\n",
       "          element.appendChild(docLink);\n",
       "        }\n",
       "      </script>\n",
       "    </div>\n",
       "  </div>\n",
       "  "
      ]
     },
     "metadata": {},
     "execution_count": 36
    }
   ],
   "source": [
    "dff['nhi'] = (dff['hiv/aids'] * 10 + dff.polio * 2 + np.sqrt(dff.measles) + dff['infant deaths'] ** 2 + dff['hepatitis b'])\n",
    "dff"
   ],
   "id": "d49d7e81"
  },
  {
   "cell_type": "markdown",
   "metadata": {
    "id": "03876467"
   },
   "source": [
    "> 2.3.4 After you added the column with the index, create another column, categorical, called \"Health risk\", which can have 4 different values:\n",
    "* Very high risk\n",
    "* High risk\n",
    "* Medium risk\n",
    "* Low risk\n",
    "> You should assign the value to each row depening on the quartile the datapoint belongs to, following the NHI. If it is in the lowest 25%, it needs to be low risk, if it's between 25 and 50%, it will be Medium, between 50 and 75% High risk, between 75% and 100% Very high risk.\n",
    "Hint: you may want to check the `qcut` function of Pandas.\n",
    "\n",
    "> Finally, count the values of each class you created. How many datapoints are \"High Risk\"?"
   ],
   "id": "03876467"
  },
  {
   "cell_type": "code",
   "execution_count": null,
   "metadata": {
    "colab": {
     "base_uri": "https://localhost:8080/"
    },
    "id": "662ec22b",
    "outputId": "915e8a58-4636-4b34-902c-32737da9e156"
   },
   "outputs": [
    {
     "output_type": "stream",
     "name": "stdout",
     "text": [
      "Low : 46\n",
      "Medium : 46\n",
      "High : 46\n",
      "Very high : 46\n"
     ]
    }
   ],
   "source": [
    "dff['health risk'] = pd.qcut(dff.nhi, q=4, labels=['Low', 'Medium', 'High', 'Very high'])\n",
    "\n",
    "print(\"Low : %d\" % dff.loc[dff['health risk'] == 'Low'].shape[0])\n",
    "print(\"Medium : %d\" % dff.loc[dff['health risk'] == 'Medium'].shape[0])\n",
    "print(\"High : %d\" % dff.loc[dff['health risk'] == 'High'].shape[0])\n",
    "print(\"Very high : %d\" % dff.loc[dff['health risk'] == 'Very high'].shape[0])"
   ],
   "id": "662ec22b"
  },
  {
   "cell_type": "markdown",
   "metadata": {
    "id": "34bb4080"
   },
   "source": [
    ">2.4 Compare GDP in 2002 and in 2012. Were there any countries that had a lower GDP with respect to 2002? If so, how many?"
   ],
   "id": "34bb4080"
  },
  {
   "cell_type": "code",
   "execution_count": null,
   "metadata": {
    "colab": {
     "base_uri": "https://localhost:8080/",
     "height": 424
    },
    "id": "15a89547",
    "outputId": "e12e8208-5a3a-4d80-ca45-797fd1559769"
   },
   "outputs": [
    {
     "output_type": "execute_result",
     "data": {
      "text/plain": [
       "          country  year          gdp\n",
       "3     Afghanistan  2012   482.113050\n",
       "13    Afghanistan  2002          NaN\n",
       "19        Albania  2012  2793.971603\n",
       "29        Albania  2002          NaN\n",
       "35        Algeria  2012  3790.488930\n",
       "...           ...   ...          ...\n",
       "2903        Yemen  2002          NaN\n",
       "2909       Zambia  2012  1357.800876\n",
       "2919       Zambia  2002          NaN\n",
       "2925     Zimbabwe  2012   898.300126\n",
       "2935     Zimbabwe  2002          NaN\n",
       "\n",
       "[366 rows x 3 columns]"
      ],
      "text/html": [
       "\n",
       "  <div id=\"df-48e44beb-4e7f-4664-92fa-f29bca1c0d9a\">\n",
       "    <div class=\"colab-df-container\">\n",
       "      <div>\n",
       "<style scoped>\n",
       "    .dataframe tbody tr th:only-of-type {\n",
       "        vertical-align: middle;\n",
       "    }\n",
       "\n",
       "    .dataframe tbody tr th {\n",
       "        vertical-align: top;\n",
       "    }\n",
       "\n",
       "    .dataframe thead th {\n",
       "        text-align: right;\n",
       "    }\n",
       "</style>\n",
       "<table border=\"1\" class=\"dataframe\">\n",
       "  <thead>\n",
       "    <tr style=\"text-align: right;\">\n",
       "      <th></th>\n",
       "      <th>country</th>\n",
       "      <th>year</th>\n",
       "      <th>gdp</th>\n",
       "    </tr>\n",
       "  </thead>\n",
       "  <tbody>\n",
       "    <tr>\n",
       "      <th>3</th>\n",
       "      <td>Afghanistan</td>\n",
       "      <td>2012</td>\n",
       "      <td>482.113050</td>\n",
       "    </tr>\n",
       "    <tr>\n",
       "      <th>13</th>\n",
       "      <td>Afghanistan</td>\n",
       "      <td>2002</td>\n",
       "      <td>NaN</td>\n",
       "    </tr>\n",
       "    <tr>\n",
       "      <th>19</th>\n",
       "      <td>Albania</td>\n",
       "      <td>2012</td>\n",
       "      <td>2793.971603</td>\n",
       "    </tr>\n",
       "    <tr>\n",
       "      <th>29</th>\n",
       "      <td>Albania</td>\n",
       "      <td>2002</td>\n",
       "      <td>NaN</td>\n",
       "    </tr>\n",
       "    <tr>\n",
       "      <th>35</th>\n",
       "      <td>Algeria</td>\n",
       "      <td>2012</td>\n",
       "      <td>3790.488930</td>\n",
       "    </tr>\n",
       "    <tr>\n",
       "      <th>...</th>\n",
       "      <td>...</td>\n",
       "      <td>...</td>\n",
       "      <td>...</td>\n",
       "    </tr>\n",
       "    <tr>\n",
       "      <th>2903</th>\n",
       "      <td>Yemen</td>\n",
       "      <td>2002</td>\n",
       "      <td>NaN</td>\n",
       "    </tr>\n",
       "    <tr>\n",
       "      <th>2909</th>\n",
       "      <td>Zambia</td>\n",
       "      <td>2012</td>\n",
       "      <td>1357.800876</td>\n",
       "    </tr>\n",
       "    <tr>\n",
       "      <th>2919</th>\n",
       "      <td>Zambia</td>\n",
       "      <td>2002</td>\n",
       "      <td>NaN</td>\n",
       "    </tr>\n",
       "    <tr>\n",
       "      <th>2925</th>\n",
       "      <td>Zimbabwe</td>\n",
       "      <td>2012</td>\n",
       "      <td>898.300126</td>\n",
       "    </tr>\n",
       "    <tr>\n",
       "      <th>2935</th>\n",
       "      <td>Zimbabwe</td>\n",
       "      <td>2002</td>\n",
       "      <td>NaN</td>\n",
       "    </tr>\n",
       "  </tbody>\n",
       "</table>\n",
       "<p>366 rows × 3 columns</p>\n",
       "</div>\n",
       "      <button class=\"colab-df-convert\" onclick=\"convertToInteractive('df-48e44beb-4e7f-4664-92fa-f29bca1c0d9a')\"\n",
       "              title=\"Convert this dataframe to an interactive table.\"\n",
       "              style=\"display:none;\">\n",
       "        \n",
       "  <svg xmlns=\"http://www.w3.org/2000/svg\" height=\"24px\"viewBox=\"0 0 24 24\"\n",
       "       width=\"24px\">\n",
       "    <path d=\"M0 0h24v24H0V0z\" fill=\"none\"/>\n",
       "    <path d=\"M18.56 5.44l.94 2.06.94-2.06 2.06-.94-2.06-.94-.94-2.06-.94 2.06-2.06.94zm-11 1L8.5 8.5l.94-2.06 2.06-.94-2.06-.94L8.5 2.5l-.94 2.06-2.06.94zm10 10l.94 2.06.94-2.06 2.06-.94-2.06-.94-.94-2.06-.94 2.06-2.06.94z\"/><path d=\"M17.41 7.96l-1.37-1.37c-.4-.4-.92-.59-1.43-.59-.52 0-1.04.2-1.43.59L10.3 9.45l-7.72 7.72c-.78.78-.78 2.05 0 2.83L4 21.41c.39.39.9.59 1.41.59.51 0 1.02-.2 1.41-.59l7.78-7.78 2.81-2.81c.8-.78.8-2.07 0-2.86zM5.41 20L4 18.59l7.72-7.72 1.47 1.35L5.41 20z\"/>\n",
       "  </svg>\n",
       "      </button>\n",
       "      \n",
       "  <style>\n",
       "    .colab-df-container {\n",
       "      display:flex;\n",
       "      flex-wrap:wrap;\n",
       "      gap: 12px;\n",
       "    }\n",
       "\n",
       "    .colab-df-convert {\n",
       "      background-color: #E8F0FE;\n",
       "      border: none;\n",
       "      border-radius: 50%;\n",
       "      cursor: pointer;\n",
       "      display: none;\n",
       "      fill: #1967D2;\n",
       "      height: 32px;\n",
       "      padding: 0 0 0 0;\n",
       "      width: 32px;\n",
       "    }\n",
       "\n",
       "    .colab-df-convert:hover {\n",
       "      background-color: #E2EBFA;\n",
       "      box-shadow: 0px 1px 2px rgba(60, 64, 67, 0.3), 0px 1px 3px 1px rgba(60, 64, 67, 0.15);\n",
       "      fill: #174EA6;\n",
       "    }\n",
       "\n",
       "    [theme=dark] .colab-df-convert {\n",
       "      background-color: #3B4455;\n",
       "      fill: #D2E3FC;\n",
       "    }\n",
       "\n",
       "    [theme=dark] .colab-df-convert:hover {\n",
       "      background-color: #434B5C;\n",
       "      box-shadow: 0px 1px 3px 1px rgba(0, 0, 0, 0.15);\n",
       "      filter: drop-shadow(0px 1px 2px rgba(0, 0, 0, 0.3));\n",
       "      fill: #FFFFFF;\n",
       "    }\n",
       "  </style>\n",
       "\n",
       "      <script>\n",
       "        const buttonEl =\n",
       "          document.querySelector('#df-48e44beb-4e7f-4664-92fa-f29bca1c0d9a button.colab-df-convert');\n",
       "        buttonEl.style.display =\n",
       "          google.colab.kernel.accessAllowed ? 'block' : 'none';\n",
       "\n",
       "        async function convertToInteractive(key) {\n",
       "          const element = document.querySelector('#df-48e44beb-4e7f-4664-92fa-f29bca1c0d9a');\n",
       "          const dataTable =\n",
       "            await google.colab.kernel.invokeFunction('convertToInteractive',\n",
       "                                                     [key], {});\n",
       "          if (!dataTable) return;\n",
       "\n",
       "          const docLinkHtml = 'Like what you see? Visit the ' +\n",
       "            '<a target=\"_blank\" href=https://colab.research.google.com/notebooks/data_table.ipynb>data table notebook</a>'\n",
       "            + ' to learn more about interactive tables.';\n",
       "          element.innerHTML = '';\n",
       "          dataTable['output_type'] = 'display_data';\n",
       "          await google.colab.output.renderOutput(dataTable, element);\n",
       "          const docLink = document.createElement('div');\n",
       "          docLink.innerHTML = docLinkHtml;\n",
       "          element.appendChild(docLink);\n",
       "        }\n",
       "      </script>\n",
       "    </div>\n",
       "  </div>\n",
       "  "
      ]
     },
     "metadata": {},
     "execution_count": 38
    }
   ],
   "source": [
    "gdp_evol = df[['country', 'year', 'gdp']]\n",
    "gdp_evol = gdp_evol[(df.year == 2002) | (df.year == 2012)]\n",
    "gdp_evol['gdp'] = gdp_evol.groupby('country')['gdp'].diff(periods = -1)\n",
    "\n",
    "gdp_evol"
   ],
   "id": "15a89547"
  },
  {
   "cell_type": "code",
   "execution_count": null,
   "metadata": {
    "colab": {
     "base_uri": "https://localhost:8080/"
    },
    "id": "bTdAzubTHJ2M",
    "outputId": "fd3578a7-5d1e-4073-c43c-25945c743a0a"
   },
   "outputs": [
    {
     "output_type": "execute_result",
     "data": {
      "text/plain": [
       "24"
      ]
     },
     "metadata": {},
     "execution_count": 39
    }
   ],
   "source": [
    "gdp_evol.loc[gdp_evol['gdp'] < 0].shape[0]"
   ],
   "id": "bTdAzubTHJ2M"
  },
  {
   "cell_type": "markdown",
   "metadata": {
    "id": "daab9fe9"
   },
   "source": [
    ">2.5 Generate a table with the average life expectancy by year for three different groups: \n",
    ">* for all developing countries\n",
    ">* developed countries\n",
    ">* the overall aggregated values.\n",
    "\n",
    ">Then, plot the three trends in a line plot with the aggregated values for Life expectancy on y axis and the years on the x axis.\n"
   ],
   "id": "daab9fe9"
  },
  {
   "cell_type": "code",
   "execution_count": null,
   "metadata": {
    "colab": {
     "base_uri": "https://localhost:8080/"
    },
    "id": "FhAN4mgs9DzP",
    "outputId": "57e4c68a-4ef7-4147-e318-8d7d4df0a49a"
   },
   "outputs": [
    {
     "output_type": "stream",
     "name": "stdout",
     "text": [
      "             overall      developing       developed\n",
      "     life expectancy life expectancy life expectancy\n",
      "year                                                \n",
      "2000       66.750273       64.619868       76.803125\n",
      "2001       67.128962       65.009934       77.128125\n",
      "2002       67.351366       65.190728       77.546875\n",
      "2003       67.433333       65.206623       77.940625\n",
      "2004       67.646448       65.370861       78.384375\n",
      "2005       68.209290       66.009272       78.590625\n",
      "2006       68.667760       66.450331       79.131250\n",
      "2007       69.036066       66.860927       79.300000\n",
      "2008       69.427869       67.413907       78.931250\n",
      "2009       69.938251       67.894040       79.584375\n",
      "2010       70.048634       67.908609       80.146875\n",
      "2011       70.654098       68.523841       80.706250\n",
      "2012       70.916940       68.898013       80.443750\n",
      "2013       71.236066       69.234437       80.681250\n",
      "2014       71.536612       69.501987       81.137500\n",
      "2015       71.616940       69.690066       80.709375\n"
     ]
    }
   ],
   "source": [
    "\n",
    "bystatus = df.groupby(['status', 'year']).mean()[['life expectancy']]\n",
    "\n",
    "all = df.groupby('year').mean()[['life expectancy']]\n",
    "ing = bystatus.groupby('status').get_group('Developing').reset_index().set_index('year')['life expectancy']\n",
    "ed = bystatus.groupby('status').get_group('Developed').reset_index().set_index('year')['life expectancy']\n",
    "\n",
    "\n",
    "table = pd.concat([all, ing, ed], axis = 1, join='inner', keys=['overall', 'developing', 'developed'])\n",
    "\n",
    "print(table)"
   ],
   "id": "FhAN4mgs9DzP"
  },
  {
   "cell_type": "code",
   "execution_count": null,
   "metadata": {
    "colab": {
     "base_uri": "https://localhost:8080/",
     "height": 296
    },
    "id": "---2XVoDMbVL",
    "outputId": "3e799308-8a23-4257-b87d-b2e4391fbb62"
   },
   "outputs": [
    {
     "output_type": "execute_result",
     "data": {
      "text/plain": [
       "<matplotlib.axes._subplots.AxesSubplot at 0x7ff58e5e34d0>"
      ]
     },
     "metadata": {},
     "execution_count": 41
    },
    {
     "output_type": "display_data",
     "data": {
      "text/plain": [
       "<Figure size 432x288 with 1 Axes>"
      ],
      "image/png": "[encoded data removed]"
     },
     "metadata": {}
    }
   ],
   "source": [
    "# Plot\n",
    "table.plot(kind = 'line')\n"
   ],
   "id": "---2XVoDMbVL"
  },
  {
   "cell_type": "markdown",
   "metadata": {
    "id": "778bfb22"
   },
   "source": [
    ">2.6 Draw boxplots to compare the BMI (body mass index) between developed and developing countries. Before doing so, aggregate by country and average over time the BMI for each country. Remember to remove Nans. Do developed or developing have a higher median? Which has more outliers?"
   ],
   "id": "778bfb22"
  },
  {
   "cell_type": "code",
   "execution_count": null,
   "metadata": {
    "colab": {
     "base_uri": "https://localhost:8080/",
     "height": 337
    },
    "id": "3z6OrHIQlNMj",
    "outputId": "b874b566-88a3-4a5d-be05-1d5b1e687918"
   },
   "outputs": [
    {
     "output_type": "stream",
     "name": "stderr",
     "text": [
      "/usr/local/lib/python3.7/dist-packages/matplotlib/cbook/__init__.py:1376: VisibleDeprecationWarning: Creating an ndarray from ragged nested sequences (which is a list-or-tuple of lists-or-tuples-or ndarrays with different lengths or shapes) is deprecated. If you meant to do this, you must specify 'dtype=object' when creating the ndarray.\n",
      "  X = np.atleast_1d(X.T if isinstance(X, np.ndarray) else np.asarray(X))\n"
     ]
    },
    {
     "output_type": "execute_result",
     "data": {
      "text/plain": [
       "<matplotlib.axes._subplots.AxesSubplot at 0x7ff58e593510>"
      ]
     },
     "metadata": {},
     "execution_count": 42
    },
    {
     "output_type": "display_data",
     "data": {
      "text/plain": [
       "<Figure size 432x288 with 1 Axes>"
      ],
      "image/png": "[encoded data removed]"
     },
     "metadata": {}
    }
   ],
   "source": [
    "df_ing = df[['country', 'bmi']].loc[df['status'] == 'Developing'].dropna()\n",
    "df_ing = df_ing.groupby('country').mean()\n",
    "  \n",
    "df_ed = df[['country', 'bmi']].loc[df['status'] == 'Developed'].dropna()\n",
    "df_ed = df_ed.groupby('country').mean()\n",
    "\n",
    "plot = pd.concat([df_ing, df_ed], axis=1, keys=['Developing', 'Developed'])\n",
    "plot.plot(kind='box')"
   ],
   "id": "3z6OrHIQlNMj"
  },
  {
   "cell_type": "markdown",
   "metadata": {
    "id": "5f0253ef"
   },
   "source": [
    ">2.7 Using `folium`, plot on an interactive map the life expectancy of the countries represented in the dataset. You need to have a scale of colors, the more intense the color, the higher the life expectancy of the country.\n",
    ">\n",
    "> Only include 2015 data.\n",
    ">\n",
    ">A separate geojson file with latitudes and longitudes of the countries needs to be downloaded from [here](https://datahub.io/core/geo-countries). You should use the `folium.Choropleth` method and give the geojson file as `geo_data` parameter. The `key_on` parameter should be set to `\"feature.properties.ADMIN\"` because of the structure of the json file. Make sure to drop any missing values before plotting your map.\n",
    "\n",
    "\n",
    "\n",
    "\n"
   ],
   "id": "5f0253ef"
  },
  {
   "cell_type": "code",
   "execution_count": null,
   "metadata": {
    "colab": {
     "base_uri": "https://localhost:8080/",
     "height": 206
    },
    "id": "77sJeM7CZCTo",
    "outputId": "a5c763ef-eedf-41c7-f24a-8edd3cc13c2d"
   },
   "outputs": [
    {
     "output_type": "execute_result",
     "data": {
      "text/plain": [
       "                country  life expectancy\n",
       "0           Afghanistan             65.0\n",
       "16              Albania             77.8\n",
       "32              Algeria             75.6\n",
       "48               Angola             52.4\n",
       "64  Antigua and Barbuda             76.4"
      ],
      "text/html": [
       "\n",
       "  <div id=\"df-f01ddb7f-8a33-4acf-935f-47a90ebfb23d\">\n",
       "    <div class=\"colab-df-container\">\n",
       "      <div>\n",
       "<style scoped>\n",
       "    .dataframe tbody tr th:only-of-type {\n",
       "        vertical-align: middle;\n",
       "    }\n",
       "\n",
       "    .dataframe tbody tr th {\n",
       "        vertical-align: top;\n",
       "    }\n",
       "\n",
       "    .dataframe thead th {\n",
       "        text-align: right;\n",
       "    }\n",
       "</style>\n",
       "<table border=\"1\" class=\"dataframe\">\n",
       "  <thead>\n",
       "    <tr style=\"text-align: right;\">\n",
       "      <th></th>\n",
       "      <th>country</th>\n",
       "      <th>life expectancy</th>\n",
       "    </tr>\n",
       "  </thead>\n",
       "  <tbody>\n",
       "    <tr>\n",
       "      <th>0</th>\n",
       "      <td>Afghanistan</td>\n",
       "      <td>65.0</td>\n",
       "    </tr>\n",
       "    <tr>\n",
       "      <th>16</th>\n",
       "      <td>Albania</td>\n",
       "      <td>77.8</td>\n",
       "    </tr>\n",
       "    <tr>\n",
       "      <th>32</th>\n",
       "      <td>Algeria</td>\n",
       "      <td>75.6</td>\n",
       "    </tr>\n",
       "    <tr>\n",
       "      <th>48</th>\n",
       "      <td>Angola</td>\n",
       "      <td>52.4</td>\n",
       "    </tr>\n",
       "    <tr>\n",
       "      <th>64</th>\n",
       "      <td>Antigua and Barbuda</td>\n",
       "      <td>76.4</td>\n",
       "    </tr>\n",
       "  </tbody>\n",
       "</table>\n",
       "</div>\n",
       "      <button class=\"colab-df-convert\" onclick=\"convertToInteractive('df-f01ddb7f-8a33-4acf-935f-47a90ebfb23d')\"\n",
       "              title=\"Convert this dataframe to an interactive table.\"\n",
       "              style=\"display:none;\">\n",
       "        \n",
       "  <svg xmlns=\"http://www.w3.org/2000/svg\" height=\"24px\"viewBox=\"0 0 24 24\"\n",
       "       width=\"24px\">\n",
       "    <path d=\"M0 0h24v24H0V0z\" fill=\"none\"/>\n",
       "    <path d=\"M18.56 5.44l.94 2.06.94-2.06 2.06-.94-2.06-.94-.94-2.06-.94 2.06-2.06.94zm-11 1L8.5 8.5l.94-2.06 2.06-.94-2.06-.94L8.5 2.5l-.94 2.06-2.06.94zm10 10l.94 2.06.94-2.06 2.06-.94-2.06-.94-.94-2.06-.94 2.06-2.06.94z\"/><path d=\"M17.41 7.96l-1.37-1.37c-.4-.4-.92-.59-1.43-.59-.52 0-1.04.2-1.43.59L10.3 9.45l-7.72 7.72c-.78.78-.78 2.05 0 2.83L4 21.41c.39.39.9.59 1.41.59.51 0 1.02-.2 1.41-.59l7.78-7.78 2.81-2.81c.8-.78.8-2.07 0-2.86zM5.41 20L4 18.59l7.72-7.72 1.47 1.35L5.41 20z\"/>\n",
       "  </svg>\n",
       "      </button>\n",
       "      \n",
       "  <style>\n",
       "    .colab-df-container {\n",
       "      display:flex;\n",
       "      flex-wrap:wrap;\n",
       "      gap: 12px;\n",
       "    }\n",
       "\n",
       "    .colab-df-convert {\n",
       "      background-color: #E8F0FE;\n",
       "      border: none;\n",
       "      border-radius: 50%;\n",
       "      cursor: pointer;\n",
       "      display: none;\n",
       "      fill: #1967D2;\n",
       "      height: 32px;\n",
       "      padding: 0 0 0 0;\n",
       "      width: 32px;\n",
       "    }\n",
       "\n",
       "    .colab-df-convert:hover {\n",
       "      background-color: #E2EBFA;\n",
       "      box-shadow: 0px 1px 2px rgba(60, 64, 67, 0.3), 0px 1px 3px 1px rgba(60, 64, 67, 0.15);\n",
       "      fill: #174EA6;\n",
       "    }\n",
       "\n",
       "    [theme=dark] .colab-df-convert {\n",
       "      background-color: #3B4455;\n",
       "      fill: #D2E3FC;\n",
       "    }\n",
       "\n",
       "    [theme=dark] .colab-df-convert:hover {\n",
       "      background-color: #434B5C;\n",
       "      box-shadow: 0px 1px 3px 1px rgba(0, 0, 0, 0.15);\n",
       "      filter: drop-shadow(0px 1px 2px rgba(0, 0, 0, 0.3));\n",
       "      fill: #FFFFFF;\n",
       "    }\n",
       "  </style>\n",
       "\n",
       "      <script>\n",
       "        const buttonEl =\n",
       "          document.querySelector('#df-f01ddb7f-8a33-4acf-935f-47a90ebfb23d button.colab-df-convert');\n",
       "        buttonEl.style.display =\n",
       "          google.colab.kernel.accessAllowed ? 'block' : 'none';\n",
       "\n",
       "        async function convertToInteractive(key) {\n",
       "          const element = document.querySelector('#df-f01ddb7f-8a33-4acf-935f-47a90ebfb23d');\n",
       "          const dataTable =\n",
       "            await google.colab.kernel.invokeFunction('convertToInteractive',\n",
       "                                                     [key], {});\n",
       "          if (!dataTable) return;\n",
       "\n",
       "          const docLinkHtml = 'Like what you see? Visit the ' +\n",
       "            '<a target=\"_blank\" href=https://colab.research.google.com/notebooks/data_table.ipynb>data table notebook</a>'\n",
       "            + ' to learn more about interactive tables.';\n",
       "          element.innerHTML = '';\n",
       "          dataTable['output_type'] = 'display_data';\n",
       "          await google.colab.output.renderOutput(dataTable, element);\n",
       "          const docLink = document.createElement('div');\n",
       "          docLink.innerHTML = docLinkHtml;\n",
       "          element.appendChild(docLink);\n",
       "        }\n",
       "      </script>\n",
       "    </div>\n",
       "  </div>\n",
       "  "
      ]
     },
     "metadata": {},
     "execution_count": 43
    }
   ],
   "source": [
    "df15 = df[['country', 'life expectancy']].loc[(df['year'] == 2015)].dropna()\n",
    "\n",
    "df15.head()"
   ],
   "id": "77sJeM7CZCTo"
  },
  {
   "cell_type": "code",
   "execution_count": null,
   "metadata": {
    "colab": {
     "base_uri": "https://localhost:8080/",
     "height": 931
    },
    "id": "AVeOupt6a-9w",
    "outputId": "8bfcd18b-f6a6-4b5f-bd7f-fbe6e72ca14c"
   },
   "outputs": [],
   "source": [
    "import folium\n",
    "import requests\n",
    "from pprint import pprint\n",
    "\n",
    "url = 'https://raw.githubusercontent.com/michalis0/DataMining_and_MachineLearning/master/Assignment/Assignment_Q1_to_Q3_2022/countries.geojson'\n",
    "geo_data = requests.get(url).json()\n",
    "\n",
    "m = folium.Map(location=[0,0], zoom_start=2)\n",
    "folium.Choropleth(\n",
    "    geo_data=geo_data,\n",
    "    name=\"choropleth\",\n",
    "    data=df15,\n",
    "    columns=[\"country\", \"life expectancy\"],\n",
    "    key_on=\"feature.properties.ADMIN\",\n",
    "    fill_color=\"BuPu\",\n",
    "    fill_opacity=0.9,\n",
    "    line_opacity=0.2,\n",
    "    legend_name=\"Life Expectancy\",\n",
    ").add_to(m)\n",
    "\n",
    "folium.LayerControl().add_to(m)\n",
    "\n",
    "m"
   ],
   "id": "AVeOupt6a-9w"
  },
  {
   "cell_type": "markdown",
   "metadata": {
    "id": "f2c37c70"
   },
   "source": [
    "## Before regression: One Hot Encoding"
   ],
   "id": "f2c37c70"
  },
  {
   "cell_type": "markdown",
   "metadata": {
    "id": "697d3601"
   },
   "source": [
    "Before moving on to the regression, we need to transform the categorical variables as dummy variables for the regression. In order to do so, we use a [One Hot Encoder](https://scikit-learn.org/s/modules/generated/sklearn.preprocessing.OneHotEncoder.html). Pay attention: we need to consider \"year\" as a categorical variable as well, as it is not a continuous one. So the two features that you need to encode are: Year and Status. Add the features to the dataset.\n",
    "Reminder: when encoding n categories, we need to add n-1 features to avoid multicollinearity - the \"Dummy variable trap\"."
   ],
   "id": "697d3601"
  },
  {
   "cell_type": "markdown",
   "metadata": {
    "id": "08213906"
   },
   "source": [
    ">2.8 How many features does the dataframe have now, after adding n-1 columns for year and m-1 for status, where n and m are respectively the number of categories possible?"
   ],
   "id": "08213906"
  },
  {
   "cell_type": "code",
   "execution_count": null,
   "metadata": {
    "id": "ea84e615"
   },
   "outputs": [],
   "source": [
    "from sklearn.preprocessing import OneHotEncoder\n"
   ],
   "id": "ea84e615"
  },
  {
   "cell_type": "code",
   "execution_count": null,
   "metadata": {
    "colab": {
     "base_uri": "https://localhost:8080/"
    },
    "id": "66faa2ac",
    "outputId": "8b068246-25b1-4bc9-c08d-304c1cca986c"
   },
   "outputs": [
    {
     "output_type": "execute_result",
     "data": {
      "text/plain": [
       "(2938, 28)"
      ]
     },
     "metadata": {},
     "execution_count": 46
    }
   ],
   "source": [
    "df3 = pd.get_dummies(df, columns=['status','year'], drop_first=True)\n",
    "df3.shape"
   ],
   "id": "66faa2ac"
  },
  {
   "cell_type": "markdown",
   "metadata": {
    "id": "cddc6205"
   },
   "source": [
    "## 3. Regression Analysis\n",
    "### 3.1 Intro to regression"
   ],
   "id": "cddc6205"
  },
  {
   "cell_type": "markdown",
   "metadata": {
    "id": "733c071c"
   },
   "source": [
    "For this section we will try to build a model to predict the life expectancy, given other data regarding a country. Here we are providing the cleaned dataframe for you. The regression dataset is the same you've been working on until now with some additional cleaning. The features available are the following:\n",
    "* Alcohol\n",
    "* Schooling\n",
    "* GDP\n",
    "* Life expectancy\n",
    "* Percentage expenditure\n",
    "* One dummy feature for each year except for 1 (2000,2001,2002,...)\n",
    "* One dummy feature \"Developing\" indicating whether the country is a developing one or not"
   ],
   "id": "733c071c"
  },
  {
   "cell_type": "markdown",
   "metadata": {
    "id": "58296995"
   },
   "source": [
    ">Load the data."
   ],
   "id": "58296995"
  },
  {
   "cell_type": "code",
   "execution_count": null,
   "metadata": {
    "id": "ee725745"
   },
   "outputs": [],
   "source": [
    "nd = pd.read_csv(\"https://raw.githubusercontent.com/michalis0/DataMining_and_MachineLearning/master/Assignment/Assignment_Q1_to_Q3_2022/Regression%20Analysis%20Data\")"
   ],
   "id": "ee725745"
  },
  {
   "cell_type": "markdown",
   "metadata": {
    "id": "23b94d68"
   },
   "source": [
    ">3.1.1. Generate descriptive statistics"
   ],
   "id": "23b94d68"
  },
  {
   "cell_type": "code",
   "execution_count": null,
   "metadata": {
    "colab": {
     "base_uri": "https://localhost:8080/",
     "height": 411
    },
    "id": "3dc64839",
    "outputId": "5e5dcdf7-b2b5-4afa-a410-49c52a5cbe5e"
   },
   "outputs": [
    {
     "output_type": "execute_result",
     "data": {
      "text/plain": [
       "              Year  Life expectancy      Alcohol  Percentage expenditure  \\\n",
       "count  2117.000000      2117.000000  2117.000000             2117.000000   \n",
       "mean   2007.004251        68.629003     4.712300              897.159420   \n",
       "std       4.321822         9.874433     4.048895             2236.390076   \n",
       "min    2000.000000        36.300000     0.010000                0.000000   \n",
       "25%    2003.000000        62.100000     0.970000               31.594159   \n",
       "50%    2007.000000        71.400000     4.080000              126.698109   \n",
       "75%    2011.000000        75.400000     7.560000              549.809610   \n",
       "max    2015.000000        89.000000    17.870000            19479.911610   \n",
       "\n",
       "                 Gdp    Population    Schooling         2000         2001  \\\n",
       "count    2117.000000  2.117000e+03  2117.000000  2117.000000  2117.000000   \n",
       "mean     6678.433958  1.296805e+07    11.883562     0.066131     0.066604   \n",
       "std     13754.819775  6.294690e+07     3.353225     0.248570     0.249393   \n",
       "min         1.681350  3.400000e+01     0.000000     0.000000     0.000000   \n",
       "25%       418.292176  1.923120e+05     9.900000     0.000000     0.000000   \n",
       "50%      1461.671957  1.354775e+06    12.100000     0.000000     0.000000   \n",
       "75%      4981.198619  7.295394e+06    14.300000     0.000000     0.000000   \n",
       "max    119172.741800  1.293859e+09    20.700000     1.000000     1.000000   \n",
       "\n",
       "              2002  ...         2006         2007         2008         2009  \\\n",
       "count  2117.000000  ...  2117.000000  2117.000000  2117.000000  2117.000000   \n",
       "mean      0.066604  ...     0.067076     0.067076     0.066604     0.066604   \n",
       "std       0.249393  ...     0.250213     0.250213     0.249393     0.249393   \n",
       "min       0.000000  ...     0.000000     0.000000     0.000000     0.000000   \n",
       "25%       0.000000  ...     0.000000     0.000000     0.000000     0.000000   \n",
       "50%       0.000000  ...     0.000000     0.000000     0.000000     0.000000   \n",
       "75%       0.000000  ...     0.000000     0.000000     0.000000     0.000000   \n",
       "max       1.000000  ...     1.000000     1.000000     1.000000     1.000000   \n",
       "\n",
       "              2010         2011         2012         2013         2014  \\\n",
       "count  2117.000000  2117.000000  2117.000000  2117.000000  2117.000000   \n",
       "mean      0.066604     0.066604     0.066131     0.066131     0.066131   \n",
       "std       0.249393     0.249393     0.248570     0.248570     0.248570   \n",
       "min       0.000000     0.000000     0.000000     0.000000     0.000000   \n",
       "25%       0.000000     0.000000     0.000000     0.000000     0.000000   \n",
       "50%       0.000000     0.000000     0.000000     0.000000     0.000000   \n",
       "75%       0.000000     0.000000     0.000000     0.000000     0.000000   \n",
       "max       1.000000     1.000000     1.000000     1.000000     1.000000   \n",
       "\n",
       "        Developing  \n",
       "count  2117.000000  \n",
       "mean      0.815305  \n",
       "std       0.388142  \n",
       "min       0.000000  \n",
       "25%       1.000000  \n",
       "50%       1.000000  \n",
       "75%       1.000000  \n",
       "max       1.000000  \n",
       "\n",
       "[8 rows x 23 columns]"
      ],
      "text/html": [
       "\n",
       "  <div id=\"df-05c8eb52-01a8-4294-bb1a-55340b13c3b0\">\n",
       "    <div class=\"colab-df-container\">\n",
       "      <div>\n",
       "<style scoped>\n",
       "    .dataframe tbody tr th:only-of-type {\n",
       "        vertical-align: middle;\n",
       "    }\n",
       "\n",
       "    .dataframe tbody tr th {\n",
       "        vertical-align: top;\n",
       "    }\n",
       "\n",
       "    .dataframe thead th {\n",
       "        text-align: right;\n",
       "    }\n",
       "</style>\n",
       "<table border=\"1\" class=\"dataframe\">\n",
       "  <thead>\n",
       "    <tr style=\"text-align: right;\">\n",
       "      <th></th>\n",
       "      <th>Year</th>\n",
       "      <th>Life expectancy</th>\n",
       "      <th>Alcohol</th>\n",
       "      <th>Percentage expenditure</th>\n",
       "      <th>Gdp</th>\n",
       "      <th>Population</th>\n",
       "      <th>Schooling</th>\n",
       "      <th>2000</th>\n",
       "      <th>2001</th>\n",
       "      <th>2002</th>\n",
       "      <th>...</th>\n",
       "      <th>2006</th>\n",
       "      <th>2007</th>\n",
       "      <th>2008</th>\n",
       "      <th>2009</th>\n",
       "      <th>2010</th>\n",
       "      <th>2011</th>\n",
       "      <th>2012</th>\n",
       "      <th>2013</th>\n",
       "      <th>2014</th>\n",
       "      <th>Developing</th>\n",
       "    </tr>\n",
       "  </thead>\n",
       "  <tbody>\n",
       "    <tr>\n",
       "      <th>count</th>\n",
       "      <td>2117.000000</td>\n",
       "      <td>2117.000000</td>\n",
       "      <td>2117.000000</td>\n",
       "      <td>2117.000000</td>\n",
       "      <td>2117.000000</td>\n",
       "      <td>2.117000e+03</td>\n",
       "      <td>2117.000000</td>\n",
       "      <td>2117.000000</td>\n",
       "      <td>2117.000000</td>\n",
       "      <td>2117.000000</td>\n",
       "      <td>...</td>\n",
       "      <td>2117.000000</td>\n",
       "      <td>2117.000000</td>\n",
       "      <td>2117.000000</td>\n",
       "      <td>2117.000000</td>\n",
       "      <td>2117.000000</td>\n",
       "      <td>2117.000000</td>\n",
       "      <td>2117.000000</td>\n",
       "      <td>2117.000000</td>\n",
       "      <td>2117.000000</td>\n",
       "      <td>2117.000000</td>\n",
       "    </tr>\n",
       "    <tr>\n",
       "      <th>mean</th>\n",
       "      <td>2007.004251</td>\n",
       "      <td>68.629003</td>\n",
       "      <td>4.712300</td>\n",
       "      <td>897.159420</td>\n",
       "      <td>6678.433958</td>\n",
       "      <td>1.296805e+07</td>\n",
       "      <td>11.883562</td>\n",
       "      <td>0.066131</td>\n",
       "      <td>0.066604</td>\n",
       "      <td>0.066604</td>\n",
       "      <td>...</td>\n",
       "      <td>0.067076</td>\n",
       "      <td>0.067076</td>\n",
       "      <td>0.066604</td>\n",
       "      <td>0.066604</td>\n",
       "      <td>0.066604</td>\n",
       "      <td>0.066604</td>\n",
       "      <td>0.066131</td>\n",
       "      <td>0.066131</td>\n",
       "      <td>0.066131</td>\n",
       "      <td>0.815305</td>\n",
       "    </tr>\n",
       "    <tr>\n",
       "      <th>std</th>\n",
       "      <td>4.321822</td>\n",
       "      <td>9.874433</td>\n",
       "      <td>4.048895</td>\n",
       "      <td>2236.390076</td>\n",
       "      <td>13754.819775</td>\n",
       "      <td>6.294690e+07</td>\n",
       "      <td>3.353225</td>\n",
       "      <td>0.248570</td>\n",
       "      <td>0.249393</td>\n",
       "      <td>0.249393</td>\n",
       "      <td>...</td>\n",
       "      <td>0.250213</td>\n",
       "      <td>0.250213</td>\n",
       "      <td>0.249393</td>\n",
       "      <td>0.249393</td>\n",
       "      <td>0.249393</td>\n",
       "      <td>0.249393</td>\n",
       "      <td>0.248570</td>\n",
       "      <td>0.248570</td>\n",
       "      <td>0.248570</td>\n",
       "      <td>0.388142</td>\n",
       "    </tr>\n",
       "    <tr>\n",
       "      <th>min</th>\n",
       "      <td>2000.000000</td>\n",
       "      <td>36.300000</td>\n",
       "      <td>0.010000</td>\n",
       "      <td>0.000000</td>\n",
       "      <td>1.681350</td>\n",
       "      <td>3.400000e+01</td>\n",
       "      <td>0.000000</td>\n",
       "      <td>0.000000</td>\n",
       "      <td>0.000000</td>\n",
       "      <td>0.000000</td>\n",
       "      <td>...</td>\n",
       "      <td>0.000000</td>\n",
       "      <td>0.000000</td>\n",
       "      <td>0.000000</td>\n",
       "      <td>0.000000</td>\n",
       "      <td>0.000000</td>\n",
       "      <td>0.000000</td>\n",
       "      <td>0.000000</td>\n",
       "      <td>0.000000</td>\n",
       "      <td>0.000000</td>\n",
       "      <td>0.000000</td>\n",
       "    </tr>\n",
       "    <tr>\n",
       "      <th>25%</th>\n",
       "      <td>2003.000000</td>\n",
       "      <td>62.100000</td>\n",
       "      <td>0.970000</td>\n",
       "      <td>31.594159</td>\n",
       "      <td>418.292176</td>\n",
       "      <td>1.923120e+05</td>\n",
       "      <td>9.900000</td>\n",
       "      <td>0.000000</td>\n",
       "      <td>0.000000</td>\n",
       "      <td>0.000000</td>\n",
       "      <td>...</td>\n",
       "      <td>0.000000</td>\n",
       "      <td>0.000000</td>\n",
       "      <td>0.000000</td>\n",
       "      <td>0.000000</td>\n",
       "      <td>0.000000</td>\n",
       "      <td>0.000000</td>\n",
       "      <td>0.000000</td>\n",
       "      <td>0.000000</td>\n",
       "      <td>0.000000</td>\n",
       "      <td>1.000000</td>\n",
       "    </tr>\n",
       "    <tr>\n",
       "      <th>50%</th>\n",
       "      <td>2007.000000</td>\n",
       "      <td>71.400000</td>\n",
       "      <td>4.080000</td>\n",
       "      <td>126.698109</td>\n",
       "      <td>1461.671957</td>\n",
       "      <td>1.354775e+06</td>\n",
       "      <td>12.100000</td>\n",
       "      <td>0.000000</td>\n",
       "      <td>0.000000</td>\n",
       "      <td>0.000000</td>\n",
       "      <td>...</td>\n",
       "      <td>0.000000</td>\n",
       "      <td>0.000000</td>\n",
       "      <td>0.000000</td>\n",
       "      <td>0.000000</td>\n",
       "      <td>0.000000</td>\n",
       "      <td>0.000000</td>\n",
       "      <td>0.000000</td>\n",
       "      <td>0.000000</td>\n",
       "      <td>0.000000</td>\n",
       "      <td>1.000000</td>\n",
       "    </tr>\n",
       "    <tr>\n",
       "      <th>75%</th>\n",
       "      <td>2011.000000</td>\n",
       "      <td>75.400000</td>\n",
       "      <td>7.560000</td>\n",
       "      <td>549.809610</td>\n",
       "      <td>4981.198619</td>\n",
       "      <td>7.295394e+06</td>\n",
       "      <td>14.300000</td>\n",
       "      <td>0.000000</td>\n",
       "      <td>0.000000</td>\n",
       "      <td>0.000000</td>\n",
       "      <td>...</td>\n",
       "      <td>0.000000</td>\n",
       "      <td>0.000000</td>\n",
       "      <td>0.000000</td>\n",
       "      <td>0.000000</td>\n",
       "      <td>0.000000</td>\n",
       "      <td>0.000000</td>\n",
       "      <td>0.000000</td>\n",
       "      <td>0.000000</td>\n",
       "      <td>0.000000</td>\n",
       "      <td>1.000000</td>\n",
       "    </tr>\n",
       "    <tr>\n",
       "      <th>max</th>\n",
       "      <td>2015.000000</td>\n",
       "      <td>89.000000</td>\n",
       "      <td>17.870000</td>\n",
       "      <td>19479.911610</td>\n",
       "      <td>119172.741800</td>\n",
       "      <td>1.293859e+09</td>\n",
       "      <td>20.700000</td>\n",
       "      <td>1.000000</td>\n",
       "      <td>1.000000</td>\n",
       "      <td>1.000000</td>\n",
       "      <td>...</td>\n",
       "      <td>1.000000</td>\n",
       "      <td>1.000000</td>\n",
       "      <td>1.000000</td>\n",
       "      <td>1.000000</td>\n",
       "      <td>1.000000</td>\n",
       "      <td>1.000000</td>\n",
       "      <td>1.000000</td>\n",
       "      <td>1.000000</td>\n",
       "      <td>1.000000</td>\n",
       "      <td>1.000000</td>\n",
       "    </tr>\n",
       "  </tbody>\n",
       "</table>\n",
       "<p>8 rows × 23 columns</p>\n",
       "</div>\n",
       "      <button class=\"colab-df-convert\" onclick=\"convertToInteractive('df-05c8eb52-01a8-4294-bb1a-55340b13c3b0')\"\n",
       "              title=\"Convert this dataframe to an interactive table.\"\n",
       "              style=\"display:none;\">\n",
       "        \n",
       "  <svg xmlns=\"http://www.w3.org/2000/svg\" height=\"24px\"viewBox=\"0 0 24 24\"\n",
       "       width=\"24px\">\n",
       "    <path d=\"M0 0h24v24H0V0z\" fill=\"none\"/>\n",
       "    <path d=\"M18.56 5.44l.94 2.06.94-2.06 2.06-.94-2.06-.94-.94-2.06-.94 2.06-2.06.94zm-11 1L8.5 8.5l.94-2.06 2.06-.94-2.06-.94L8.5 2.5l-.94 2.06-2.06.94zm10 10l.94 2.06.94-2.06 2.06-.94-2.06-.94-.94-2.06-.94 2.06-2.06.94z\"/><path d=\"M17.41 7.96l-1.37-1.37c-.4-.4-.92-.59-1.43-.59-.52 0-1.04.2-1.43.59L10.3 9.45l-7.72 7.72c-.78.78-.78 2.05 0 2.83L4 21.41c.39.39.9.59 1.41.59.51 0 1.02-.2 1.41-.59l7.78-7.78 2.81-2.81c.8-.78.8-2.07 0-2.86zM5.41 20L4 18.59l7.72-7.72 1.47 1.35L5.41 20z\"/>\n",
       "  </svg>\n",
       "      </button>\n",
       "      \n",
       "  <style>\n",
       "    .colab-df-container {\n",
       "      display:flex;\n",
       "      flex-wrap:wrap;\n",
       "      gap: 12px;\n",
       "    }\n",
       "\n",
       "    .colab-df-convert {\n",
       "      background-color: #E8F0FE;\n",
       "      border: none;\n",
       "      border-radius: 50%;\n",
       "      cursor: pointer;\n",
       "      display: none;\n",
       "      fill: #1967D2;\n",
       "      height: 32px;\n",
       "      padding: 0 0 0 0;\n",
       "      width: 32px;\n",
       "    }\n",
       "\n",
       "    .colab-df-convert:hover {\n",
       "      background-color: #E2EBFA;\n",
       "      box-shadow: 0px 1px 2px rgba(60, 64, 67, 0.3), 0px 1px 3px 1px rgba(60, 64, 67, 0.15);\n",
       "      fill: #174EA6;\n",
       "    }\n",
       "\n",
       "    [theme=dark] .colab-df-convert {\n",
       "      background-color: #3B4455;\n",
       "      fill: #D2E3FC;\n",
       "    }\n",
       "\n",
       "    [theme=dark] .colab-df-convert:hover {\n",
       "      background-color: #434B5C;\n",
       "      box-shadow: 0px 1px 3px 1px rgba(0, 0, 0, 0.15);\n",
       "      filter: drop-shadow(0px 1px 2px rgba(0, 0, 0, 0.3));\n",
       "      fill: #FFFFFF;\n",
       "    }\n",
       "  </style>\n",
       "\n",
       "      <script>\n",
       "        const buttonEl =\n",
       "          document.querySelector('#df-05c8eb52-01a8-4294-bb1a-55340b13c3b0 button.colab-df-convert');\n",
       "        buttonEl.style.display =\n",
       "          google.colab.kernel.accessAllowed ? 'block' : 'none';\n",
       "\n",
       "        async function convertToInteractive(key) {\n",
       "          const element = document.querySelector('#df-05c8eb52-01a8-4294-bb1a-55340b13c3b0');\n",
       "          const dataTable =\n",
       "            await google.colab.kernel.invokeFunction('convertToInteractive',\n",
       "                                                     [key], {});\n",
       "          if (!dataTable) return;\n",
       "\n",
       "          const docLinkHtml = 'Like what you see? Visit the ' +\n",
       "            '<a target=\"_blank\" href=https://colab.research.google.com/notebooks/data_table.ipynb>data table notebook</a>'\n",
       "            + ' to learn more about interactive tables.';\n",
       "          element.innerHTML = '';\n",
       "          dataTable['output_type'] = 'display_data';\n",
       "          await google.colab.output.renderOutput(dataTable, element);\n",
       "          const docLink = document.createElement('div');\n",
       "          docLink.innerHTML = docLinkHtml;\n",
       "          element.appendChild(docLink);\n",
       "        }\n",
       "      </script>\n",
       "    </div>\n",
       "  </div>\n",
       "  "
      ]
     },
     "metadata": {},
     "execution_count": 48
    }
   ],
   "source": [
    "nd.describe()"
   ],
   "id": "3dc64839"
  },
  {
   "cell_type": "markdown",
   "metadata": {
    "id": "cffa904b"
   },
   "source": [
    ">3.1.2. Plot the distribution of life expectancy in 2000 and in 2012. Then create a new column equal to the natural logarithm of life expectancy and plot its histogram as well, just for year 2000."
   ],
   "id": "cffa904b"
  },
  {
   "cell_type": "code",
   "execution_count": null,
   "metadata": {
    "colab": {
     "base_uri": "https://localhost:8080/",
     "height": 562
    },
    "id": "cd095c90",
    "outputId": "2d014e75-8998-416e-d6f0-388f632a50df"
   },
   "outputs": [
    {
     "output_type": "execute_result",
     "data": {
      "text/plain": [
       "<matplotlib.axes._subplots.AxesSubplot at 0x7ff586433210>"
      ]
     },
     "metadata": {},
     "execution_count": 49
    },
    {
     "output_type": "display_data",
     "data": {
      "text/plain": [
       "<Figure size 432x288 with 1 Axes>"
      ],
      "image/png": "[encoded data removed]"
     },
     "metadata": {}
    },
    {
     "output_type": "display_data",
     "data": {
      "text/plain": [
       "<Figure size 432x288 with 1 Axes>"
      ],
      "image/png": "[encoded data removed]"
     },
     "metadata": {}
    }
   ],
   "source": [
    "# YOUR CODE HERE\n",
    "#Generate the first 2 histograms: 2000 and 2012\n",
    "plot2000 = nd.loc[(nd['2000'] == True)][['Life expectancy']]\n",
    "plot2012 = nd.loc[(nd['2012'] == True)][['Life expectancy']]\n",
    "\n",
    "plot2000.plot.hist(title='2000 distribution')\n",
    "plot2012.plot.hist(title='2012 distribution')"
   ],
   "id": "cd095c90"
  },
  {
   "cell_type": "code",
   "execution_count": null,
   "metadata": {
    "id": "b0c4359b",
    "colab": {
     "base_uri": "https://localhost:8080/",
     "height": 298
    },
    "outputId": "4d643b13-64c9-40c5-ceef-e42d6cf8e530"
   },
   "outputs": [
    {
     "output_type": "execute_result",
     "data": {
      "text/plain": [
       "<matplotlib.axes._subplots.AxesSubplot at 0x7ff58635b810>"
      ]
     },
     "metadata": {},
     "execution_count": 50
    },
    {
     "output_type": "display_data",
     "data": {
      "text/plain": [
       "<Figure size 432x288 with 1 Axes>"
      ],
      "image/png": "[encoded data removed]"
     },
     "metadata": {}
    }
   ],
   "source": [
    "# YOUR CODE HERE\n",
    "#Add the new column with the log\n",
    "\n",
    "#Generate the second histogram: 2000, but with the log\n",
    "plot2000['Log_le'] = np.log(plot2000['Life expectancy'])\n",
    "\n",
    "plot2000.Log_le.plot.hist(title='2000 distribution of natural Log')\n"
   ],
   "id": "b0c4359b"
  },
  {
   "cell_type": "markdown",
   "metadata": {
    "id": "de453534"
   },
   "source": [
    ">3.1.3. Create 3 pairplots with the log of life expectancy on the horizontal axis and on the vertical axis GDP, population, schooling. Which seems to be the best predictor?\n"
   ],
   "id": "de453534"
  },
  {
   "cell_type": "code",
   "execution_count": null,
   "metadata": {
    "id": "791c3f2b",
    "colab": {
     "base_uri": "https://localhost:8080/",
     "height": 743
    },
    "outputId": "3b3f2e71-8942-4db2-b178-0ee7feeaac97"
   },
   "outputs": [
    {
     "output_type": "execute_result",
     "data": {
      "text/plain": [
       "<seaborn.axisgrid.PairGrid at 0x7ff58dc50850>"
      ]
     },
     "metadata": {},
     "execution_count": 51
    },
    {
     "output_type": "display_data",
     "data": {
      "text/plain": [
       "<Figure size 720x720 with 20 Axes>"
      ],
      "image/png": "[encoded data removed]"
     },
     "metadata": {}
    }
   ],
   "source": [
    "nd['Log_le'] = np.log(nd['Life expectancy'])\n",
    "#sns.pairplot(nd.loc[(nd['2000'] == True)][['Log_le', 'Gdp', 'Population', 'Schooling']])\n",
    "\n",
    "sns.pairplot(nd[['Log_le', 'Gdp', 'Population', 'Schooling']])"
   ],
   "id": "791c3f2b"
  },
  {
   "cell_type": "markdown",
   "metadata": {
    "id": "26e59b86"
   },
   "source": [
    "## 3.2 Simple Linear Regression"
   ],
   "id": "26e59b86"
  },
  {
   "cell_type": "markdown",
   "metadata": {
    "id": "beb92990"
   },
   "source": [
    ">3.2.1 Drop the feature \"Year\", since we have hot-encoded it. Regress, using the library `sklearn`, log of life expectancy on Alcohol, gdp, population, percentage expenditure, schooling, Developing, and all the dummy variables for the years.\n",
    "> \n",
    ">Select the dependent (y) and the independent variables (X)."
   ],
   "id": "beb92990"
  },
  {
   "cell_type": "code",
   "execution_count": null,
   "metadata": {
    "id": "a66ac250"
   },
   "outputs": [],
   "source": [
    "nd.drop(columns=['Year'], inplace=True)"
   ],
   "id": "a66ac250"
  },
  {
   "cell_type": "code",
   "source": [
    "features = ['Alcohol', 'Gdp', 'Population', 'Percentage expenditure','Schooling', 'Developing', '2000', '2001', '2002', '2003',\n",
    "       '2004', '2005', '2006', '2007', '2008', '2009', '2010', '2011', '2012',\n",
    "       '2013', '2014']\n",
    "\n",
    "X = nd[features]\n",
    "y = nd['Log_le']"
   ],
   "metadata": {
    "id": "9i9TDhrwPfDG"
   },
   "id": "9i9TDhrwPfDG",
   "execution_count": null,
   "outputs": []
  },
  {
   "cell_type": "markdown",
   "metadata": {
    "id": "f0fcc79d"
   },
   "source": [
    ">3.2.2 Split your dataset into a training set (80%) and a test set (20%). Use sklearn.model_selection.train_test_split() and set the **random_state to 42.**"
   ],
   "id": "f0fcc79d"
  },
  {
   "cell_type": "code",
   "execution_count": null,
   "metadata": {
    "id": "a9ab982a"
   },
   "outputs": [],
   "source": [
    "X_train, X_test, y_train,y_test=train_test_split(X, y, test_size=0.2, random_state=42, shuffle = True)"
   ],
   "id": "a9ab982a"
  },
  {
   "cell_type": "markdown",
   "metadata": {
    "id": "32987cf8"
   },
   "source": [
    ">3.2.3 Train a linear regression model on the training data. What is the R^2 score for the test data?"
   ],
   "id": "32987cf8"
  },
  {
   "cell_type": "code",
   "execution_count": null,
   "metadata": {
    "id": "ba053d77",
    "colab": {
     "base_uri": "https://localhost:8080/"
    },
    "outputId": "fd11356c-d1f5-4f75-d64c-a6102930c1e2"
   },
   "outputs": [
    {
     "output_type": "stream",
     "name": "stdout",
     "text": [
      "R^2 0.5696\n"
     ]
    }
   ],
   "source": [
    "model = LinearRegression()\n",
    "model.fit(X_train,y_train)\n",
    "prediction = model.predict(X_test)\n",
    "\n",
    "r2 = r2_score(y_test, prediction)\n",
    "print(\"R^2 %.4f\" % r2)"
   ],
   "id": "ba053d77"
  },
  {
   "cell_type": "markdown",
   "metadata": {
    "id": "33aae726"
   },
   "source": [
    ">3.2.4. Predict what would be the life expectancy of a (very small) country with an Alcohol consumption of 5 liters, GDP per capita of 800 dollars, a population of 300 individuals, 62 as percentage expenditure, 8 as schooling in year 2000. It is not a developing country."
   ],
   "id": "33aae726"
  },
  {
   "cell_type": "code",
   "source": [
    "#Method in course\n",
    "vals = [[5, 800, 300, 62, 8, 0, 1, 0, 0, 0, 0, 0, 0,0,0,0,0,0,0,0,0]]\n",
    "\n",
    "tmp = pd.DataFrame(vals, columns = X_train.columns)\n",
    "y_pred = math.exp(model.predict(tmp))\n",
    "\n",
    "print(\"pred: %.0f\" % y_pred)"
   ],
   "metadata": {
    "colab": {
     "base_uri": "https://localhost:8080/"
    },
    "id": "mJ6-_N27rb_c",
    "outputId": "e81faa1d-98b7-4d94-b9be-8fc37f992f75"
   },
   "id": "mJ6-_N27rb_c",
   "execution_count": null,
   "outputs": [
    {
     "output_type": "stream",
     "name": "stdout",
     "text": [
      "pred: 62\n"
     ]
    }
   ]
  },
  {
   "cell_type": "code",
   "execution_count": null,
   "metadata": {
    "id": "9e5fda51",
    "colab": {
     "base_uri": "https://localhost:8080/"
    },
    "outputId": "235a3ec8-ba58-49a9-b37a-92e1d988f1f7"
   },
   "outputs": [
    {
     "output_type": "stream",
     "name": "stderr",
     "text": [
      "/usr/local/lib/python3.7/dist-packages/sklearn/base.py:451: UserWarning: X does not have valid feature names, but LinearRegression was fitted with feature names\n",
      "  \"X does not have valid feature names, but\"\n"
     ]
    },
    {
     "output_type": "execute_result",
     "data": {
      "text/plain": [
       "62.49550245289288"
      ]
     },
     "metadata": {},
     "execution_count": 61
    }
   ],
   "source": [
    "#method internet\n",
    "vals2 = [5, 800, 300, 62, 8, 0, 1, 0, 0, 0, 0, 0, 0,0,0,0,0,0,0,0,0]\n",
    "tmp = np.array(vals2).reshape(-1, 21)\n",
    "#tmp = pd.DataFrame(vals, columns = X_train.columns)\n",
    "y_pred = math.exp(model.predict(tmp))\n",
    "\n",
    "y_pred\n",
    "\n",
    "#print(f\"The predicted value is {y_pred:.2f}\")"
   ],
   "id": "9e5fda51"
  },
  {
   "cell_type": "markdown",
   "metadata": {
    "id": "0ed88806"
   },
   "source": [
    "## 3.3 Linear Regression with Standardization"
   ],
   "id": "0ed88806"
  },
  {
   "cell_type": "markdown",
   "metadata": {
    "id": "0ed3ea98"
   },
   "source": [
    "> 3.3.1. Apply a standard scaler to the following columns: Alcohol, gdp, population, percentage expenditure, schooling\n",
    "> \n",
    "> Hint: use the scaler on the already split data. Fit-transform the scaler on X_train and apply transform on X_test."
   ],
   "id": "0ed3ea98"
  },
  {
   "cell_type": "code",
   "execution_count": null,
   "metadata": {
    "id": "cac99fa4"
   },
   "outputs": [],
   "source": [
    "ss = StandardScaler()\n",
    "num_cols = ['Alcohol', 'Gdp', 'Population', 'Percentage expenditure','Schooling']\n",
    "preprocessor = ColumnTransformer([(\"standardization\", ss, num_cols)], remainder=\"passthrough\")\n",
    "\n",
    "X_train, X_test, y_train,y_test = train_test_split(X, y, test_size=0.2, random_state=42, shuffle = True)\n",
    "\n",
    "encoded_X_train = preprocessor.fit_transform(X_train)\n",
    "encoded_X_train = pd.DataFrame(encoded_X_train, columns = X_train.columns) #back to df\n",
    "\n",
    "encoded_X_test = preprocessor.transform(X_test)\n",
    "encoded_X_test = pd.DataFrame(encoded_X_test, columns = X_test.columns)"
   ],
   "id": "cac99fa4"
  },
  {
   "cell_type": "markdown",
   "metadata": {
    "id": "eb211204"
   },
   "source": [
    "> 3.3.2 Train a linear regression model with the standardised data. What is the R^2 score for the test data?"
   ],
   "id": "eb211204"
  },
  {
   "cell_type": "code",
   "execution_count": null,
   "metadata": {
    "id": "bef7cbfd",
    "colab": {
     "base_uri": "https://localhost:8080/"
    },
    "outputId": "ad530199-e581-4b05-9b3f-50629a87664f"
   },
   "outputs": [
    {
     "output_type": "stream",
     "name": "stdout",
     "text": [
      "R^2 0.5696\n"
     ]
    }
   ],
   "source": [
    "lr = LinearRegression()\n",
    "lr.fit(encoded_X_train,y_train)\n",
    "prediction = lr.predict(encoded_X_test)\n",
    "r2 = r2_score(y_test, prediction)\n",
    "r2\n",
    "print(\"R^2 %.4f\" % r2)"
   ],
   "id": "bef7cbfd"
  },
  {
   "cell_type": "markdown",
   "metadata": {
    "id": "7ae1b9d5"
   },
   "source": [
    "> 3.3.3 With the new model, predict, as before, what would be the life expectancy of a (very small) country with an Alcohol consumption of 5 liters, GDP per capita of 800 dollars, a population of 300 individuals, 62 as percentage expenditure, 8 as schooling in year 2000. It is not a developing country."
   ],
   "id": "7ae1b9d5"
  },
  {
   "cell_type": "code",
   "execution_count": null,
   "metadata": {
    "id": "71804228",
    "colab": {
     "base_uri": "https://localhost:8080/"
    },
    "outputId": "52f9a169-1f6d-407d-f49d-dddd637fd0fc"
   },
   "outputs": [
    {
     "output_type": "stream",
     "name": "stdout",
     "text": [
      "The predicted value is 62.4955\n"
     ]
    },
    {
     "output_type": "stream",
     "name": "stderr",
     "text": [
      "/usr/local/lib/python3.7/dist-packages/sklearn/base.py:451: UserWarning: X does not have valid feature names, but LinearRegression was fitted with feature names\n",
      "  \"X does not have valid feature names, but\"\n"
     ]
    }
   ],
   "source": [
    "#vérifier !!\n",
    "\n",
    "vals = [[5, 800, 300, 62, 8, 0, 1, 0, 0, 0, 0, 0, 0,0,0,0,0,0,0,0,0]]\n",
    "tmp = pd.DataFrame(vals, columns = X_train.columns)\n",
    "encoded_vals = preprocessor.transform(tmp)\n",
    "y_pred2 = math.exp(lr.predict(encoded_vals))\n",
    "\n",
    "print(f\"The predicted value is {y_pred2:.4f}\")"
   ],
   "id": "71804228"
  },
  {
   "cell_type": "markdown",
   "metadata": {
    "id": "d921b338"
   },
   "source": [
    ">3.3.4 Looking at the coefficients from the linear regression with standardization, identify which variable is the one with the strongest impact on the dependent variable."
   ],
   "id": "d921b338"
  },
  {
   "cell_type": "code",
   "execution_count": null,
   "metadata": {
    "id": "24bd6a35",
    "colab": {
     "base_uri": "https://localhost:8080/"
    },
    "outputId": "4d4d2cb6-0599-4820-95c8-b076a422eb8c"
   },
   "outputs": [
    {
     "output_type": "stream",
     "name": "stdout",
     "text": [
      "[-0.02910883  0.02011855 -0.00518723 -0.00223595  0.1177834  -0.04534229\n",
      "  0.03228168  0.04093478  0.01176478  0.06938402  0.06554415  0.05576734\n",
      "  0.03474833  0.04183126  0.04979888  0.0380231   0.03453174  0.05461869\n",
      "  0.03529411  0.05115039  0.05534517]\n",
      "Index(['Alcohol', 'Gdp', 'Population', 'Percentage expenditure', 'Schooling',\n",
      "       'Developing', '2000', '2001', '2002', '2003', '2004', '2005', '2006',\n",
      "       '2007', '2008', '2009', '2010', '2011', '2012', '2013', '2014'],\n",
      "      dtype='object')\n"
     ]
    }
   ],
   "source": [
    "#TO CHECK\n",
    "coef_test = lr.fit(encoded_X_test,y_test)\n",
    "\n",
    "print(coef_test.coef_)\n",
    "print(encoded_X_test.columns)"
   ],
   "id": "24bd6a35"
  },
  {
   "cell_type": "markdown",
   "metadata": {
    "id": "a3ee367e"
   },
   "source": [
    "> 3.3.5 Calculate the adjusted R-squared and identify the optimum regression coefficients using linear regression with standardisation. \n",
    ">\n",
    "> Hint: calculate the adjusted R-squared for the full model with linear regression and standardisation (as above). The try dropping either one of the columns: `GDP`, `Population` and all the year features and recalculate adjusted R-squared for every new model. Identify which combination of features gives the highest adjusted R-squared. \n",
    ">\n",
    ">Check out this documentation file on the [adjusted R-squared](https://www.statology.org/adjusted-r-squared-in-python/).\n",
    ">\n",
    "> Remember to use 42 as the **random_state**"
   ],
   "id": "a3ee367e"
  },
  {
   "cell_type": "code",
   "execution_count": null,
   "metadata": {
    "id": "e3de67a1",
    "colab": {
     "base_uri": "https://localhost:8080/"
    },
    "outputId": "0beb0255-4d68-43af-afa2-f1b7578e39d7"
   },
   "outputs": [
    {
     "output_type": "stream",
     "name": "stdout",
     "text": [
      "R^2 0.5696\n",
      "R^2 ajusted 0.5472\n"
     ]
    },
    {
     "output_type": "execute_result",
     "data": {
      "text/plain": [
       "0.5471540609578558"
      ]
     },
     "metadata": {},
     "execution_count": 51
    }
   ],
   "source": [
    "#ALL\n",
    "features = ['Alcohol', 'Gdp', 'Population', 'Percentage expenditure','Schooling', 'Developing', '2000', '2001', '2002', '2003',\n",
    "       '2004', '2005', '2006', '2007', '2008', '2009', '2010', '2011', '2012',\n",
    "       '2013', '2014']\n",
    "\n",
    "X = nd[features]\n",
    "y = nd['Log_le']\n",
    "\n",
    "X_train, X_test, y_train,y_test=train_test_split(X, y, test_size=0.2, random_state=42, shuffle=True)\n",
    "num_cols = ['Alcohol', 'Gdp', 'Population', 'Percentage expenditure','Schooling']\n",
    "\n",
    "lr = LinearRegression()\n",
    "ss = StandardScaler()\n",
    "preprocessor = ColumnTransformer([(\"standardization\", ss, num_cols)], remainder=\"passthrough\")\n",
    "\n",
    "encoded_X_train = preprocessor.fit_transform(X_train)\n",
    "encoded_X_train = pd.DataFrame(encoded_X_train, columns = X_train.columns) \n",
    "encoded_X_test = preprocessor.transform(X_test)\n",
    "encoded_X_test = pd.DataFrame(encoded_X_test, columns=X_test.columns)\n",
    "\n",
    "lr.fit(encoded_X_train,y_train)\n",
    "prediction = lr.predict(encoded_X_test)\n",
    "r2 = r2_score(y_test, prediction)\n",
    "r2_a = 1 - (1-lr.score(encoded_X_test, y_test))*(len(y_test)-1)/(len(y_test)-encoded_X_test.shape[1]-1)\n",
    "\n",
    "print(\"R^2 %.4f\" % r2)\n",
    "print(\"R^2 ajusted %.4f\" % r2_a)\n",
    "r2_a"
   ],
   "id": "e3de67a1"
  },
  {
   "cell_type": "markdown",
   "metadata": {
    "id": "aae8c757"
   },
   "source": [
    ">3.3.6 Train the model when you drop `GDP` and calculate the adjusted R-squared."
   ],
   "id": "aae8c757"
  },
  {
   "cell_type": "code",
   "execution_count": null,
   "metadata": {
    "id": "1557cf4b",
    "colab": {
     "base_uri": "https://localhost:8080/"
    },
    "outputId": "62b13f4f-8d94-4d6d-9480-c87d365bd4b6"
   },
   "outputs": [
    {
     "output_type": "stream",
     "name": "stdout",
     "text": [
      "R^2 0.5687\n",
      "R^2 ajusted 0.5473\n"
     ]
    },
    {
     "output_type": "execute_result",
     "data": {
      "text/plain": [
       "0.5473328713944843"
      ]
     },
     "metadata": {},
     "execution_count": 52
    }
   ],
   "source": [
    "features = ['Alcohol', 'Population', 'Percentage expenditure','Schooling', 'Developing', '2000', '2001', '2002', '2003',\n",
    "       '2004', '2005', '2006', '2007', '2008', '2009', '2010', '2011', '2012',\n",
    "       '2013', '2014']\n",
    "\n",
    "X = nd[features]\n",
    "y = nd['Log_le']\n",
    "\n",
    "X_train, X_test, y_train,y_test=train_test_split(X, y, test_size=0.2, random_state=42, shuffle=True)\n",
    "num_cols = ['Alcohol', 'Population', 'Percentage expenditure','Schooling']\n",
    "\n",
    "lr = LinearRegression()\n",
    "ss = StandardScaler()\n",
    "preprocessor = ColumnTransformer([(\"standardization\", ss, num_cols)], remainder=\"passthrough\")\n",
    "\n",
    "encoded_X_train = preprocessor.fit_transform(X_train)\n",
    "encoded_X_train = pd.DataFrame(encoded_X_train, columns = X_train.columns) \n",
    "encoded_X_test = preprocessor.transform(X_test)\n",
    "encoded_X_test = pd.DataFrame(encoded_X_test, columns=X_test.columns)\n",
    "\n",
    "lr.fit(encoded_X_train,y_train)\n",
    "prediction = lr.predict(encoded_X_test)\n",
    "r2 = r2_score(y_test, prediction)\n",
    "r2_a = 1 - (1-lr.score(encoded_X_test, y_test))*(len(y_test)-1)/(len(y_test)-encoded_X_test.shape[1]-1)\n",
    "\n",
    "print(\"R^2 %.4f\" % r2)\n",
    "print(\"R^2 ajusted %.4f\" % r2_a)\n",
    "r2_a"
   ],
   "id": "1557cf4b"
  },
  {
   "cell_type": "markdown",
   "metadata": {
    "id": "7a82f734"
   },
   "source": [
    "> 3.3.7 Train the model when you drop `Population` and calculate the adjusted R-squared. Pay attention: you only need to drop `Population`, you need `GDP` back in there."
   ],
   "id": "7a82f734"
  },
  {
   "cell_type": "code",
   "execution_count": null,
   "metadata": {
    "id": "51c6e10f",
    "colab": {
     "base_uri": "https://localhost:8080/"
    },
    "outputId": "3283e5ed-8d69-4f83-89d4-d3dab6a26edc"
   },
   "outputs": [
    {
     "output_type": "stream",
     "name": "stdout",
     "text": [
      "R^2 0.5698\n",
      "R^2 ajusted 0.5484\n"
     ]
    }
   ],
   "source": [
    "features = ['Alcohol', 'Gdp', 'Percentage expenditure','Schooling', 'Developing', '2000', '2001', '2002', '2003',\n",
    "       '2004', '2005', '2006', '2007', '2008', '2009', '2010', '2011', '2012',\n",
    "       '2013', '2014']\n",
    "\n",
    "X = nd[features]\n",
    "y = nd['Log_le']\n",
    "\n",
    "X_train, X_test, y_train,y_test=train_test_split(X, y, test_size=0.2, random_state=42, shuffle=True)\n",
    "num_cols = ['Alcohol', 'Gdp', 'Percentage expenditure','Schooling']\n",
    "\n",
    "lr = LinearRegression()\n",
    "ss = StandardScaler()\n",
    "preprocessor = ColumnTransformer([(\"standardization\", ss, num_cols)], remainder=\"passthrough\")\n",
    "\n",
    "encoded_X_train = preprocessor.fit_transform(X_train)\n",
    "encoded_X_train = pd.DataFrame(encoded_X_train, columns = X_train.columns) \n",
    "encoded_X_test = preprocessor.transform(X_test)\n",
    "encoded_X_test = pd.DataFrame(encoded_X_test, columns=X_test.columns)\n",
    "\n",
    "lr.fit(encoded_X_train,y_train)\n",
    "prediction = lr.predict(encoded_X_test)\n",
    "r2 = r2_score(y_test, prediction)\n",
    "r2_a = 1 - (1-lr.score(encoded_X_test, y_test))*(len(y_test)-1)/(len(y_test)-encoded_X_test.shape[1]-1)\n",
    "\n",
    "print(\"R^2 %.4f\" % r2)\n",
    "print(\"R^2 ajusted %.4f\" % r2_a)"
   ],
   "id": "51c6e10f"
  },
  {
   "cell_type": "markdown",
   "metadata": {
    "id": "332e6b7e"
   },
   "source": [
    ">3.3.8 Train the model when you drop all the year features and calculate the adjusted R-squared. Pay attention: you only need to drop all the year features, you need `GDP` and `Population` back in there. "
   ],
   "id": "332e6b7e"
  },
  {
   "cell_type": "code",
   "execution_count": null,
   "metadata": {
    "id": "552b76da",
    "colab": {
     "base_uri": "https://localhost:8080/"
    },
    "outputId": "f916dc93-4a59-475f-c059-9963ace274cb"
   },
   "outputs": [
    {
     "output_type": "stream",
     "name": "stdout",
     "text": [
      "R^2 0.5811\n",
      "R^2 ajusted 0.5751\n"
     ]
    },
    {
     "output_type": "execute_result",
     "data": {
      "text/plain": [
       "0.5750519591602758"
      ]
     },
     "metadata": {},
     "execution_count": 109
    }
   ],
   "source": [
    "features = ['Alcohol', 'Gdp', 'Population', 'Percentage expenditure','Schooling', 'Developing']\n",
    "\n",
    "X = nd[features]\n",
    "y = nd['Log_le']\n",
    "\n",
    "X_train, X_test, y_train,y_test=train_test_split(X, y, test_size=0.2, random_state=42, shuffle=True)\n",
    "num_cols = ['Alcohol', 'Gdp', 'Population', 'Percentage expenditure','Schooling']\n",
    "\n",
    "lr = LinearRegression()\n",
    "ss = StandardScaler()\n",
    "preprocessor = ColumnTransformer([(\"standardization\", ss, num_cols)], remainder=\"passthrough\")\n",
    "\n",
    "encoded_X_train = preprocessor.fit_transform(X_train)\n",
    "encoded_X_train = pd.DataFrame(encoded_X_train, columns = X_train.columns)\n",
    "encoded_X_test = preprocessor.transform(X_test)\n",
    "encoded_X_test = pd.DataFrame(encoded_X_test, columns=X_test.columns)\n",
    "\n",
    "lr.fit(encoded_X_train,y_train)\n",
    "prediction = lr.predict(encoded_X_test)\n",
    "r2 = r2_score(y_test, prediction)\n",
    "r2_a = 1 - (1-lr.score(encoded_X_test, y_test))*(len(y_test)-1)/(len(y_test)-encoded_X_test.shape[1]-1)\n",
    "\n",
    "print(\"R^2 %.4f\" % r2)\n",
    "print(\"R^2 ajusted %.4f\" % r2_a)\n",
    "r2_a"
   ],
   "id": "552b76da"
  }
 ],
 "metadata": {
  "colab": {
   "collapsed_sections": [],
   "provenance": []
  },
  "kernelspec": {
   "display_name": "Python 3",
   "language": "python",
   "name": "python3"
  },
  "language_info": {
   "codemirror_mode": {
    "name": "ipython",
    "version": 3
   },
   "file_extension": ".py",
   "mimetype": "text/x-python",
   "name": "python",
   "nbconvert_exporter": "python",
   "pygments_lexer": "ipython3",
   "version": "3.8.8"
  },
  "toc": {
   "base_numbering": 1,
   "nav_menu": {},
   "number_sections": false,
   "sideBar": true,
   "skip_h1_title": true,
   "title_cell": "Table of Contents",
   "title_sidebar": "Contents",
   "toc_cell": false,
   "toc_position": {
    "height": "calc(100% - 180px)",
    "left": "10px",
    "top": "150px",
    "width": "288px"
   },
   "toc_section_display": true,
   "toc_window_display": false
  }
 },
 "nbformat": 4,
 "nbformat_minor": 5
}