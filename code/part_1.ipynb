{
 "cells": [
  {
   "cell_type": "markdown",
   "source": [
    "Importing libraries and modules."
   ],
   "metadata": {
    "collapsed": false,
    "pycharm": {
     "name": "#%% md\n"
    }
   },
   "outputs": []
  },
  {
   "cell_type": "code",
   "execution_count": 1,
   "outputs": [],
   "source": [
    "import pandas as pd\n",
    "import numpy as np\n",
    "\n",
    "\n",
    "#Importing Sklearn, a library providing tools for predictive analysis.\n",
    "\n",
    "from sklearn.model_selection import train_test_split\n",
    "from sklearn.feature_extraction.text import CountVectorizer\n",
    "from sklearn.feature_extraction.text import TfidfTransformer, TfidfVectorizer\n",
    "from sklearn.metrics import classification_report\n",
    "from sklearn.preprocessing import LabelEncoder\n",
    "from sklearn.linear_model import LogisticRegression\n",
    "from sklearn.neighbors import KNeighborsClassifier\n",
    "from sklearn.tree import DecisionTreeClassifier\n",
    "from sklearn.ensemble import RandomForestClassifier\n",
    "from sklearn.pipeline import Pipeline\n",
    "\n",
    "# XGBClassifier is a classification model suing random model classification\n",
    "from xgboost import XGBClassifier\n",
    "\n",
    "\n",
    "\n",
    "from nltk.corpus import stopwords\n",
    "\n",
    "from functions import *\n",
    "from LightningModel import *"
   ],
   "metadata": {
    "collapsed": false,
    "pycharm": {
     "name": "#%%\n"
    }
   }
  },
  {
   "cell_type": "markdown",
   "source": [
    "Importing the data set and basic formatting. Then splitting the data into a training and testing set."
   ],
   "metadata": {
    "collapsed": false
   }
  },
  {
   "cell_type": "code",
   "execution_count": 3,
   "outputs": [],
   "source": [
    "url = \"https://raw.githubusercontent.com/Makxxx/data_dmmlProject/main/training_data.csv\"\n",
    "data = pd.read_csv(url, index_col=0, dtype=str)\n",
    "data.sentence = data.sentence.apply(lambda s: s.replace(\"'\", ' ')) # Removing apostrophes\n",
    "labels = data.difficulty.unique() # Adding the difficulty labels in an np.array\n",
    "num_labels = len(labels)\n",
    "data.difficulty = LabelEncoder().fit_transform(data.difficulty)\n",
    "#-------------------------------------------------------------------------------------------------\n",
    "X_train, X_test, y_train, y_test = train_test_split(data.sentence, data.difficulty, test_size=0.2)"
   ],
   "metadata": {
    "collapsed": false,
    "pycharm": {
     "name": "#%%\n"
    }
   }
  },
  {
   "cell_type": "code",
   "execution_count": 4,
   "outputs": [
    {
     "data": {
      "text/plain": "numpy.ndarray"
     },
     "execution_count": 4,
     "metadata": {},
     "output_type": "execute_result"
    }
   ],
   "source": [
    "type(labels)"
   ],
   "metadata": {
    "collapsed": false,
    "pycharm": {
     "name": "#%%\n"
    }
   }
  },
  {
   "cell_type": "markdown",
   "source": [
    "Creating pipelines and evaluating the models"
   ],
   "metadata": {
    "collapsed": false
   }
  },
  {
   "cell_type": "code",
   "execution_count": null,
   "outputs": [],
   "source": [
    "import numpy as np\n",
    "from sklearn.feature_extraction.text import CountVectorizer, TfidfTransformer\n",
    "from sklearn.metrics import classification_report\n",
    "from sklearn.pipeline import Pipeline\n",
    "\n",
    "def create_and_train_pipeline(classifier, X_train, y_train):\n",
    "    pipe = Pipeline([\n",
    "        ('vect', CountVectorizer()),\n",
    "        ('tfidf', TfidfTransformer()),\n",
    "        ('clf', classifier()),\n",
    "    ])\n",
    "\n",
    "    pipe.fit(X_train, y_train)\n",
    "    return pipe\n",
    "\n",
    "\n",
    "def evaluate_clf(clf, X_test, y_test, labels, full=False):\n",
    "    predicted = clf.predict(X_test)\n",
    "    if full:\n",
    "        return classification_report(y_test, predicted, target_names=labels)\n",
    "    else:\n",
    "        return np.mean(y_test == predicted)"
   ],
   "metadata": {
    "collapsed": false,
    "pycharm": {
     "name": "#%%\n"
    }
   }
  },
  {
   "cell_type": "code",
   "execution_count": null,
   "outputs": [],
   "source": [
    "lr_clf = create_and_train_pipeline(LogisticRegression, X_train, y_train)\n",
    "knn_clf = create_and_train_pipeline(KNeighborsClassifier, X_train, y_train)\n",
    "dt_clf = create_and_train_pipeline(DecisionTreeClassifier, X_train, y_train)\n",
    "rf_clf = create_and_train_pipeline(RandomForestClassifier, X_train, y_train)\n",
    "xgb_clf = create_and_train_pipeline(XGBClassifier, X_train, y_train)\n",
    "\n",
    "print(\"logistic\", evaluate_clf(lr_clf, X_test, y_test, labels, full=True))\n",
    "print(\"knn\", evaluate_clf(knn_clf, X_test, y_test, labels))\n",
    "print(\"dt\", evaluate_clf(dt_clf, X_test, y_test, labels))\n",
    "print(\"rf\", evaluate_clf(rf_clf, X_test, y_test, labels))\n",
    "print(\"xgb\", evaluate_clf(xgb_clf, X_test, y_test, labels))"
   ],
   "metadata": {
    "collapsed": false,
    "pycharm": {
     "name": "#%%\n"
    }
   }
  },
  {
   "cell_type": "markdown",
   "source": [
    "# Train your models\n",
    "Set your X and y variables.\n",
    "Set the `random_state=0`\n",
    "Split the data into a train and test set using the following parameters `train_test_split(X, y, test_size=0.2, random_state=0)`.\n"
   ],
   "metadata": {
    "collapsed": false
   }
  },
  {
   "cell_type": "markdown",
   "source": [
    "### Baseline\n",
    "What is the baseline for this classification problem ?"
   ],
   "metadata": {
    "collapsed": false
   }
  },
  {
   "cell_type": "code",
   "execution_count": null,
   "outputs": [],
   "source": [
    "# Import baseline upper\n"
   ],
   "metadata": {
    "collapsed": false,
    "pycharm": {
     "name": "#%%\n"
    }
   }
  },
  {
   "cell_type": "markdown",
   "source": [
    "# Logistic regression"
   ],
   "metadata": {
    "collapsed": false
   }
  },
  {
   "cell_type": "code",
   "execution_count": null,
   "outputs": [],
   "source": [
    "lr_clf = create_and_train_pipeline(LogisticRegression, X_train, y_train)\n",
    "print(\"logistic\", evaluate_clf(lr_clf, X_test, y_test, labels, full=True))\n",
    "\n",
    "print(evaluate_clf(lr_clf, X_test, y_test, full=True))"
   ],
   "metadata": {
    "collapsed": false,
    "pycharm": {
     "name": "#%%\n"
    }
   }
  },
  {
   "cell_type": "markdown",
   "source": [
    "# KNN"
   ],
   "metadata": {
    "collapsed": false
   }
  },
  {
   "cell_type": "code",
   "execution_count": null,
   "outputs": [],
   "source": [
    "knn_clf = create_and_train_pipeline(KNeighborsClassifier, X_train, y_train)\n",
    "print(\"knn\", evaluate_clf(knn_clf, X_test, y_test, labels, full=True))\n",
    "\n",
    "print(evaluate_clf(knn_clf, X_test, y_test, full=True))"
   ],
   "metadata": {
    "collapsed": false,
    "pycharm": {
     "name": "#%%\n"
    }
   }
  },
  {
   "cell_type": "markdown",
   "source": [
    "# Decision Tree Classifier"
   ],
   "metadata": {
    "collapsed": false
   }
  },
  {
   "cell_type": "code",
   "execution_count": null,
   "outputs": [],
   "source": [
    "dt_clf = create_and_train_pipeline(DecisionTreeClassifier, X_train, y_train)\n",
    "print(\"dt\", evaluate_clf(dt_clf, X_test, y_test, labels, full=True))\n",
    "\n",
    "print(evaluate_clf(dt_clf, X_test, y_test, full=True))"
   ],
   "metadata": {
    "collapsed": false,
    "pycharm": {
     "name": "#%%\n"
    }
   }
  },
  {
   "cell_type": "markdown",
   "source": [
    "# Random Forest Classifier"
   ],
   "metadata": {
    "collapsed": false
   }
  },
  {
   "cell_type": "code",
   "execution_count": null,
   "outputs": [],
   "source": [
    "rf_clf = create_and_train_pipeline(RandomForestClassifier, X_train, y_train)\n",
    "print(\"rf\", evaluate_clf(rf_clf, X_test, y_test, labels, full=True))\n",
    "\n",
    "print(evaluate_clf(rf_clf, X_test, y_test, full=True))"
   ],
   "metadata": {
    "collapsed": false,
    "pycharm": {
     "name": "#%%\n"
    }
   }
  },
  {
   "cell_type": "markdown",
   "source": [
    "# XGB Classifier"
   ],
   "metadata": {
    "collapsed": false
   }
  },
  {
   "cell_type": "code",
   "execution_count": null,
   "outputs": [],
   "source": [
    "xgb_clf = create_and_train_pipeline(XGBClassifier, X_train, y_train)\n",
    "print(\"xgb\", evaluate_clf(xgb_clf, X_test, y_test, labels, full=True))\n",
    "\n",
    "print(evaluate_clf(xgb_clf, X_test, y_test, full=True))"
   ],
   "metadata": {
    "collapsed": false,
    "pycharm": {
     "name": "#%%\n"
    }
   }
  },
  {
   "cell_type": "markdown",
   "source": [],
   "metadata": {
    "collapsed": false
   }
  },
  {
   "cell_type": "code",
   "execution_count": null,
   "outputs": [],
   "source": [],
   "metadata": {
    "collapsed": false,
    "pycharm": {
     "name": "#%%\n"
    }
   }
  },
  {
   "cell_type": "markdown",
   "source": [],
   "metadata": {
    "collapsed": false
   }
  },
  {
   "cell_type": "markdown",
   "source": [
    "# CamamBERT"
   ],
   "metadata": {
    "collapsed": false
   }
  },
  {
   "cell_type": "code",
   "execution_count": null,
   "outputs": [],
   "source": [
    "#from transformers import AutoTokenizer\n",
    "#\n",
    "#tokenizer = AutoTokenizer.from_pretrained('camembert-base')\n",
    "\n",
    "\n"
   ],
   "metadata": {
    "collapsed": false,
    "pycharm": {
     "name": "#%%\n"
    }
   }
  }
 ],
 "metadata": {
  "kernelspec": {
   "display_name": "Python 3",
   "language": "python",
   "name": "python3"
  },
  "language_info": {
   "codemirror_mode": {
    "name": "ipython",
    "version": 2
   },
   "file_extension": ".py",
   "mimetype": "text/x-python",
   "name": "python",
   "nbconvert_exporter": "python",
   "pygments_lexer": "ipython2",
   "version": "2.7.6"
  }
 },
 "nbformat": 4,
 "nbformat_minor": 0
}