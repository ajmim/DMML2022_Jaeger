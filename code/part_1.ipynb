{
 "cells": [
  {
   "cell_type": "markdown",
   "source": [
    "Importing libraries and modules."
   ],
   "metadata": {
    "collapsed": false,
    "pycharm": {
     "name": "#%% md\n"
    },
    "id": "p2_KlwuHkde6"
   }
  },
  {
   "cell_type": "code",
   "execution_count": 199,
   "outputs": [],
   "source": [
    "import pandas as pd\n",
    "import numpy as np\n",
    "from sklearn.model_selection import train_test_split\n",
    "from sklearn.preprocessing import LabelEncoder\n",
    "from sklearn.linear_model import LogisticRegression\n",
    "from sklearn.neighbors import KNeighborsClassifier\n",
    "from sklearn.tree import DecisionTreeClassifier\n",
    "from sklearn.ensemble import RandomForestClassifier\n",
    "from sklearn.metrics import confusion_matrix, accuracy_score, precision_score, recall_score, f1_score\n",
    "from sklearn.feature_extraction.text import CountVectorizer, TfidfTransformer\n",
    "from sklearn.metrics import classification_report\n",
    "from sklearn.pipeline import Pipeline\n",
    "import seaborn as sns\n",
    "from xgboost import XGBClassifier"
   ],
   "metadata": {
    "pycharm": {
     "name": "#%%\n"
    },
    "id": "nkxbRP5lkde8"
   }
  },
  {
   "cell_type": "markdown",
   "source": [
    "Creating pipelines and evaluating the functions"
   ],
   "metadata": {
    "collapsed": false
   }
  },
  {
   "cell_type": "code",
   "execution_count": null,
   "outputs": [],
   "source": [
    "def create_and_train_pipeline(classifier, X_train, y_train):\n",
    "    pipe = Pipeline([\n",
    "        ('vect', CountVectorizer()),\n",
    "        ('tfidf', TfidfTransformer()),\n",
    "        ('clf', classifier()),\n",
    "    ])\n",
    "\n",
    "    pipe.fit(X_train, y_train)\n",
    "    return pipe\n",
    "\n",
    "\n",
    "def evaluate_clf(clf, X_test, y_test, labels, full=False):\n",
    "    predicted = clf.predict(X_test)\n",
    "    if full:\n",
    "        return classification_report(y_test, predicted, target_names=labels)\n",
    "    else:\n",
    "        return np.mean(y_test == predicted)"
   ],
   "metadata": {
    "collapsed": false,
    "pycharm": {
     "name": "#%%\n"
    }
   }
  },
  {
   "cell_type": "markdown",
   "source": [
    "Importing the data set and basic formatting. Then splitting the data into a training and testing set."
   ],
   "metadata": {
    "collapsed": false,
    "id": "vvdf4O5akde-"
   }
  },
  {
   "cell_type": "code",
   "execution_count": 200,
   "outputs": [],
   "source": [
    "url = \"https://raw.githubusercontent.com/Makxxx/data_dmmlProject/main/training_data.csv\"\n",
    "data = pd.read_csv(url, index_col=0, dtype=str)\n",
    "data.sentence = data.sentence.apply(lambda s: s.replace(\"'\", ' ')) # Removing apostrophes\n",
    "labels = data.difficulty.unique() # Adding the difficulty labels in an np.array\n",
    "num_labels = len(labels)\n",
    "data.difficulty = LabelEncoder().fit_transform(data.difficulty)\n",
    "#-------------------------------------------------------------------------------------------------\n",
    "X_train, X_test, y_train, y_test = train_test_split(data.sentence, data.difficulty, random_state=0,test_size=0.2)"
   ],
   "metadata": {
    "pycharm": {
     "name": "#%%\n"
    },
    "id": "8p4dWYqDkde-"
   }
  },
  {
   "cell_type": "code",
   "execution_count": 201,
   "outputs": [
    {
     "output_type": "execute_result",
     "data": {
      "text/plain": [
       "numpy.ndarray"
      ]
     },
     "metadata": {},
     "execution_count": 201
    }
   ],
   "source": [
    "type(labels)"
   ],
   "metadata": {
    "pycharm": {
     "name": "#%%\n"
    },
    "colab": {
     "base_uri": "https://localhost:8080/"
    },
    "id": "ZQGTQonukde-",
    "outputId": "5d4214e7-7976-4b19-dc67-f67cfe2d048a"
   }
  },
  {
   "cell_type": "markdown",
   "source": [
    "## 1. Train your models\n",
    "Set your X and y variables.\n",
    "Set the `random_state=0`\n",
    "Split the data into a train and test set using the following parameters `train_test_split(X, y, test_size=0.2, random_state=0)`.\n"
   ],
   "metadata": {
    "collapsed": false,
    "id": "CI5a9ItAkdfB"
   }
  },
  {
   "cell_type": "markdown",
   "source": [
    "### 1.2 Baseline\n",
    "What is the baseline for this classification problem ?"
   ],
   "metadata": {
    "collapsed": false,
    "id": "f46cwdFBkdfB"
   }
  },
  {
   "cell_type": "code",
   "execution_count": 203,
   "outputs": [],
   "source": [
    "base_rate = y_train.value_counts(normalize=True)\n",
    "base_rate"
   ],
   "metadata": {
    "pycharm": {
     "name": "#%%\n"
    },
    "id": "5a3DjeSXkdfC"
   }
  },
  {
   "cell_type": "markdown",
   "source": [
    "#### 1.3 Logistic Regression (without data cleaning)\n",
    "\n",
    "Train a simple logistic regression model using a Tfidf vectoriser."
   ],
   "metadata": {
    "collapsed": false,
    "id": "5fGGlYsVkdfC"
   }
  },
  {
   "cell_type": "code",
   "execution_count": 204,
   "outputs": [],
   "source": [
    "lr_clf = create_and_train_pipeline(LogisticRegression, X_train, y_train)"
   ],
   "metadata": {
    "pycharm": {
     "name": "#%%\n"
    },
    "id": "bnjGj01nkdfC"
   }
  },
  {
   "cell_type": "markdown",
   "source": [
    "Calculate accuracy, precision, recall and F1 score on the test set."
   ],
   "metadata": {
    "id": "FQROfy5MpDBb"
   }
  },
  {
   "cell_type": "code",
   "source": [
    "print(\"logistic\", evaluate_clf(lr_clf, X_test, y_test, labels, full=True))"
   ],
   "metadata": {
    "colab": {
     "base_uri": "https://localhost:8080/"
    },
    "id": "d05r0uV5pMKK",
    "outputId": "d30963a6-6b39-4da1-883d-1454386e229b"
   },
   "execution_count": 205,
   "outputs": [
    {
     "output_type": "stream",
     "name": "stdout",
     "text": [
      "logistic               precision    recall  f1-score   support\n",
      "\n",
      "          C1       0.53      0.58      0.55       161\n",
      "          A1       0.41      0.37      0.39       164\n",
      "          B1       0.43      0.40      0.42       160\n",
      "          A2       0.43      0.46      0.44       144\n",
      "          B2       0.51      0.42      0.46       173\n",
      "          C2       0.48      0.58      0.53       158\n",
      "\n",
      "    accuracy                           0.47       960\n",
      "   macro avg       0.46      0.47      0.46       960\n",
      "weighted avg       0.47      0.47      0.46       960\n",
      "\n"
     ]
    }
   ]
  },
  {
   "cell_type": "code",
   "source": [
    "Xtestpred_lr = lr_clf.predict(X_test)\n",
    "\n",
    "# Accuracy of test set\n",
    "accuracy_test_lr = accuracy_score(y_test, Xtestpred_lr)\n",
    "print(\"Accuracy Score : \", accuracy_test_lr)\n",
    "\n",
    "# Precision of test set\n",
    "precision_test_lr = precision_score(y_test, Xtestpred_lr, average='macro')\n",
    "print(\"Precision Score : \", precision_test_lr)\n",
    "\n",
    "# Recall of test set\n",
    "recall_lr = recall_score(y_test, Xtestpred_lr, average='macro')\n",
    "print(\"Recall Score : \", recall_lr)\n",
    "\n",
    "# f1 Score of test set\n",
    "f1score_lr = f1_score(y_test, Xtestpred_lr, average='macro')\n",
    "print(\"f1 Score : \", f1score_lr)"
   ],
   "metadata": {
    "colab": {
     "base_uri": "https://localhost:8080/"
    },
    "id": "cft4-h3X99df",
    "outputId": "7a67e6c5-d1b0-4298-f6a0-5cdcf062e15c"
   },
   "execution_count": 206,
   "outputs": [
    {
     "output_type": "stream",
     "name": "stdout",
     "text": [
      "Accuracy Score :  0.4666666666666667\n",
      "Precision Score :  0.46449602390336936\n",
      "Recall Score :  0.46767842372574114\n",
      "f1 Score :  0.4640138012889838\n"
     ]
    }
   ]
  },
  {
   "cell_type": "markdown",
   "source": [
    "Have a look at the confusion matrix and identify a few examples of sentences that are not well classified."
   ],
   "metadata": {
    "id": "x5HSrkLupP9X"
   }
  },
  {
   "cell_type": "code",
   "source": [
    "ID_TO_LABEL = dict(zip(range(6), ('A1', 'A2', 'B1', 'B2', 'C1', 'C2',)))\n",
    "label_names = list(ID_TO_LABEL.values())\n",
    "\n",
    "sns.heatmap(pd.DataFrame(confusion_matrix(y_test, Xtestpred_lr), label_names, label_names), annot=True, cmap='Oranges', fmt='.5g');\n"
   ],
   "metadata": {
    "colab": {
     "base_uri": "https://localhost:8080/",
     "height": 265
    },
    "id": "vGl4vWMUpVAj",
    "outputId": "75be3fb1-48bc-4fac-d1eb-6d453c9accf5"
   },
   "execution_count": 207,
   "outputs": [
    {
     "output_type": "display_data",
     "data": {
      "text/plain": [
       "<Figure size 432x288 with 2 Axes>"
      ],
      "image/png": "[encoded data removed]"
     },
     "metadata": {
      "needs_background": "light"
     }
    }
   ]
  },
  {
   "cell_type": "code",
   "source": [
    "# What sentences are missclassified ? \n",
    "test_sent = np.array(X_test)\n",
    "test_array = np.array(y_test)\n",
    "pred_array = np.array(Xtestpred_lr)\n",
    "wrong_predictions = list()\n",
    "for i in range(0, 50):\n",
    "  if pred_array[i] != test_array[i]:\n",
    "     wrong_predictions.append([test_sent[i], test_array[i], pred_array[i]])\n",
    "wrong_predictions[:5]"
   ],
   "metadata": {
    "colab": {
     "base_uri": "https://localhost:8080/"
    },
    "id": "2r0Ve74MPWsd",
    "outputId": "41ccadfe-11b8-4c86-a8cc-262b5af4afc6"
   },
   "execution_count": 208,
   "outputs": [
    {
     "output_type": "execute_result",
     "data": {
      "text/plain": [
       "[['C est en décembre 1967, après bien des invectives au Parlement, que sa loi relative à la régulation des naissances, dite loi Neuwirth est votée : elle autorise la vente exclusive des contraceptifs en pharmacie sur ordonnance médicale, avec autorisation parentale pour les mineures',\n",
       "  4,\n",
       "  5],\n",
       " ['Giscard va pourtant réussir à transformer ce revers en tremplin', 4, 3],\n",
       " ['Un choix difficile mais important : le public français écoute souvent les professionnels de Cannes pour choisir le film qu il va aller voir au cinéma.',\n",
       "  1,\n",
       "  2],\n",
       " ['Le débat porte plutôt sur l utilité d une telle mesure.', 2, 4],\n",
       " ['Il faut du temps et du courage pour soigner toute cette ménagerie En plus des animaux, il faut aussi s occuper du potager de mon papy',\n",
       "  1,\n",
       "  2]]"
      ]
     },
     "metadata": {},
     "execution_count": 208
    }
   ]
  },
  {
   "cell_type": "markdown",
   "source": [
    "#### 1.4 KNN (without data cleaning)\n",
    "\n",
    "Train a KNN classification model using a Tfidf vectoriser. Show the accuracy, precision, recall and F1 score on the test set."
   ],
   "metadata": {
    "collapsed": false,
    "id": "2BhDRmNUkdfD"
   }
  },
  {
   "cell_type": "code",
   "execution_count": 209,
   "outputs": [],
   "source": [
    "knn_clf = create_and_train_pipeline(KNeighborsClassifier, X_train, y_train)"
   ],
   "metadata": {
    "pycharm": {
     "name": "#%%\n"
    },
    "id": "SlUOyL3akdfD"
   }
  },
  {
   "cell_type": "code",
   "source": [
    "print(\"knn\", evaluate_clf(knn_clf, X_test, y_test, labels, full=True))"
   ],
   "metadata": {
    "colab": {
     "base_uri": "https://localhost:8080/"
    },
    "id": "9501DsN7Beez",
    "outputId": "450c2725-ee57-41f8-e400-1d904fcb231c"
   },
   "execution_count": 210,
   "outputs": [
    {
     "output_type": "stream",
     "name": "stdout",
     "text": [
      "knn               precision    recall  f1-score   support\n",
      "\n",
      "          C1       0.28      0.75      0.41       161\n",
      "          A1       0.24      0.31      0.27       164\n",
      "          B1       0.28      0.21      0.24       160\n",
      "          A2       0.40      0.20      0.27       144\n",
      "          B2       0.66      0.17      0.27       173\n",
      "          C2       0.54      0.27      0.36       158\n",
      "\n",
      "    accuracy                           0.32       960\n",
      "   macro avg       0.40      0.32      0.30       960\n",
      "weighted avg       0.40      0.32      0.30       960\n",
      "\n"
     ]
    }
   ]
  },
  {
   "cell_type": "code",
   "source": [
    "Xtestpred_knn = knn_clf.predict(X_test)\n",
    "\n",
    "# Accuracy of test set\n",
    "accuracy_test_knn = accuracy_score(y_test, Xtestpred_knn)\n",
    "print(\"Accuracy Score : \", accuracy_test_knn)\n",
    "\n",
    "# Precision of test set\n",
    "precision_test_knn = precision_score(y_test, Xtestpred_knn, average='macro')\n",
    "print(\"Precision Score : \", precision_test_knn)\n",
    "\n",
    "# Recall of test set\n",
    "recall_knn = recall_score(y_test, Xtestpred_knn, average='macro')\n",
    "print(\"Recall Score : \", recall_knn)\n",
    "\n",
    "# f1 Score of test set\n",
    "f1score_knn = f1_score(y_test, Xtestpred_knn, average='macro')\n",
    "print(\"f1 Score : \", f1score_knn)"
   ],
   "metadata": {
    "colab": {
     "base_uri": "https://localhost:8080/"
    },
    "id": "5FHHUTV6BtB5",
    "outputId": "957a807a-6383-4621-8765-0f08b6012d27"
   },
   "execution_count": 211,
   "outputs": [
    {
     "output_type": "stream",
     "name": "stdout",
     "text": [
      "Accuracy Score :  0.31875\n",
      "Precision Score :  0.4006786607204127\n",
      "Recall Score :  0.31832487503561463\n",
      "f1 Score :  0.3022264355028889\n"
     ]
    }
   ]
  },
  {
   "cell_type": "markdown",
   "source": [
    "#### 1.5 Decision Tree Classifier (without data cleaning)\n",
    "\n",
    "Train a Decison Tree classifier, using a Tfidf vectoriser. Show the accuracy, precision, recall and F1 score on the test set."
   ],
   "metadata": {
    "collapsed": false,
    "id": "kzgCjKInkdfD"
   }
  },
  {
   "cell_type": "code",
   "execution_count": 212,
   "outputs": [],
   "source": [
    "dt_clf = create_and_train_pipeline(DecisionTreeClassifier, X_train, y_train)"
   ],
   "metadata": {
    "pycharm": {
     "name": "#%%\n"
    },
    "id": "a5-RXTjGkdfD"
   }
  },
  {
   "cell_type": "code",
   "source": [
    "print(\"dt\", evaluate_clf(dt_clf, X_test, y_test, labels, full=True))"
   ],
   "metadata": {
    "colab": {
     "base_uri": "https://localhost:8080/"
    },
    "id": "4vyybFDoChC4",
    "outputId": "388a0e2e-64db-4aa8-f15d-dcd1e797b6c7"
   },
   "execution_count": 213,
   "outputs": [
    {
     "output_type": "stream",
     "name": "stdout",
     "text": [
      "dt               precision    recall  f1-score   support\n",
      "\n",
      "          C1       0.44      0.51      0.47       161\n",
      "          A1       0.29      0.32      0.31       164\n",
      "          B1       0.21      0.23      0.22       160\n",
      "          A2       0.25      0.28      0.26       144\n",
      "          B2       0.36      0.27      0.31       173\n",
      "          C2       0.33      0.26      0.29       158\n",
      "\n",
      "    accuracy                           0.31       960\n",
      "   macro avg       0.31      0.31      0.31       960\n",
      "weighted avg       0.31      0.31      0.31       960\n",
      "\n"
     ]
    }
   ]
  },
  {
   "cell_type": "code",
   "source": [
    "Xtestpred_dt = dt_clf.predict(X_test)\n",
    "\n",
    "# Accuracy of test set\n",
    "accuracy_test_dt = accuracy_score(y_test, Xtestpred_dt)\n",
    "print(\"Accuracy Score : \", accuracy_test_dt)\n",
    "\n",
    "# Precision of test set\n",
    "precision_test_dt = precision_score(y_test, Xtestpred_dt, average='macro')\n",
    "print(\"Precision Score : \", precision_test_dt)\n",
    "\n",
    "# Recall of test set\n",
    "recall_dt = recall_score(y_test, Xtestpred_dt, average='macro')\n",
    "print(\"Recall Score : \", recall_dt)\n",
    "\n",
    "# f1 Score of test set\n",
    "f1score_dt = f1_score(y_test, Xtestpred_dt, average='macro')\n",
    "print(\"f1 Score : \", f1score_dt)"
   ],
   "metadata": {
    "colab": {
     "base_uri": "https://localhost:8080/"
    },
    "id": "Pp9QToEYCjux",
    "outputId": "d722c57b-fcfe-4211-f45f-a615c7dd0289"
   },
   "execution_count": 214,
   "outputs": [
    {
     "output_type": "stream",
     "name": "stdout",
     "text": [
      "Accuracy Score :  0.31145833333333334\n",
      "Precision Score :  0.31237121966329484\n",
      "Recall Score :  0.3111508173857886\n",
      "f1 Score :  0.3091165406270082\n"
     ]
    }
   ]
  },
  {
   "cell_type": "markdown",
   "source": [
    "#### 1.6 Random Forest Classifier (without data cleaning)\n",
    "\n",
    "Try a Random Forest Classifier, using a Tfidf vectoriser. Show the accuracy, precision, recall and F1 score on the test set."
   ],
   "metadata": {
    "collapsed": false,
    "id": "iaJCwDGikdfE"
   }
  },
  {
   "cell_type": "code",
   "execution_count": 215,
   "outputs": [],
   "source": [
    "rf_clf = create_and_train_pipeline(RandomForestClassifier, X_train, y_train)"
   ],
   "metadata": {
    "pycharm": {
     "name": "#%%\n"
    },
    "id": "ysAtSQcikdfE"
   }
  },
  {
   "cell_type": "code",
   "source": [
    "print(\"rf\", evaluate_clf(rf_clf, X_test, y_test, labels, full=True))"
   ],
   "metadata": {
    "colab": {
     "base_uri": "https://localhost:8080/"
    },
    "id": "a8JDI0MzC5Wb",
    "outputId": "5dcb9c0c-f0d5-43c1-c0a2-11563c66afc4"
   },
   "execution_count": 216,
   "outputs": [
    {
     "output_type": "stream",
     "name": "stdout",
     "text": [
      "rf               precision    recall  f1-score   support\n",
      "\n",
      "          C1       0.42      0.75      0.53       161\n",
      "          A1       0.36      0.32      0.34       164\n",
      "          B1       0.41      0.33      0.36       160\n",
      "          A2       0.34      0.49      0.41       144\n",
      "          B2       0.46      0.23      0.31       173\n",
      "          C2       0.54      0.37      0.44       158\n",
      "\n",
      "    accuracy                           0.41       960\n",
      "   macro avg       0.42      0.41      0.40       960\n",
      "weighted avg       0.42      0.41      0.40       960\n",
      "\n"
     ]
    }
   ]
  },
  {
   "cell_type": "code",
   "source": [
    "Xtestpred_rf = rf_clf.predict(X_test)\n",
    "\n",
    "# Accuracy of test set\n",
    "accuracy_test_rf = accuracy_score(y_test, Xtestpred_rf)\n",
    "print(\"Accuracy Score : \", accuracy_test_rf)\n",
    "\n",
    "# Precision of test set\n",
    "precision_test_rf = precision_score(y_test, Xtestpred_rf, average='macro')\n",
    "print(\"Precision Score : \", precision_test_rf)\n",
    "\n",
    "# Recall of test set\n",
    "recall_rf = recall_score(y_test, Xtestpred_rf, average='macro')\n",
    "print(\"Recall Score : \", recall_rf)\n",
    "\n",
    "# f1 Score of test set\n",
    "f1score_rf = f1_score(y_test, Xtestpred_rf, average='macro')\n",
    "print(\"f1 Score : \", f1score_rf)"
   ],
   "metadata": {
    "colab": {
     "base_uri": "https://localhost:8080/"
    },
    "id": "Sczgr5eAC6cd",
    "outputId": "6966be46-c75f-4fc9-d5fb-fa2096e3a5b1"
   },
   "execution_count": 217,
   "outputs": [
    {
     "output_type": "stream",
     "name": "stdout",
     "text": [
      "Accuracy Score :  0.409375\n",
      "Precision Score :  0.42144899047162315\n",
      "Recall Score :  0.41312880360356696\n",
      "f1 Score :  0.3973416087901851\n"
     ]
    }
   ]
  },
  {
   "cell_type": "markdown",
   "source": [
    "#### 1.7 Any other technique : XGB Classifier\n",
    "\n",
    "Try to improve accuracy by training a better model using the techniques seen in class, or combinations of them.\n",
    "\n",
    "As usual, show the accuracy, precision, recall and f1 score on the test set."
   ],
   "metadata": {
    "collapsed": false,
    "id": "DPz9snaVkdfE"
   }
  },
  {
   "cell_type": "code",
   "execution_count": 218,
   "outputs": [],
   "source": [
    "xgb_clf = create_and_train_pipeline(XGBClassifier, X_train, y_train)"
   ],
   "metadata": {
    "pycharm": {
     "name": "#%%\n"
    },
    "id": "ATf_jQ3RkdfE"
   }
  },
  {
   "cell_type": "code",
   "source": [
    "print(\"xgb\", evaluate_clf(xgb_clf, X_test, y_test, labels, full=True))"
   ],
   "metadata": {
    "colab": {
     "base_uri": "https://localhost:8080/"
    },
    "id": "sfmWgTLLE9M3",
    "outputId": "d48bcee9-a0de-4cc0-cb48-76b937fd4012"
   },
   "execution_count": 219,
   "outputs": [
    {
     "output_type": "stream",
     "name": "stdout",
     "text": [
      "xgb               precision    recall  f1-score   support\n",
      "\n",
      "          C1       0.40      0.71      0.52       161\n",
      "          A1       0.31      0.29      0.30       164\n",
      "          B1       0.37      0.34      0.36       160\n",
      "          A2       0.36      0.44      0.40       144\n",
      "          B2       0.40      0.21      0.27       173\n",
      "          C2       0.49      0.34      0.40       158\n",
      "\n",
      "    accuracy                           0.39       960\n",
      "   macro avg       0.39      0.39      0.38       960\n",
      "weighted avg       0.39      0.39      0.37       960\n",
      "\n"
     ]
    }
   ]
  },
  {
   "cell_type": "code",
   "source": [
    "Xtestpred_xgb = xgb_clf.predict(X_test)\n",
    "\n",
    "# Accuracy of test set\n",
    "accuracy_test_xgb = accuracy_score(y_test, Xtestpred_xgb)\n",
    "print(\"Accuracy Score : \", accuracy_test_xgb)\n",
    "\n",
    "# Precision of test set\n",
    "precision_test_xgb = precision_score(y_test, Xtestpred_xgb, average='macro')\n",
    "print(\"Precision Score : \", precision_test_xgb)\n",
    "\n",
    "# Recall of test set\n",
    "recall_xgb = recall_score(y_test, Xtestpred_xgb, average='macro')\n",
    "print(\"Recall Score : \", recall_xgb)\n",
    "\n",
    "# f1 Score of test set\n",
    "f1score_xgb = f1_score(y_test, Xtestpred_xgb, average='macro')\n",
    "print(\"f1 Score : \", f1score_xgb)"
   ],
   "metadata": {
    "colab": {
     "base_uri": "https://localhost:8080/"
    },
    "id": "GlfKWZJ_FFbM",
    "outputId": "b282cad5-fbbf-46cf-cc6c-fd4fef84cc67"
   },
   "execution_count": 220,
   "outputs": [
    {
     "output_type": "stream",
     "name": "stdout",
     "text": [
      "Accuracy Score :  0.3875\n",
      "Precision Score :  0.39123699327835576\n",
      "Recall Score :  0.390837953834549\n",
      "f1 Score :  0.37571589789692017\n"
     ]
    }
   ]
  },
  {
   "cell_type": "markdown",
   "source": [
    "#### 1.8 Show a summary of your results"
   ],
   "metadata": {
    "id": "gMlNgkYKzyKX"
   }
  },
  {
   "cell_type": "code",
   "source": [
    "summary_testset = {'Accuracy' : [accuracy_test_lr, accuracy_test_knn, accuracy_test_dt, accuracy_test_rf, accuracy_test_xgb], \n",
    "           'Precision' : [precision_test_lr, precision_test_knn, precision_test_dt, precision_test_rf, precision_test_xgb], \n",
    "           'Recall' : [recall_lr, recall_knn, recall_dt, recall_rf, recall_xgb],\n",
    "           'f1_Score' :[f1score_lr, f1score_knn, f1score_dt, f1score_rf, f1score_xgb]}\n",
    "\n",
    "table = pd.DataFrame(summary_testset, index = ['Logistic Regression', 'K-Nearest Neighbour', 'Decision Tree classifier', 'Random Forest Classifier', 'XGB Classifier'])\n",
    "\n",
    "table\n"
   ],
   "metadata": {
    "colab": {
     "base_uri": "https://localhost:8080/",
     "height": 206
    },
    "id": "bmFQCjqi3fOK",
    "outputId": "f31d1975-1ef1-49a1-f59f-2fae5c5a61b3"
   },
   "execution_count": 221,
   "outputs": [
    {
     "output_type": "execute_result",
     "data": {
      "text/plain": [
       "                          Accuracy  Precision    Recall  f1_Score\n",
       "Logistic Regression       0.466667   0.464496  0.467678  0.464014\n",
       "K-Nearest Neighbour       0.318750   0.400679  0.318325  0.302226\n",
       "Decision Tree classifier  0.311458   0.312371  0.311151  0.309117\n",
       "Random Forest Classifier  0.409375   0.421449  0.413129  0.397342\n",
       "XGB Classifier            0.387500   0.391237  0.390838  0.375716"
      ],
      "text/html": [
       "\n",
       "  <div id=\"df-7ec416dc-de2d-48a7-8a25-58998fb7280b\">\n",
       "    <div class=\"colab-df-container\">\n",
       "      <div>\n",
       "<style scoped>\n",
       "    .dataframe tbody tr th:only-of-type {\n",
       "        vertical-align: middle;\n",
       "    }\n",
       "\n",
       "    .dataframe tbody tr th {\n",
       "        vertical-align: top;\n",
       "    }\n",
       "\n",
       "    .dataframe thead th {\n",
       "        text-align: right;\n",
       "    }\n",
       "</style>\n",
       "<table border=\"1\" class=\"dataframe\">\n",
       "  <thead>\n",
       "    <tr style=\"text-align: right;\">\n",
       "      <th></th>\n",
       "      <th>Accuracy</th>\n",
       "      <th>Precision</th>\n",
       "      <th>Recall</th>\n",
       "      <th>f1_Score</th>\n",
       "    </tr>\n",
       "  </thead>\n",
       "  <tbody>\n",
       "    <tr>\n",
       "      <th>Logistic Regression</th>\n",
       "      <td>0.466667</td>\n",
       "      <td>0.464496</td>\n",
       "      <td>0.467678</td>\n",
       "      <td>0.464014</td>\n",
       "    </tr>\n",
       "    <tr>\n",
       "      <th>K-Nearest Neighbour</th>\n",
       "      <td>0.318750</td>\n",
       "      <td>0.400679</td>\n",
       "      <td>0.318325</td>\n",
       "      <td>0.302226</td>\n",
       "    </tr>\n",
       "    <tr>\n",
       "      <th>Decision Tree classifier</th>\n",
       "      <td>0.311458</td>\n",
       "      <td>0.312371</td>\n",
       "      <td>0.311151</td>\n",
       "      <td>0.309117</td>\n",
       "    </tr>\n",
       "    <tr>\n",
       "      <th>Random Forest Classifier</th>\n",
       "      <td>0.409375</td>\n",
       "      <td>0.421449</td>\n",
       "      <td>0.413129</td>\n",
       "      <td>0.397342</td>\n",
       "    </tr>\n",
       "    <tr>\n",
       "      <th>XGB Classifier</th>\n",
       "      <td>0.387500</td>\n",
       "      <td>0.391237</td>\n",
       "      <td>0.390838</td>\n",
       "      <td>0.375716</td>\n",
       "    </tr>\n",
       "  </tbody>\n",
       "</table>\n",
       "</div>\n",
       "      <button class=\"colab-df-convert\" onclick=\"convertToInteractive('df-7ec416dc-de2d-48a7-8a25-58998fb7280b')\"\n",
       "              title=\"Convert this dataframe to an interactive table.\"\n",
       "              style=\"display:none;\">\n",
       "        \n",
       "  <svg xmlns=\"http://www.w3.org/2000/svg\" height=\"24px\"viewBox=\"0 0 24 24\"\n",
       "       width=\"24px\">\n",
       "    <path d=\"M0 0h24v24H0V0z\" fill=\"none\"/>\n",
       "    <path d=\"M18.56 5.44l.94 2.06.94-2.06 2.06-.94-2.06-.94-.94-2.06-.94 2.06-2.06.94zm-11 1L8.5 8.5l.94-2.06 2.06-.94-2.06-.94L8.5 2.5l-.94 2.06-2.06.94zm10 10l.94 2.06.94-2.06 2.06-.94-2.06-.94-.94-2.06-.94 2.06-2.06.94z\"/><path d=\"M17.41 7.96l-1.37-1.37c-.4-.4-.92-.59-1.43-.59-.52 0-1.04.2-1.43.59L10.3 9.45l-7.72 7.72c-.78.78-.78 2.05 0 2.83L4 21.41c.39.39.9.59 1.41.59.51 0 1.02-.2 1.41-.59l7.78-7.78 2.81-2.81c.8-.78.8-2.07 0-2.86zM5.41 20L4 18.59l7.72-7.72 1.47 1.35L5.41 20z\"/>\n",
       "  </svg>\n",
       "      </button>\n",
       "      \n",
       "  <style>\n",
       "    .colab-df-container {\n",
       "      display:flex;\n",
       "      flex-wrap:wrap;\n",
       "      gap: 12px;\n",
       "    }\n",
       "\n",
       "    .colab-df-convert {\n",
       "      background-color: #E8F0FE;\n",
       "      border: none;\n",
       "      border-radius: 50%;\n",
       "      cursor: pointer;\n",
       "      display: none;\n",
       "      fill: #1967D2;\n",
       "      height: 32px;\n",
       "      padding: 0 0 0 0;\n",
       "      width: 32px;\n",
       "    }\n",
       "\n",
       "    .colab-df-convert:hover {\n",
       "      background-color: #E2EBFA;\n",
       "      box-shadow: 0px 1px 2px rgba(60, 64, 67, 0.3), 0px 1px 3px 1px rgba(60, 64, 67, 0.15);\n",
       "      fill: #174EA6;\n",
       "    }\n",
       "\n",
       "    [theme=dark] .colab-df-convert {\n",
       "      background-color: #3B4455;\n",
       "      fill: #D2E3FC;\n",
       "    }\n",
       "\n",
       "    [theme=dark] .colab-df-convert:hover {\n",
       "      background-color: #434B5C;\n",
       "      box-shadow: 0px 1px 3px 1px rgba(0, 0, 0, 0.15);\n",
       "      filter: drop-shadow(0px 1px 2px rgba(0, 0, 0, 0.3));\n",
       "      fill: #FFFFFF;\n",
       "    }\n",
       "  </style>\n",
       "\n",
       "      <script>\n",
       "        const buttonEl =\n",
       "          document.querySelector('#df-7ec416dc-de2d-48a7-8a25-58998fb7280b button.colab-df-convert');\n",
       "        buttonEl.style.display =\n",
       "          google.colab.kernel.accessAllowed ? 'block' : 'none';\n",
       "\n",
       "        async function convertToInteractive(key) {\n",
       "          const element = document.querySelector('#df-7ec416dc-de2d-48a7-8a25-58998fb7280b');\n",
       "          const dataTable =\n",
       "            await google.colab.kernel.invokeFunction('convertToInteractive',\n",
       "                                                     [key], {});\n",
       "          if (!dataTable) return;\n",
       "\n",
       "          const docLinkHtml = 'Like what you see? Visit the ' +\n",
       "            '<a target=\"_blank\" href=https://colab.research.google.com/notebooks/data_table.ipynb>data table notebook</a>'\n",
       "            + ' to learn more about interactive tables.';\n",
       "          element.innerHTML = '';\n",
       "          dataTable['output_type'] = 'display_data';\n",
       "          await google.colab.output.renderOutput(dataTable, element);\n",
       "          const docLink = document.createElement('div');\n",
       "          docLink.innerHTML = docLinkHtml;\n",
       "          element.appendChild(docLink);\n",
       "        }\n",
       "      </script>\n",
       "    </div>\n",
       "  </div>\n",
       "  "
      ]
     },
     "metadata": {},
     "execution_count": 221
    }
   ]
  }
 ],
 "metadata": {
  "kernelspec": {
   "display_name": "Python 3",
   "language": "python",
   "name": "python3"
  },
  "language_info": {
   "codemirror_mode": {
    "name": "ipython",
    "version": 2
   },
   "file_extension": ".py",
   "mimetype": "text/x-python",
   "name": "python",
   "nbconvert_exporter": "python",
   "pygments_lexer": "ipython2",
   "version": "2.7.6"
  },
  "colab": {
   "provenance": []
  }
 },
 "nbformat": 4,
 "nbformat_minor": 0
}