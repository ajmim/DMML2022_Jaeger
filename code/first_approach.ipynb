{
 "cells": [
  {
   "cell_type": "markdown",
   "source": [
    "Importing libraries and modules."
   ],
   "metadata": {
    "collapsed": false,
    "pycharm": {
     "name": "#%% md\n"
    }
   },
   "outputs": []
  },
  {
   "cell_type": "code",
   "execution_count": 37,
   "outputs": [],
   "source": [
    "import pandas as pd\n",
    "import numpy as np\n",
    "\n",
    "#--------------------- SKLEARN -----------------------------------\n",
    "\n",
    "from sklearn.model_selection import train_test_split\n",
    "from sklearn.feature_extraction.text import CountVectorizer\n",
    "from sklearn.feature_extraction.text import TfidfTransformer, TfidfVectorizer\n",
    "from sklearn.metrics import classification_report\n",
    "from sklearn.preprocessing import LabelEncoder\n",
    "from sklearn.linear_model import LogisticRegression\n",
    "from sklearn.neighbors import KNeighborsClassifier\n",
    "from sklearn.tree import DecisionTreeClassifier\n",
    "from sklearn.ensemble import RandomForestClassifier\n",
    "from sklearn.pipeline import Pipeline\n",
    "\n",
    "\n",
    "\n",
    "#--------------------- OTHER -----------------------------------\n",
    "\n",
    "\n",
    "from xgboost import XGBClassifier\n",
    "from nltk.corpus import stopwords\n",
    "\n",
    "# ------------------ Files --------------------------------\n",
    "from functions import *\n",
    "from LightningModel import *"
   ],
   "metadata": {
    "collapsed": false,
    "pycharm": {
     "name": "#%%\n"
    }
   }
  },
  {
   "cell_type": "markdown",
   "source": [
    "Importing the data set and basic formatting. Then splitting the data into a training and testing set."
   ],
   "metadata": {
    "collapsed": false
   }
  },
  {
   "cell_type": "code",
   "execution_count": 38,
   "outputs": [],
   "source": [
    "url = \"https://raw.githubusercontent.com/Makxxx/data_dmmlProject/main/training_data.csv\"\n",
    "data = pd.read_csv(url, index_col=0, dtype=str)\n",
    "data.sentence = data.sentence.apply(lambda s: s.replace(\"'\", ' '))\n",
    "labels = data.difficulty.unique()\n",
    "num_labels = len(labels)\n",
    "data.difficulty = LabelEncoder().fit_transform(data.difficulty)\n",
    "#-------------------------------------------------------------------------------------------------\n",
    "X_train, X_test, y_train, y_test = train_test_split(data.sentence, data.difficulty, test_size=0.2)"
   ],
   "metadata": {
    "collapsed": false,
    "pycharm": {
     "name": "#%%\n"
    }
   }
  },
  {
   "cell_type": "markdown",
   "source": [
    "Creating pipelines and evaluating the models"
   ],
   "metadata": {
    "collapsed": false
   }
  },
  {
   "cell_type": "code",
   "execution_count": 39,
   "outputs": [],
   "source": [
    "import numpy as np\n",
    "from sklearn.feature_extraction.text import CountVectorizer, TfidfTransformer\n",
    "from sklearn.metrics import classification_report\n",
    "from sklearn.pipeline import Pipeline\n",
    "\n",
    "def create_and_train_pipeline(classifier, X_train, y_train):\n",
    "    pipe = Pipeline([\n",
    "        ('vect', CountVectorizer()),\n",
    "        ('tfidf', TfidfTransformer()),\n",
    "        ('clf', classifier()),\n",
    "    ])\n",
    "\n",
    "    pipe.fit(X_train, y_train)\n",
    "    return pipe\n",
    "\n",
    "\n",
    "def evaluate_clf(clf, X_test, y_test, labels, full=False):\n",
    "    predicted = clf.predict(X_test)\n",
    "    if full:\n",
    "        return classification_report(y_test, predicted, target_names=labels)\n",
    "    else:\n",
    "        return np.mean(y_test == predicted)"
   ],
   "metadata": {
    "collapsed": false,
    "pycharm": {
     "name": "#%%\n"
    }
   }
  },
  {
   "cell_type": "code",
   "execution_count": 42,
   "outputs": [
    {
     "name": "stdout",
     "output_type": "stream",
     "text": [
      "logistic               precision    recall  f1-score   support\n",
      "\n",
      "          C1       0.59      0.62      0.61       168\n",
      "          A1       0.44      0.42      0.43       160\n",
      "          B1       0.38      0.37      0.38       160\n",
      "          A2       0.51      0.36      0.42       167\n",
      "          B2       0.35      0.43      0.39       134\n",
      "          C2       0.48      0.56      0.52       171\n",
      "\n",
      "    accuracy                           0.46       960\n",
      "   macro avg       0.46      0.46      0.46       960\n",
      "weighted avg       0.46      0.46      0.46       960\n",
      "\n",
      "knn 0.31875\n",
      "dt 0.3145833333333333\n",
      "rf 0.4114583333333333\n",
      "xgb 0.42604166666666665\n"
     ]
    }
   ],
   "source": [
    "lr_clf = create_and_train_pipeline(LogisticRegression, X_train, y_train)\n",
    "knn_clf = create_and_train_pipeline(KNeighborsClassifier, X_train, y_train)\n",
    "dt_clf = create_and_train_pipeline(DecisionTreeClassifier, X_train, y_train)\n",
    "rf_clf = create_and_train_pipeline(RandomForestClassifier, X_train, y_train)\n",
    "xgb_clf = create_and_train_pipeline(XGBClassifier, X_train, y_train)\n",
    "\n",
    "print(\"logistic\", evaluate_clf(lr_clf, X_test, y_test, labels, full=True))\n",
    "print(\"knn\", evaluate_clf(knn_clf, X_test, y_test, labels))\n",
    "print(\"dt\", evaluate_clf(dt_clf, X_test, y_test, labels))\n",
    "print(\"rf\", evaluate_clf(rf_clf, X_test, y_test, labels))\n",
    "print(\"xgb\", evaluate_clf(xgb_clf, X_test, y_test, labels))"
   ],
   "metadata": {
    "collapsed": false,
    "pycharm": {
     "name": "#%%\n"
    }
   }
  },
  {
   "cell_type": "markdown",
   "source": [
    "# Camambert"
   ],
   "metadata": {
    "collapsed": false
   }
  },
  {
   "cell_type": "code",
   "execution_count": 41,
   "outputs": [],
   "source": [
    "#from transformers import AutoTokenizer\n",
    "#\n",
    "#tokenizer = AutoTokenizer.from_pretrained('camembert-base')\n",
    "\n",
    "\n"
   ],
   "metadata": {
    "collapsed": false,
    "pycharm": {
     "name": "#%%\n"
    }
   }
  }
 ],
 "metadata": {
  "kernelspec": {
   "display_name": "Python 3",
   "language": "python",
   "name": "python3"
  },
  "language_info": {
   "codemirror_mode": {
    "name": "ipython",
    "version": 2
   },
   "file_extension": ".py",
   "mimetype": "text/x-python",
   "name": "python",
   "nbconvert_exporter": "python",
   "pygments_lexer": "ipython2",
   "version": "2.7.6"
  }
 },
 "nbformat": 4,
 "nbformat_minor": 0
}